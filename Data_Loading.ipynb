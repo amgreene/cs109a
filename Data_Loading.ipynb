{
 "cells": [
  {
   "cell_type": "markdown",
   "metadata": {},
   "source": [
    "# Data Loading\n",
    "David Modjeska and Andrew Greene"
   ]
  },
  {
   "cell_type": "markdown",
   "metadata": {},
   "source": [
    "This notebook isolates the code we use to load the data and do some last-minute pre-processing on it."
   ]
  },
  {
   "cell_type": "code",
   "execution_count": 27,
   "metadata": {
    "collapsed": false
   },
   "outputs": [],
   "source": [
    "# Deal with our necessary importds\n",
    "\n",
    "import datetime\n",
    "import itertools as it\n",
    "import numpy as np\n",
    "import os.path as op\n",
    "import pandas as pd\n",
    "import scipy as sp\n",
    "import sklearn.preprocessing as Preprocessing\n",
    "\n",
    "from itertools import combinations\n",
    "from scipy.io import mmread\n",
    "from sklearn.decomposition import TruncatedSVD as tSVD\n",
    "from sklearn.feature_extraction.text import CountVectorizer\n",
    "from sklearn.feature_extraction.text import TfidfVectorizer\n",
    "\n",
    "from IPython.display import display, HTML"
   ]
  },
  {
   "cell_type": "code",
   "execution_count": 28,
   "metadata": {
    "collapsed": true
   },
   "outputs": [],
   "source": [
    "### specify processed data files to generate - full/partial, partial %, and train/test\n",
    "### Note: this cell is present in both notebooks\n",
    "\n",
    "# load and clean full dataset?\n",
    "load_full = True\n",
    "\n",
    "# if not loading and cleaning full dataset, what sample percentage?\n",
    "sample_percent = 10\n",
    "\n",
    "if load_full:\n",
    "    pct_str = \"\"\n",
    "else: # not load_full\n",
    "    pct_str = str(sample_percent) + \"_pct\"\n",
    "    \n",
    "### set intermediate file names\n",
    "dir_str = \"./intermediate_files/\"\n",
    "\n",
    "processed_data_file = dir_str + \"processed_data_\" + pct_str + \".json\"\n",
    "\n",
    "nlp_data_file = dir_str + \"nlp_data_\" + pct_str + \".json\"\n",
    "term_freqs_file = dir_str + \"term_freqs_\" + pct_str + \".mtx\"\n",
    "diff_terms_file = dir_str + \"diff_terms_\" + pct_str + \".json\""
   ]
  },
  {
   "cell_type": "code",
   "execution_count": 29,
   "metadata": {
    "collapsed": false
   },
   "outputs": [],
   "source": [
    "### load processed data\n",
    "data = pd.read_json(processed_data_file)\n",
    "data_nlp = pd.read_json(nlp_data_file)\n",
    "desc_matrix_coo = mmread(term_freqs_file)\n",
    "desc_matrix = sp.sparse.csr_matrix(desc_matrix_coo)\n",
    "count_cols_df = pd.read_json(diff_terms_file)\n",
    "\n",
    "count_cols_bool = count_cols_df.values > 0.0"
   ]
  },
  {
   "cell_type": "code",
   "execution_count": 30,
   "metadata": {
    "collapsed": false
   },
   "outputs": [
    {
     "name": "stdout",
     "output_type": "stream",
     "text": [
      "248445\n"
     ]
    }
   ],
   "source": [
    "print len(data) # Confirm that the number looks reasonable"
   ]
  },
  {
   "cell_type": "markdown",
   "metadata": {},
   "source": [
    "We want to do a little filtering here. As discussed in our writeup, we will limit ourselves to 36-month loans issued in the years 2011, 2012, and 2013"
   ]
  },
  {
   "cell_type": "code",
   "execution_count": 31,
   "metadata": {
    "collapsed": false
   },
   "outputs": [
    {
     "name": "stdout",
     "output_type": "stream",
     "text": [
      "113036\n"
     ]
    }
   ],
   "source": [
    "model_loan_term = 36\n",
    "data_filtered = data[data.loan_term == model_loan_term]\n",
    "data_filtered = data_filtered[pd.to_datetime(data_filtered.issue_date).dt.year.isin([2011,2012,2013])]\n",
    "print len(data_filtered)"
   ]
  },
  {
   "cell_type": "code",
   "execution_count": 32,
   "metadata": {
    "collapsed": false
   },
   "outputs": [
    {
     "data": {
      "text/plain": [
       "2013    55651\n",
       "2012    43291\n",
       "2011    14094\n",
       "Name: issue_date, dtype: int64"
      ]
     },
     "execution_count": 32,
     "metadata": {},
     "output_type": "execute_result"
    }
   ],
   "source": [
    "# Make sure we have a reasonable distribution of issue dates\n",
    "pd.to_datetime(data_filtered.issue_date).dt.year.value_counts()"
   ]
  },
  {
   "cell_type": "markdown",
   "metadata": {},
   "source": [
    "A quick top-level sanity-check of the data, using Pandas `describe` method (and transposing it so it first on screen better)"
   ]
  },
  {
   "cell_type": "code",
   "execution_count": 33,
   "metadata": {
    "collapsed": false
   },
   "outputs": [
    {
     "data": {
      "text/html": [
       "<div>\n",
       "<table border=\"1\" class=\"dataframe\">\n",
       "  <thead>\n",
       "    <tr style=\"text-align: right;\">\n",
       "      <th></th>\n",
       "      <th>count</th>\n",
       "      <th>mean</th>\n",
       "      <th>std</th>\n",
       "      <th>min</th>\n",
       "      <th>25%</th>\n",
       "      <th>50%</th>\n",
       "      <th>75%</th>\n",
       "      <th>max</th>\n",
       "    </tr>\n",
       "  </thead>\n",
       "  <tbody>\n",
       "    <tr>\n",
       "      <th>annual_income</th>\n",
       "      <td>113036.0</td>\n",
       "      <td>6.921499e+04</td>\n",
       "      <td>5.510686e+04</td>\n",
       "      <td>5.000000e+03</td>\n",
       "      <td>4.200000e+04</td>\n",
       "      <td>6.000000e+04</td>\n",
       "      <td>8.400000e+04</td>\n",
       "      <td>7.141778e+06</td>\n",
       "    </tr>\n",
       "    <tr>\n",
       "      <th>cpi</th>\n",
       "      <td>113036.0</td>\n",
       "      <td>2.129988e-02</td>\n",
       "      <td>4.216919e-04</td>\n",
       "      <td>2.069586e-02</td>\n",
       "      <td>2.092455e-02</td>\n",
       "      <td>2.132450e-02</td>\n",
       "      <td>2.166711e-02</td>\n",
       "      <td>2.224093e-02</td>\n",
       "    </tr>\n",
       "    <tr>\n",
       "      <th>delinq_2_yrs</th>\n",
       "      <td>113036.0</td>\n",
       "      <td>1.836672e-01</td>\n",
       "      <td>4.823224e-01</td>\n",
       "      <td>0.000000e+00</td>\n",
       "      <td>0.000000e+00</td>\n",
       "      <td>0.000000e+00</td>\n",
       "      <td>0.000000e+00</td>\n",
       "      <td>2.000000e+00</td>\n",
       "    </tr>\n",
       "    <tr>\n",
       "      <th>desc_len</th>\n",
       "      <td>55475.0</td>\n",
       "      <td>2.504107e+02</td>\n",
       "      <td>2.130638e+02</td>\n",
       "      <td>1.000000e+00</td>\n",
       "      <td>NaN</td>\n",
       "      <td>NaN</td>\n",
       "      <td>NaN</td>\n",
       "      <td>4.544000e+03</td>\n",
       "    </tr>\n",
       "    <tr>\n",
       "      <th>dti</th>\n",
       "      <td>113036.0</td>\n",
       "      <td>2.434881e-03</td>\n",
       "      <td>1.135287e-03</td>\n",
       "      <td>0.000000e+00</td>\n",
       "      <td>1.573580e-03</td>\n",
       "      <td>2.389671e-03</td>\n",
       "      <td>3.261903e-03</td>\n",
       "      <td>5.471250e-03</td>\n",
       "    </tr>\n",
       "    <tr>\n",
       "      <th>gdp</th>\n",
       "      <td>113036.0</td>\n",
       "      <td>9.997262e-01</td>\n",
       "      <td>3.291451e-05</td>\n",
       "      <td>9.995987e-01</td>\n",
       "      <td>9.997034e-01</td>\n",
       "      <td>9.997310e-01</td>\n",
       "      <td>9.997524e-01</td>\n",
       "      <td>9.997853e-01</td>\n",
       "    </tr>\n",
       "    <tr>\n",
       "      <th>id</th>\n",
       "      <td>113036.0</td>\n",
       "      <td>3.617546e+06</td>\n",
       "      <td>2.745902e+06</td>\n",
       "      <td>5.852400e+04</td>\n",
       "      <td>1.340982e+06</td>\n",
       "      <td>2.379720e+06</td>\n",
       "      <td>5.864691e+06</td>\n",
       "      <td>1.023482e+07</td>\n",
       "    </tr>\n",
       "    <tr>\n",
       "      <th>inquiry_6_mos</th>\n",
       "      <td>113036.0</td>\n",
       "      <td>7.937383e-01</td>\n",
       "      <td>9.533926e-01</td>\n",
       "      <td>0.000000e+00</td>\n",
       "      <td>0.000000e+00</td>\n",
       "      <td>0.000000e+00</td>\n",
       "      <td>1.000000e+00</td>\n",
       "      <td>3.000000e+00</td>\n",
       "    </tr>\n",
       "    <tr>\n",
       "      <th>installment</th>\n",
       "      <td>113036.0</td>\n",
       "      <td>3.997329e+02</td>\n",
       "      <td>2.458612e+02</td>\n",
       "      <td>3.016000e+01</td>\n",
       "      <td>2.191300e+02</td>\n",
       "      <td>3.433900e+02</td>\n",
       "      <td>5.161000e+02</td>\n",
       "      <td>1.408130e+03</td>\n",
       "    </tr>\n",
       "    <tr>\n",
       "      <th>interest_rate</th>\n",
       "      <td>113036.0</td>\n",
       "      <td>1.283115e+01</td>\n",
       "      <td>3.939403e+00</td>\n",
       "      <td>5.420000e+00</td>\n",
       "      <td>9.990000e+00</td>\n",
       "      <td>1.299000e+01</td>\n",
       "      <td>1.561000e+01</td>\n",
       "      <td>2.589000e+01</td>\n",
       "    </tr>\n",
       "    <tr>\n",
       "      <th>ipr</th>\n",
       "      <td>113036.0</td>\n",
       "      <td>1.182930e-05</td>\n",
       "      <td>6.395633e-06</td>\n",
       "      <td>1.276000e-07</td>\n",
       "      <td>6.902600e-06</td>\n",
       "      <td>1.085420e-05</td>\n",
       "      <td>1.590647e-05</td>\n",
       "      <td>4.245340e-05</td>\n",
       "    </tr>\n",
       "    <tr>\n",
       "      <th>loan_amount</th>\n",
       "      <td>113036.0</td>\n",
       "      <td>1.187892e+04</td>\n",
       "      <td>7.190807e+03</td>\n",
       "      <td>1.000000e+03</td>\n",
       "      <td>6.500000e+03</td>\n",
       "      <td>1.000000e+04</td>\n",
       "      <td>1.500000e+04</td>\n",
       "      <td>3.500000e+04</td>\n",
       "    </tr>\n",
       "    <tr>\n",
       "      <th>loan_subgrade</th>\n",
       "      <td>113036.0</td>\n",
       "      <td>8.940851e+00</td>\n",
       "      <td>5.413595e+00</td>\n",
       "      <td>1.000000e+00</td>\n",
       "      <td>6.000000e+00</td>\n",
       "      <td>7.000000e+00</td>\n",
       "      <td>1.200000e+01</td>\n",
       "      <td>3.400000e+01</td>\n",
       "    </tr>\n",
       "    <tr>\n",
       "      <th>loan_term</th>\n",
       "      <td>113036.0</td>\n",
       "      <td>3.600000e+01</td>\n",
       "      <td>0.000000e+00</td>\n",
       "      <td>3.600000e+01</td>\n",
       "      <td>3.600000e+01</td>\n",
       "      <td>3.600000e+01</td>\n",
       "      <td>3.600000e+01</td>\n",
       "      <td>3.600000e+01</td>\n",
       "    </tr>\n",
       "    <tr>\n",
       "      <th>months_since_last_record</th>\n",
       "      <td>9377.0</td>\n",
       "      <td>8.605812e+01</td>\n",
       "      <td>2.595102e+01</td>\n",
       "      <td>1.000000e+00</td>\n",
       "      <td>NaN</td>\n",
       "      <td>NaN</td>\n",
       "      <td>NaN</td>\n",
       "      <td>1.210000e+02</td>\n",
       "    </tr>\n",
       "    <tr>\n",
       "      <th>open_accounts</th>\n",
       "      <td>113036.0</td>\n",
       "      <td>1.054760e+01</td>\n",
       "      <td>4.534781e+00</td>\n",
       "      <td>1.000000e+00</td>\n",
       "      <td>7.000000e+00</td>\n",
       "      <td>1.000000e+01</td>\n",
       "      <td>1.300000e+01</td>\n",
       "      <td>5.200000e+01</td>\n",
       "    </tr>\n",
       "    <tr>\n",
       "      <th>recoveries</th>\n",
       "      <td>113036.0</td>\n",
       "      <td>1.047543e+02</td>\n",
       "      <td>5.218895e+02</td>\n",
       "      <td>0.000000e+00</td>\n",
       "      <td>0.000000e+00</td>\n",
       "      <td>0.000000e+00</td>\n",
       "      <td>0.000000e+00</td>\n",
       "      <td>3.190052e+04</td>\n",
       "    </tr>\n",
       "    <tr>\n",
       "      <th>revol_util</th>\n",
       "      <td>113036.0</td>\n",
       "      <td>8.452044e-03</td>\n",
       "      <td>3.696349e-03</td>\n",
       "      <td>0.000000e+00</td>\n",
       "      <td>5.836001e-03</td>\n",
       "      <td>8.742806e-03</td>\n",
       "      <td>1.135787e-02</td>\n",
       "      <td>1.854648e-02</td>\n",
       "    </tr>\n",
       "    <tr>\n",
       "      <th>rir</th>\n",
       "      <td>113036.0</td>\n",
       "      <td>4.071182e-04</td>\n",
       "      <td>3.173235e-04</td>\n",
       "      <td>0.000000e+00</td>\n",
       "      <td>1.936653e-04</td>\n",
       "      <td>3.414127e-04</td>\n",
       "      <td>5.425116e-04</td>\n",
       "      <td>7.747775e-03</td>\n",
       "    </tr>\n",
       "    <tr>\n",
       "      <th>total_accounts</th>\n",
       "      <td>113036.0</td>\n",
       "      <td>2.369632e+01</td>\n",
       "      <td>1.112178e+01</td>\n",
       "      <td>2.000000e+00</td>\n",
       "      <td>1.500000e+01</td>\n",
       "      <td>2.200000e+01</td>\n",
       "      <td>3.000000e+01</td>\n",
       "      <td>9.100000e+01</td>\n",
       "    </tr>\n",
       "    <tr>\n",
       "      <th>total_rec_int</th>\n",
       "      <td>113036.0</td>\n",
       "      <td>1.812548e+03</td>\n",
       "      <td>1.561554e+03</td>\n",
       "      <td>0.000000e+00</td>\n",
       "      <td>7.650900e+02</td>\n",
       "      <td>1.412315e+03</td>\n",
       "      <td>2.362185e+03</td>\n",
       "      <td>1.660270e+04</td>\n",
       "    </tr>\n",
       "    <tr>\n",
       "      <th>total_rec_late_fee</th>\n",
       "      <td>113036.0</td>\n",
       "      <td>6.581515e-01</td>\n",
       "      <td>5.059143e+00</td>\n",
       "      <td>0.000000e+00</td>\n",
       "      <td>0.000000e+00</td>\n",
       "      <td>0.000000e+00</td>\n",
       "      <td>0.000000e+00</td>\n",
       "      <td>2.946800e+02</td>\n",
       "    </tr>\n",
       "    <tr>\n",
       "      <th>total_rec_prncp</th>\n",
       "      <td>113036.0</td>\n",
       "      <td>1.075944e+04</td>\n",
       "      <td>7.330026e+03</td>\n",
       "      <td>0.000000e+00</td>\n",
       "      <td>5.318395e+03</td>\n",
       "      <td>9.600000e+03</td>\n",
       "      <td>1.500000e+04</td>\n",
       "      <td>3.500002e+04</td>\n",
       "    </tr>\n",
       "    <tr>\n",
       "      <th>unemploy</th>\n",
       "      <td>113036.0</td>\n",
       "      <td>1.073286e-03</td>\n",
       "      <td>6.926103e-05</td>\n",
       "      <td>9.665647e-04</td>\n",
       "      <td>9.991521e-04</td>\n",
       "      <td>1.081487e-03</td>\n",
       "      <td>1.139510e-03</td>\n",
       "      <td>1.168791e-03</td>\n",
       "    </tr>\n",
       "    <tr>\n",
       "      <th>verif_status</th>\n",
       "      <td>0.0</td>\n",
       "      <td>NaN</td>\n",
       "      <td>NaN</td>\n",
       "      <td>NaN</td>\n",
       "      <td>NaN</td>\n",
       "      <td>NaN</td>\n",
       "      <td>NaN</td>\n",
       "      <td>NaN</td>\n",
       "    </tr>\n",
       "  </tbody>\n",
       "</table>\n",
       "</div>"
      ],
      "text/plain": [
       "                             count          mean           std           min  \\\n",
       "annual_income             113036.0  6.921499e+04  5.510686e+04  5.000000e+03   \n",
       "cpi                       113036.0  2.129988e-02  4.216919e-04  2.069586e-02   \n",
       "delinq_2_yrs              113036.0  1.836672e-01  4.823224e-01  0.000000e+00   \n",
       "desc_len                   55475.0  2.504107e+02  2.130638e+02  1.000000e+00   \n",
       "dti                       113036.0  2.434881e-03  1.135287e-03  0.000000e+00   \n",
       "gdp                       113036.0  9.997262e-01  3.291451e-05  9.995987e-01   \n",
       "id                        113036.0  3.617546e+06  2.745902e+06  5.852400e+04   \n",
       "inquiry_6_mos             113036.0  7.937383e-01  9.533926e-01  0.000000e+00   \n",
       "installment               113036.0  3.997329e+02  2.458612e+02  3.016000e+01   \n",
       "interest_rate             113036.0  1.283115e+01  3.939403e+00  5.420000e+00   \n",
       "ipr                       113036.0  1.182930e-05  6.395633e-06  1.276000e-07   \n",
       "loan_amount               113036.0  1.187892e+04  7.190807e+03  1.000000e+03   \n",
       "loan_subgrade             113036.0  8.940851e+00  5.413595e+00  1.000000e+00   \n",
       "loan_term                 113036.0  3.600000e+01  0.000000e+00  3.600000e+01   \n",
       "months_since_last_record    9377.0  8.605812e+01  2.595102e+01  1.000000e+00   \n",
       "open_accounts             113036.0  1.054760e+01  4.534781e+00  1.000000e+00   \n",
       "recoveries                113036.0  1.047543e+02  5.218895e+02  0.000000e+00   \n",
       "revol_util                113036.0  8.452044e-03  3.696349e-03  0.000000e+00   \n",
       "rir                       113036.0  4.071182e-04  3.173235e-04  0.000000e+00   \n",
       "total_accounts            113036.0  2.369632e+01  1.112178e+01  2.000000e+00   \n",
       "total_rec_int             113036.0  1.812548e+03  1.561554e+03  0.000000e+00   \n",
       "total_rec_late_fee        113036.0  6.581515e-01  5.059143e+00  0.000000e+00   \n",
       "total_rec_prncp           113036.0  1.075944e+04  7.330026e+03  0.000000e+00   \n",
       "unemploy                  113036.0  1.073286e-03  6.926103e-05  9.665647e-04   \n",
       "verif_status                   0.0           NaN           NaN           NaN   \n",
       "\n",
       "                                   25%           50%           75%  \\\n",
       "annual_income             4.200000e+04  6.000000e+04  8.400000e+04   \n",
       "cpi                       2.092455e-02  2.132450e-02  2.166711e-02   \n",
       "delinq_2_yrs              0.000000e+00  0.000000e+00  0.000000e+00   \n",
       "desc_len                           NaN           NaN           NaN   \n",
       "dti                       1.573580e-03  2.389671e-03  3.261903e-03   \n",
       "gdp                       9.997034e-01  9.997310e-01  9.997524e-01   \n",
       "id                        1.340982e+06  2.379720e+06  5.864691e+06   \n",
       "inquiry_6_mos             0.000000e+00  0.000000e+00  1.000000e+00   \n",
       "installment               2.191300e+02  3.433900e+02  5.161000e+02   \n",
       "interest_rate             9.990000e+00  1.299000e+01  1.561000e+01   \n",
       "ipr                       6.902600e-06  1.085420e-05  1.590647e-05   \n",
       "loan_amount               6.500000e+03  1.000000e+04  1.500000e+04   \n",
       "loan_subgrade             6.000000e+00  7.000000e+00  1.200000e+01   \n",
       "loan_term                 3.600000e+01  3.600000e+01  3.600000e+01   \n",
       "months_since_last_record           NaN           NaN           NaN   \n",
       "open_accounts             7.000000e+00  1.000000e+01  1.300000e+01   \n",
       "recoveries                0.000000e+00  0.000000e+00  0.000000e+00   \n",
       "revol_util                5.836001e-03  8.742806e-03  1.135787e-02   \n",
       "rir                       1.936653e-04  3.414127e-04  5.425116e-04   \n",
       "total_accounts            1.500000e+01  2.200000e+01  3.000000e+01   \n",
       "total_rec_int             7.650900e+02  1.412315e+03  2.362185e+03   \n",
       "total_rec_late_fee        0.000000e+00  0.000000e+00  0.000000e+00   \n",
       "total_rec_prncp           5.318395e+03  9.600000e+03  1.500000e+04   \n",
       "unemploy                  9.991521e-04  1.081487e-03  1.139510e-03   \n",
       "verif_status                       NaN           NaN           NaN   \n",
       "\n",
       "                                   max  \n",
       "annual_income             7.141778e+06  \n",
       "cpi                       2.224093e-02  \n",
       "delinq_2_yrs              2.000000e+00  \n",
       "desc_len                  4.544000e+03  \n",
       "dti                       5.471250e-03  \n",
       "gdp                       9.997853e-01  \n",
       "id                        1.023482e+07  \n",
       "inquiry_6_mos             3.000000e+00  \n",
       "installment               1.408130e+03  \n",
       "interest_rate             2.589000e+01  \n",
       "ipr                       4.245340e-05  \n",
       "loan_amount               3.500000e+04  \n",
       "loan_subgrade             3.400000e+01  \n",
       "loan_term                 3.600000e+01  \n",
       "months_since_last_record  1.210000e+02  \n",
       "open_accounts             5.200000e+01  \n",
       "recoveries                3.190052e+04  \n",
       "revol_util                1.854648e-02  \n",
       "rir                       7.747775e-03  \n",
       "total_accounts            9.100000e+01  \n",
       "total_rec_int             1.660270e+04  \n",
       "total_rec_late_fee        2.946800e+02  \n",
       "total_rec_prncp           3.500002e+04  \n",
       "unemploy                  1.168791e-03  \n",
       "verif_status                       NaN  "
      ]
     },
     "execution_count": 33,
     "metadata": {},
     "output_type": "execute_result"
    }
   ],
   "source": [
    "data_filtered.describe().T"
   ]
  },
  {
   "cell_type": "markdown",
   "metadata": {},
   "source": [
    "We need to make a couple of adjustments to columns"
   ]
  },
  {
   "cell_type": "code",
   "execution_count": 34,
   "metadata": {
    "collapsed": false
   },
   "outputs": [],
   "source": [
    "# earliest_credit is not really a good indicator -- we want to know how long has elapsed since then\n",
    "# See http://stackoverflow.com/questions/17414130/pandas-datetime-calculate-number-of-weeks-between-dates-in-two-columns\n",
    "data_filtered['months_since_earliest_credit'] = (\n",
    "    (pd.to_datetime(data_filtered.issue_date) - pd.to_datetime(data_filtered.earliest_credit))/np.timedelta64(1,'M')\n",
    ").round()"
   ]
  },
  {
   "cell_type": "code",
   "execution_count": 35,
   "metadata": {
    "collapsed": true
   },
   "outputs": [],
   "source": [
    "# Separate the predictors (everything except \"loan status\") and the outcome\n",
    "data_filtered_x = data_filtered.drop('loan_status', axis = 1)\n",
    "data_filtered_y = data_filtered['loan_status']"
   ]
  },
  {
   "cell_type": "code",
   "execution_count": 36,
   "metadata": {
    "collapsed": false
   },
   "outputs": [],
   "source": [
    "# copy unstandardized columns for later profit calculation\n",
    "profit_data = data_filtered_x[['installment', 'loan_amount', 'recoveries', 'total_rec_int', 'total_rec_late_fee',\n",
    "                              'total_rec_prncp']]\n",
    "recoveries_avg = profit_data.recoveries.sum() / float(np.count_nonzero(profit_data.recoveries))"
   ]
  },
  {
   "cell_type": "markdown",
   "metadata": {},
   "source": [
    "Standardize the data. (See the comment below for a detailed explanation of what that means)"
   ]
  },
  {
   "cell_type": "code",
   "execution_count": 37,
   "metadata": {
    "collapsed": true
   },
   "outputs": [],
   "source": [
    "# Certain columns in the raw data should not be in our model\n",
    "columns_not_to_expand = [\n",
    "    'description',        # free-text, so don't one-hot encode (NLP is separate)\n",
    "    'verif_status',       # not sure why this is posing a problem....\n",
    "    'loan_subgrade',      # tainted predictor\n",
    "    'id',                 # unique to each row\n",
    "    'interest_rate',      # tainted predictor\n",
    "    'index',              # unique to each row\n",
    "    'issue_date',         # not useful in future, using economic indicators instead\n",
    "    'earliest_credit',    # has been converted to months_since_earliest_credit\n",
    "    'recoveries',         # post hoc for profit calculation only\n",
    "    'total_rec_int',      # post hoc for profit calculation only\n",
    "    'total_rec_late_fee', # post hoc for profit calculation only\n",
    "    'total_rec_prncp',    # post hoc for profit calculation only    \n",
    "]"
   ]
  },
  {
   "cell_type": "code",
   "execution_count": 38,
   "metadata": {
    "collapsed": false
   },
   "outputs": [],
   "source": [
    "# Given an input matrix X and the equivalent matrix X from the training set,\n",
    "#\n",
    "# (1) impute missing values (as \"MISSING\" for categorical, since the fact that \n",
    "# the value is missing may itself be significant; and using the median value\n",
    "# for continuous predictors)\n",
    "#\n",
    "# (2) expand categorical predictors into a set of one-hot-encoded columns \n",
    "# (using 0 and 1, and limiting ourselves to the 50 most common values in the\n",
    "# training set)\n",
    "#\n",
    "# (3) standardize continuous predictors using the mean and stdev of the\n",
    "# training set\n",
    "\n",
    "def expand_x(x, x_orig):\n",
    "    x_expanded = pd.DataFrame()\n",
    "    for colname in x_orig.columns:\n",
    "        if colname in columns_not_to_expand:\n",
    "            continue\n",
    "        print colname, x_orig[colname].dtype\n",
    "        if x_orig[colname].dtype == 'object':\n",
    "            values = x[colname].fillna('MISSING')\n",
    "            value_columns = x_orig[colname].fillna('MISSING').value_counts().index\n",
    "            if len(value_columns) > 50:\n",
    "                value_columns = value_columns[:50]\n",
    "            for val in value_columns:\n",
    "                x_expanded[colname + '__' + val.replace(' ', '_')] = (values == val).astype(int)\n",
    "        else:\n",
    "            values = x[colname].fillna(x[colname].median())\n",
    "            sd = np.nanstd(x_orig[colname])\n",
    "            if sd < 1e-10:\n",
    "                sd = 1\n",
    "            x_expanded[colname] = (values - np.nanmean(x_orig[colname]))/sd\n",
    "    return x_expanded"
   ]
  },
  {
   "cell_type": "markdown",
   "metadata": {},
   "source": [
    "### Split Data"
   ]
  },
  {
   "cell_type": "code",
   "execution_count": 55,
   "metadata": {
    "collapsed": false
   },
   "outputs": [
    {
     "name": "stdout",
     "output_type": "stream",
     "text": [
      "Indexes computed\n",
      "\n",
      "address_state object\n",
      "annual_income float64\n",
      "cpi float64\n",
      "delinq_2_yrs int64\n",
      "desc_len float64\n",
      "dti float64\n",
      "employ_length object\n",
      "employ_title object\n",
      "gdp float64\n",
      "home_owner object\n",
      "initial_list_status object\n",
      "inquiry_6_mos int64\n",
      "installment float64\n",
      "ipr float64\n",
      "loan_amount int64\n",
      "loan_purpose object\n",
      "loan_term int64\n",
      "months_since_last_record float64\n",
      "open_accounts int64\n",
      "revol_util float64\n",
      "rir float64\n",
      "total_accounts int64\n",
      "unemploy float64\n",
      "months_since_earliest_credit float64\n",
      "(Training set has 28182 rows)\n",
      "\n",
      "address_state object\n",
      "annual_income float64\n",
      "cpi float64\n",
      "delinq_2_yrs int64\n",
      "desc_len float64\n",
      "dti float64\n",
      "employ_length object\n",
      "employ_title object\n",
      "gdp float64\n",
      "home_owner object\n",
      "initial_list_status object\n",
      "inquiry_6_mos int64\n",
      "installment float64\n",
      "ipr float64\n",
      "loan_amount int64\n",
      "loan_purpose object\n",
      "loan_term int64\n",
      "months_since_last_record float64\n",
      "open_accounts int64\n",
      "revol_util float64\n",
      "rir float64\n",
      "total_accounts int64\n",
      "unemploy float64\n",
      "months_since_earliest_credit float64\n",
      "(Test set has 84854 rows)\n"
     ]
    }
   ],
   "source": [
    "# Get a more manageable sample\n",
    "np.random.seed(1729)\n",
    "sample_flags = np.random.random(len(data_filtered)) <= 0.25\n",
    "print \"Indexes computed\\n\" \n",
    "\n",
    "# train set\n",
    "x_train = data_filtered_x.iloc[sample_flags, :]\n",
    "x_expanded = expand_x(x_train, x_train)\n",
    "print \"(Training set has %d rows)\\n\" % (len(x_expanded),)\n",
    "\n",
    "# test set\n",
    "x_test_expanded = expand_x(data_filtered_x.iloc[~sample_flags, :], x_train)\n",
    "print \"(Test set has %d rows)\" % (len(x_test_expanded),)"
   ]
  },
  {
   "cell_type": "code",
   "execution_count": 40,
   "metadata": {
    "collapsed": true
   },
   "outputs": [],
   "source": [
    "# split response column\n",
    "y = data_filtered_y.iloc[sample_flags]\n",
    "y_test = data_filtered_y.iloc[~sample_flags]"
   ]
  },
  {
   "cell_type": "code",
   "execution_count": 41,
   "metadata": {
    "collapsed": false
   },
   "outputs": [],
   "source": [
    "# split profit data\n",
    "profit_data_train = profit_data.iloc[sample_flags, :]\n",
    "profit_data_test = profit_data.iloc[~sample_flags, :]"
   ]
  },
  {
   "cell_type": "code",
   "execution_count": 42,
   "metadata": {
    "collapsed": false
   },
   "outputs": [],
   "source": [
    "### filter NLP data\n",
    "filter_flags = data_nlp.loan_term.values == model_loan_term\n",
    "data_nlp_filtered = data_nlp.iloc[filter_flags]\n",
    "\n",
    "x_nlp_filtered = data_nlp_filtered.drop('loan_status', 1)\n",
    "y_nlp_filtered = data_nlp_filtered.loan_status\n",
    "\n",
    "desc_matrix_filtered = desc_matrix[filter_flags]\n",
    "count_cols_bool_filtered = count_cols_bool[filter_flags]"
   ]
  },
  {
   "cell_type": "code",
   "execution_count": 43,
   "metadata": {
    "collapsed": false
   },
   "outputs": [],
   "source": [
    "### split NLP data into training and testing sets\n",
    "np.random.seed(1729)\n",
    "train_flags = np.random.random(data_nlp_filtered.shape[0]) < 0.7\n",
    "\n",
    "x_nlp_train = x_nlp_filtered.iloc[train_flags, :]\n",
    "y_nlp_train = y_nlp_filtered.iloc[train_flags]\n",
    "\n",
    "x_nlp_test = x_nlp_filtered.iloc[~train_flags, :]\n",
    "y_nlp_test = y_nlp_filtered.iloc[~train_flags]\n",
    "\n",
    "desc_matrix_train = pd.DataFrame(desc_matrix_filtered[train_flags, :].toarray())\n",
    "desc_matrix_test = pd.DataFrame(desc_matrix_filtered[~train_flags, :].toarray())\n",
    "\n",
    "count_cols_bool_train = pd.DataFrame(count_cols_bool_filtered[train_flags, :])\n",
    "count_cols_bool_test = pd.DataFrame(count_cols_bool_filtered[~train_flags, :])\n",
    "\n",
    "years_nlp = pd.to_datetime(x_nlp_train.issue_date).dt.year\n",
    "years_nlp_test = pd.to_datetime(x_nlp_test.issue_date).dt.year"
   ]
  },
  {
   "cell_type": "code",
   "execution_count": 44,
   "metadata": {
    "collapsed": true
   },
   "outputs": [],
   "source": [
    "### match indexes\n",
    "\n",
    "desc_matrix_train.index = x_nlp_train.index\n",
    "desc_matrix_test.index = x_nlp_test.index\n",
    "\n",
    "count_cols_bool_train.index = x_nlp_train.index\n",
    "count_cols_bool_test.index = x_nlp_test.index"
   ]
  },
  {
   "cell_type": "code",
   "execution_count": 45,
   "metadata": {
    "collapsed": false
   },
   "outputs": [
    {
     "data": {
      "text/plain": [
       "False    71986\n",
       "True     12868\n",
       "Name: loan_status, dtype: int64"
      ]
     },
     "execution_count": 45,
     "metadata": {},
     "output_type": "execute_result"
    }
   ],
   "source": [
    "# inspect test proportion of good/bad loans\n",
    "y_test.value_counts()"
   ]
  },
  {
   "cell_type": "code",
   "execution_count": 46,
   "metadata": {
    "collapsed": false
   },
   "outputs": [
    {
     "data": {
      "text/plain": [
       "28182"
      ]
     },
     "execution_count": 46,
     "metadata": {},
     "output_type": "execute_result"
    }
   ],
   "source": [
    "# verify size of train set\n",
    "np.count_nonzero(x_expanded.loan_amount)"
   ]
  },
  {
   "cell_type": "code",
   "execution_count": 47,
   "metadata": {
    "collapsed": false
   },
   "outputs": [],
   "source": [
    "# be prepared to split stuff up by year of issue\n",
    "years = pd.to_datetime(data_filtered_x.issue_date.iloc[sample_flags]).dt.year\n",
    "years_test = pd.to_datetime(data_filtered_x.issue_date.iloc[~sample_flags]).dt.year"
   ]
  },
  {
   "cell_type": "markdown",
   "metadata": {},
   "source": [
    "### Apply PCA to predictors"
   ]
  },
  {
   "cell_type": "code",
   "execution_count": 48,
   "metadata": {
    "collapsed": false
   },
   "outputs": [
    {
     "name": "stdout",
     "output_type": "stream",
     "text": [
      "address_state object\n",
      "annual_income float64\n",
      "cpi float64\n",
      "delinq_2_yrs int64\n",
      "desc_len float64\n",
      "dti float64\n",
      "employ_length object\n",
      "employ_title object\n",
      "gdp float64\n",
      "home_owner object\n",
      "initial_list_status object\n",
      "inquiry_6_mos int64\n",
      "installment float64\n",
      "ipr float64\n",
      "loan_amount int64\n",
      "loan_purpose object\n",
      "loan_term int64\n",
      "months_since_last_record float64\n",
      "open_accounts int64\n",
      "revol_util float64\n",
      "rir float64\n",
      "total_accounts int64\n",
      "unemploy float64\n",
      "months_since_earliest_credit float64\n"
     ]
    }
   ],
   "source": [
    "tsvd = tSVD(n_components = 100, random_state=1729)\n",
    "tsvd.fit(x_expanded)\n",
    "data_filtered_expanded_x_pca = pd.DataFrame(tsvd.transform(expand_x(data_filtered_x, x_train)))\n",
    "data_filtered_expanded_x_pca.index = data_filtered_x.index\n",
    "pca_cum_var_expl = np.cumsum(np.round(tsvd.explained_variance_ratio_, 4) * 100)"
   ]
  },
  {
   "cell_type": "code",
   "execution_count": 49,
   "metadata": {
    "collapsed": false
   },
   "outputs": [
    {
     "name": "stdout",
     "output_type": "stream",
     "text": [
      "max variance explained 99.71\n",
      "PCA: first and last columns where % variance explained >= 99: [63 99]\n"
     ]
    }
   ],
   "source": [
    "print \"max variance explained\", pca_cum_var_expl.max()\n",
    "print \"PCA: first and last columns where % variance explained >= 99:\", \\\n",
    "            np.where(pca_cum_var_expl >= 99)[0][[0, -1]]\n",
    "\n",
    "x_expanded_pca = data_filtered_expanded_x_pca.iloc[sample_flags, :73]\n",
    "x_test_expanded_pca = data_filtered_expanded_x_pca.iloc[~sample_flags, :73]"
   ]
  },
  {
   "cell_type": "code",
   "execution_count": 50,
   "metadata": {
    "collapsed": false
   },
   "outputs": [],
   "source": [
    "tsvd = tSVD(n_components = 500, random_state=1729)\n",
    "desc_matrix_filtered_pca = pd.DataFrame(tsvd.fit_transform(desc_matrix_filtered))\n",
    "desc_matrix_filtered_pca.index = x_nlp_filtered.index\n",
    "pca_cum_var_expl = np.cumsum(np.round(tsvd.explained_variance_ratio_, 4) * 100)"
   ]
  },
  {
   "cell_type": "code",
   "execution_count": 51,
   "metadata": {
    "collapsed": false
   },
   "outputs": [
    {
     "name": "stdout",
     "output_type": "stream",
     "text": [
      "max variance explained 84.41\n",
      "PCA: first and last columns where % variance explained >= 84: [247 499]\n"
     ]
    }
   ],
   "source": [
    "print \"max variance explained\", pca_cum_var_expl.max()\n",
    "print \"PCA: first and last columns where % variance explained >= 84:\", \\\n",
    "            np.where(pca_cum_var_expl >= 84)[0][[0, -1]]"
   ]
  },
  {
   "cell_type": "code",
   "execution_count": 52,
   "metadata": {
    "collapsed": true
   },
   "outputs": [],
   "source": [
    "desc_matrix_pca = desc_matrix_filtered_pca.iloc[train_flags, :]\n",
    "desc_matrix_test_pca = desc_matrix_filtered_pca.iloc[~train_flags, :]"
   ]
  },
  {
   "cell_type": "code",
   "execution_count": null,
   "metadata": {
    "collapsed": true
   },
   "outputs": [],
   "source": []
  }
 ],
 "metadata": {
  "anaconda-cloud": {},
  "kernelspec": {
   "display_name": "Python [conda root]",
   "language": "python",
   "name": "conda-root-py"
  },
  "language_info": {
   "codemirror_mode": {
    "name": "ipython",
    "version": 2
   },
   "file_extension": ".py",
   "mimetype": "text/x-python",
   "name": "python",
   "nbconvert_exporter": "python",
   "pygments_lexer": "ipython2",
   "version": "2.7.12"
  }
 },
 "nbformat": 4,
 "nbformat_minor": 0
}
