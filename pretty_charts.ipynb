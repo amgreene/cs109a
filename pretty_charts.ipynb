{
 "cells": [
  {
   "cell_type": "code",
   "execution_count": 2,
   "metadata": {
    "collapsed": true
   },
   "outputs": [],
   "source": [
    "import itertools as it\n",
    "import matplotlib\n",
    "import matplotlib.cm as cmx\n",
    "import matplotlib.colors as colors\n",
    "import matplotlib.pyplot as plt\n",
    "import numpy as np\n",
    "import os.path as op\n",
    "import pandas as pd\n",
    "import scipy as sp\n",
    "import sklearn.preprocessing as Preprocessing\n",
    "import datetime\n",
    "\n",
    "from itertools import combinations\n",
    "from sklearn.cross_validation import KFold as kfold\n",
    "from sklearn.decomposition import TruncatedSVD as tSVD\n",
    "from sklearn.discriminant_analysis import LinearDiscriminantAnalysis as LDA\n",
    "from sklearn.discriminant_analysis import QuadraticDiscriminantAnalysis as QDA\n",
    "from sklearn.ensemble import AdaBoostClassifier as Boost\n",
    "from sklearn.ensemble import RandomForestClassifier as RFC\n",
    "from sklearn.feature_extraction.text import CountVectorizer\n",
    "from sklearn.feature_extraction.text import TfidfVectorizer\n",
    "from sklearn.linear_model import LinearRegression as Lin_Reg\n",
    "from sklearn.linear_model import LogisticRegression as Log_Reg\n",
    "from sklearn.metrics import confusion_matrix\n",
    "from sklearn.metrics import f1_score\n",
    "from sklearn.neighbors import KNeighborsClassifier as KNN\n",
    "from sklearn.svm import SVC\n",
    "from scipy.io import mmread\n",
    "\n",
    "%matplotlib inline\n",
    "plt.style.use('ggplot') \n",
    "from IPython.display import display, HTML"
   ]
  },
  {
   "cell_type": "code",
   "execution_count": 6,
   "metadata": {
    "collapsed": true
   },
   "outputs": [],
   "source": [
    "results = pd.DataFrame([\n",
    "['Always 1', 0.848, 0.848, 0.264],\n",
    "['Unbalanced LogReg', 0.848, 0.849, 0.262],\n",
    "['Balanced LogReg', 0.622, 0.902, 0.155],\n",
    "['QDA', 0.165, 0.863, 0.030],\n",
    "['Random Forest', 0.848, 0.848, 0.264],\n",
    "['Random Forest w/bias', 0.433, 0.901, 0.153],\n",
    "['Balanced SVC', 0.848, 0.849, 0.263],\n",
    "['Balanced SVC w/bias', 0.603, 0.904, 0.151],\n",
    "])"
   ]
  },
  {
   "cell_type": "code",
   "execution_count": 7,
   "metadata": {
    "collapsed": false
   },
   "outputs": [
    {
     "data": {
      "text/html": [
       "<div>\n",
       "<table border=\"1\" class=\"dataframe\">\n",
       "  <thead>\n",
       "    <tr style=\"text-align: right;\">\n",
       "      <th></th>\n",
       "      <th>Model</th>\n",
       "      <th>Classification Accuracy</th>\n",
       "      <th>Precision</th>\n",
       "      <th>F1 Score</th>\n",
       "    </tr>\n",
       "    <tr>\n",
       "      <th>Model</th>\n",
       "      <th></th>\n",
       "      <th></th>\n",
       "      <th></th>\n",
       "      <th></th>\n",
       "    </tr>\n",
       "  </thead>\n",
       "  <tbody>\n",
       "    <tr>\n",
       "      <th>Always 1</th>\n",
       "      <td>Always 1</td>\n",
       "      <td>0.848</td>\n",
       "      <td>0.848</td>\n",
       "      <td>0.264</td>\n",
       "    </tr>\n",
       "    <tr>\n",
       "      <th>Unbalanced LogReg</th>\n",
       "      <td>Unbalanced LogReg</td>\n",
       "      <td>0.848</td>\n",
       "      <td>0.849</td>\n",
       "      <td>0.262</td>\n",
       "    </tr>\n",
       "    <tr>\n",
       "      <th>Balanced LogReg</th>\n",
       "      <td>Balanced LogReg</td>\n",
       "      <td>0.622</td>\n",
       "      <td>0.902</td>\n",
       "      <td>0.155</td>\n",
       "    </tr>\n",
       "    <tr>\n",
       "      <th>QDA</th>\n",
       "      <td>QDA</td>\n",
       "      <td>0.165</td>\n",
       "      <td>0.863</td>\n",
       "      <td>0.030</td>\n",
       "    </tr>\n",
       "    <tr>\n",
       "      <th>Random Forest</th>\n",
       "      <td>Random Forest</td>\n",
       "      <td>0.848</td>\n",
       "      <td>0.848</td>\n",
       "      <td>0.264</td>\n",
       "    </tr>\n",
       "    <tr>\n",
       "      <th>Random Forest w/bias</th>\n",
       "      <td>Random Forest w/bias</td>\n",
       "      <td>0.433</td>\n",
       "      <td>0.901</td>\n",
       "      <td>0.153</td>\n",
       "    </tr>\n",
       "    <tr>\n",
       "      <th>Balanced SVC</th>\n",
       "      <td>Balanced SVC</td>\n",
       "      <td>0.848</td>\n",
       "      <td>0.849</td>\n",
       "      <td>0.263</td>\n",
       "    </tr>\n",
       "    <tr>\n",
       "      <th>Balanced SVC w/bias</th>\n",
       "      <td>Balanced SVC w/bias</td>\n",
       "      <td>0.603</td>\n",
       "      <td>0.904</td>\n",
       "      <td>0.151</td>\n",
       "    </tr>\n",
       "  </tbody>\n",
       "</table>\n",
       "</div>"
      ],
      "text/plain": [
       "                                     Model  Classification Accuracy  \\\n",
       "Model                                                                 \n",
       "Always 1                          Always 1                    0.848   \n",
       "Unbalanced LogReg        Unbalanced LogReg                    0.848   \n",
       "Balanced LogReg            Balanced LogReg                    0.622   \n",
       "QDA                                    QDA                    0.165   \n",
       "Random Forest                Random Forest                    0.848   \n",
       "Random Forest w/bias  Random Forest w/bias                    0.433   \n",
       "Balanced SVC                  Balanced SVC                    0.848   \n",
       "Balanced SVC w/bias    Balanced SVC w/bias                    0.603   \n",
       "\n",
       "                      Precision  F1 Score  \n",
       "Model                                      \n",
       "Always 1                  0.848     0.264  \n",
       "Unbalanced LogReg         0.849     0.262  \n",
       "Balanced LogReg           0.902     0.155  \n",
       "QDA                       0.863     0.030  \n",
       "Random Forest             0.848     0.264  \n",
       "Random Forest w/bias      0.901     0.153  \n",
       "Balanced SVC              0.849     0.263  \n",
       "Balanced SVC w/bias       0.904     0.151  "
      ]
     },
     "execution_count": 7,
     "metadata": {},
     "output_type": "execute_result"
    }
   ],
   "source": [
    "results.columns=['Model', 'Classification Accuracy', 'Precision', 'F1 Score']\n",
    "results.index=results.Model\n",
    "results"
   ]
  },
  {
   "cell_type": "code",
   "execution_count": null,
   "metadata": {
    "collapsed": true
   },
   "outputs": [],
   "source": []
  },
  {
   "cell_type": "code",
   "execution_count": 8,
   "metadata": {
    "collapsed": false
   },
   "outputs": [
    {
     "data": {
      "image/png": "[encoded data removed]",
      "text/plain": [
       "<matplotlib.figure.Figure at 0xa3707b8>"
      ]
     },
     "metadata": {},
     "output_type": "display_data"
    }
   ],
   "source": [
    "plt.figure(figsize=(10,8))\n",
    "results[::-1].plot(kind='barh', colormap=colors.ListedColormap(['orange', 'b', 'k']), ax=plt.gca())\n",
    "plt.legend(bbox_to_anchor=(1.25, 1.0))\n",
    "plt.axvline(x=0.848, c='k', linestyle='-.')\n",
    "plt.show()"
   ]
  },
  {
   "cell_type": "code",
   "execution_count": null,
   "metadata": {
    "collapsed": true
   },
   "outputs": [],
   "source": []
  }
 ],
 "metadata": {
  "kernelspec": {
   "display_name": "Python [amg1]",
   "language": "python",
   "name": "Python [amg1]"
  },
  "language_info": {
   "codemirror_mode": {
    "name": "ipython",
    "version": 2
   },
   "file_extension": ".py",
   "mimetype": "text/x-python",
   "name": "python",
   "nbconvert_exporter": "python",
   "pygments_lexer": "ipython2",
   "version": "2.7.12"
  }
 },
 "nbformat": 4,
 "nbformat_minor": 0
}
