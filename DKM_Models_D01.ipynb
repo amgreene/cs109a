{
 "cells": [
  {
   "cell_type": "markdown",
   "metadata": {},
   "source": [
    "# David's Modelling"
   ]
  },
  {
   "cell_type": "code",
   "execution_count": 534,
   "metadata": {
    "collapsed": true
   },
   "outputs": [],
   "source": [
    "import itertools as it\n",
    "import matplotlib\n",
    "import matplotlib.cm as cmx\n",
    "import matplotlib.colors as colors\n",
    "import matplotlib.pyplot as plt\n",
    "import numpy as np\n",
    "import os.path as op\n",
    "import pandas as pd\n",
    "import scipy as sp\n",
    "import sklearn.preprocessing as Preprocessing\n",
    "import datetime\n",
    "\n",
    "from itertools import combinations\n",
    "from sklearn.cross_validation import KFold as kfold\n",
    "from sklearn.decomposition import TruncatedSVD as tSVD\n",
    "from sklearn.discriminant_analysis import LinearDiscriminantAnalysis as LDA\n",
    "from sklearn.discriminant_analysis import QuadraticDiscriminantAnalysis as QDA\n",
    "from sklearn.ensemble import GradientBoostingClassifier as GBC\n",
    "from sklearn.ensemble import RandomForestClassifier as RFC\n",
    "from sklearn.feature_extraction.text import CountVectorizer\n",
    "from sklearn.feature_extraction.text import TfidfVectorizer\n",
    "from sklearn.linear_model import LinearRegression as Lin_Reg\n",
    "from sklearn.linear_model import LogisticRegression as Log_Reg\n",
    "from sklearn.metrics import confusion_matrix\n",
    "from sklearn.metrics import f1_score\n",
    "from sklearn.neighbors import KNeighborsClassifier as KNN\n",
    "from sklearn.svm import SVC\n",
    "from sklearn.tree import DecisionTreeClassifier as DTC\n",
    "from scipy.io import mmread\n",
    "\n",
    "%matplotlib inline\n",
    "plt.style.use('ggplot') \n",
    "from IPython.display import display, HTML"
   ]
  },
  {
   "cell_type": "markdown",
   "metadata": {},
   "source": [
    "#### Load Data"
   ]
  },
  {
   "cell_type": "code",
   "execution_count": 535,
   "metadata": {
    "collapsed": false,
    "scrolled": true
   },
   "outputs": [
    {
     "name": "stdout",
     "output_type": "stream",
     "text": [
      "173805\n",
      "79052\n",
      "address_state object\n",
      "annual_income float64\n",
      "cpi float64\n",
      "delinq_2_yrs int64\n",
      "desc_len float64\n",
      "dti float64\n",
      "employ_length object\n",
      "employ_title object\n",
      "gdp float64\n",
      "home_owner object\n",
      "initial_list_status object\n",
      "inquiry_6_mos int64\n",
      "installment float64\n",
      "interest_rate float64\n",
      "ipr float64\n",
      "loan_amount int64\n",
      "loan_purpose object\n",
      "loan_term int64\n",
      "months_since_last_record float64\n",
      "open_accounts int64\n",
      "revol_util float64\n",
      "rir float64\n",
      "total_accounts int64\n",
      "unemploy float64\n",
      "months_since_earliest_credit float64\n",
      "Indexes computed\n",
      "19719\n",
      "59333\n",
      "PCA: first and last columns where % variance explained >= 99: [62 99]\n",
      "PCA: first and last columns where % variance explained >= 85: [298 499]\n"
     ]
    }
   ],
   "source": [
    "# load data\n",
    "%run -i data_loading.py"
   ]
  },
  {
   "cell_type": "markdown",
   "metadata": {},
   "source": [
    "#### Set up Modelling Framework"
   ]
  },
  {
   "cell_type": "code",
   "execution_count": 536,
   "metadata": {
    "collapsed": false
   },
   "outputs": [],
   "source": [
    "# set up modelling framework\n",
    "% run -i modelling_framework.py"
   ]
  },
  {
   "cell_type": "markdown",
   "metadata": {},
   "source": [
    "#### Models without PCA"
   ]
  },
  {
   "cell_type": "code",
   "execution_count": 537,
   "metadata": {
    "collapsed": false
   },
   "outputs": [
    {
     "name": "stdout",
     "output_type": "stream",
     "text": [
      "0  score: 0.845  baseline: 0.845   wscore: 0.845   f1: 0.000  | test score 0.152  1-prec 0.848 f1 0.263  GP 851MM\n",
      "2011  score: 0.887  baseline: 0.887   wscore: 0.887   f1: 0.000  | test score 0.896  1-prec 0.896\n",
      "2012  score: 0.867  baseline: 0.867   wscore: 0.867   f1: 0.000  | test score 0.863  1-prec 0.863\n",
      "2013  score: 0.818  baseline: 0.818   wscore: 0.818   f1: 0.000  | test score 0.825  1-prec 0.825\n"
     ]
    }
   ],
   "source": [
    "from sklearn.dummy import DummyClassifier\n",
    "eval_model_by_year(lambda: DummyClassifier(strategy='constant', constant=0))"
   ]
  },
  {
   "cell_type": "code",
   "execution_count": 538,
   "metadata": {
    "collapsed": false,
    "scrolled": true
   },
   "outputs": [
    {
     "name": "stdout",
     "output_type": "stream",
     "text": [
      "0  score: 0.844  baseline: 0.845   wscore: 0.848   f1: 0.043  | test score 0.153  1-prec 0.850 f1 0.260  GP 842MM\n",
      "2011  score: 0.886  baseline: 0.887   wscore: 0.888   f1: 0.035  | test score 0.895  1-prec 0.896\n",
      "2012  score: 0.867  baseline: 0.867   wscore: 0.868   f1: 0.014  | test score 0.862  1-prec 0.864\n",
      "2013  score: 0.816  baseline: 0.818   wscore: 0.824   f1: 0.098  | test score 0.822  1-prec 0.830\n"
     ]
    }
   ],
   "source": [
    "eval_model_by_year(lambda: Log_Reg())"
   ]
  },
  {
   "cell_type": "code",
   "execution_count": 539,
   "metadata": {
    "collapsed": false
   },
   "outputs": [
    {
     "name": "stdout",
     "output_type": "stream",
     "text": [
      "0  score: 0.643  baseline: 0.845   wscore: 0.905   f1: 0.353  | test score 0.367  1-prec 0.903 f1 0.155  GP 274MM\n",
      "2011  score: 0.635  baseline: 0.887   wscore: 0.913   f1: 0.243  | test score 0.638  1-prec 0.928\n",
      "2012  score: 0.637  baseline: 0.867   wscore: 0.916   f1: 0.310  | test score 0.611  1-prec 0.901\n",
      "2013  score: 0.645  baseline: 0.818   wscore: 0.887   f1: 0.391  | test score 0.637  1-prec 0.887\n"
     ]
    }
   ],
   "source": [
    "eval_model_by_year(lambda: Log_Reg(class_weight='balanced'))"
   ]
  },
  {
   "cell_type": "code",
   "execution_count": 540,
   "metadata": {
    "collapsed": false
   },
   "outputs": [
    {
     "name": "stdout",
     "output_type": "stream",
     "text": [
      "0  score: 0.643  baseline: 0.845   wscore: 0.923   f1: 0.353  | test score 0.515  1-prec 0.921 f1 0.114  GP -17MM\n",
      "2011  score: 0.635  baseline: 0.887   wscore: 0.915   f1: 0.243  | test score 0.638  1-prec 0.940\n",
      "2012  score: 0.637  baseline: 0.867   wscore: 0.934   f1: 0.310  | test score 0.611  1-prec 0.919\n",
      "2013  score: 0.645  baseline: 0.818   wscore: 0.909   f1: 0.391  | test score 0.637  1-prec 0.908\n"
     ]
    }
   ],
   "source": [
    "eval_model_by_year(lambda: Log_Reg(class_weight='balanced'), prob_threshold=.6)"
   ]
  },
  {
   "cell_type": "code",
   "execution_count": 541,
   "metadata": {
    "collapsed": false,
    "scrolled": true
   },
   "outputs": [
    {
     "name": "stdout",
     "output_type": "stream",
     "text": [
      "0  score: 0.836  baseline: 0.845   wscore: 0.853   f1: 0.135  | test score 0.160  1-prec 0.856 f1 0.250  GP 798MM\n",
      "2011  score: 0.869  baseline: 0.887   wscore: 0.894   f1: 0.153  | test score 0.866  1-prec 0.901\n",
      "2012  score: 0.860  baseline: 0.867   wscore: 0.869   f1: 0.044  | test score 0.858  1-prec 0.865\n",
      "2013  score: 0.804  baseline: 0.818   wscore: 0.831   f1: 0.189  | test score 0.809  1-prec 0.838\n"
     ]
    }
   ],
   "source": [
    "eval_model_by_year(lambda: QDA(reg_param = 1))"
   ]
  },
  {
   "cell_type": "code",
   "execution_count": 542,
   "metadata": {
    "collapsed": false
   },
   "outputs": [
    {
     "name": "stdout",
     "output_type": "stream",
     "text": [
      "0  score: 0.845  baseline: 0.845   wscore: 0.845   f1: 0.000  | test score 0.152  1-prec 0.848 f1 0.263  GP 851MM\n",
      "2011  score: 0.886  baseline: 0.887   wscore: 0.887   f1: 0.000  | test score 0.895  1-prec 0.896\n",
      "2012  score: 0.867  baseline: 0.867   wscore: 0.867   f1: 0.000  | test score 0.863  1-prec 0.863\n",
      "2013  score: 0.818  baseline: 0.818   wscore: 0.818   f1: 0.000  | test score 0.825  1-prec 0.825\n"
     ]
    }
   ],
   "source": [
    "eval_model_by_year(lambda: GBC(n_estimators = 10, max_depth = 2, learning_rate = 0.1))"
   ]
  },
  {
   "cell_type": "code",
   "execution_count": 543,
   "metadata": {
    "collapsed": false
   },
   "outputs": [
    {
     "name": "stdout",
     "output_type": "stream",
     "text": [
      "0  score: 0.845  baseline: 0.845   wscore: 0.845   f1: 0.000  | test score 0.152  1-prec 0.848 f1 0.263  GP 851MM\n",
      "2011  score: 0.887  baseline: 0.887   wscore: 0.887   f1: 0.000  | test score 0.896  1-prec 0.896\n",
      "2012  score: 0.867  baseline: 0.867   wscore: 0.867   f1: 0.000  | test score 0.863  1-prec 0.863\n",
      "2013  score: 0.818  baseline: 0.818   wscore: 0.818   f1: 0.000  | test score 0.825  1-prec 0.825\n"
     ]
    }
   ],
   "source": [
    "eval_model_by_year(lambda: RFC(random_state=1729, max_depth=5, n_estimators=300))"
   ]
  },
  {
   "cell_type": "code",
   "execution_count": 544,
   "metadata": {
    "collapsed": false
   },
   "outputs": [
    {
     "name": "stdout",
     "output_type": "stream",
     "text": [
      "0  score: 0.660  baseline: 0.845   wscore: 0.902   f1: 0.354  | test score 0.353  1-prec 0.899 f1 0.163  GP 312MM\n",
      "2011  score: 0.759  baseline: 0.887   wscore: 0.905   f1: 0.239  | test score 0.765  1-prec 0.915\n",
      "2012  score: 0.656  baseline: 0.867   wscore: 0.907   f1: 0.298  | test score 0.638  1-prec 0.894\n",
      "2013  score: 0.662  baseline: 0.818   wscore: 0.883   f1: 0.390  | test score 0.657  1-prec 0.883\n"
     ]
    }
   ],
   "source": [
    "eval_model_by_year(lambda: RFC(random_state=1729, max_depth=5, class_weight = 'balanced', n_estimators=300))"
   ]
  },
  {
   "cell_type": "code",
   "execution_count": 545,
   "metadata": {
    "collapsed": false
   },
   "outputs": [
    {
     "name": "stdout",
     "output_type": "stream",
     "text": [
      "0  score: 0.622  baseline: 0.845   wscore: 0.882   f1: 0.303  | test score 0.363  1-prec 0.880 f1 0.193  GP 304MM\n",
      "2011  score: 0.641  baseline: 0.887   wscore: 0.897   f1: 0.202  | test score 0.607  1-prec 0.907\n",
      "2012  score: 0.543  baseline: 0.867   wscore: 0.899   f1: 0.262  | test score 0.620  1-prec 0.887\n",
      "2013  score: 0.606  baseline: 0.818   wscore: 0.855   f1: 0.326  | test score 0.681  1-prec 0.863\n"
     ]
    }
   ],
   "source": [
    "eval_model_by_year(lambda: DTC(max_depth = 10, max_features = 'log2', class_weight = 'balanced', criterion = 'gini'))"
   ]
  },
  {
   "cell_type": "code",
   "execution_count": 546,
   "metadata": {
    "collapsed": false
   },
   "outputs": [
    {
     "name": "stdout",
     "output_type": "stream",
     "text": [
      "0  score: 0.669  baseline: 0.845   wscore: 0.867   f1: 0.270  | test score 0.320  1-prec 0.864 f1 0.225  GP 428MM\n",
      "2011  score: 0.728  baseline: 0.887   wscore: 0.889   f1: 0.164  | test score 0.636  1-prec 0.905\n",
      "2012  score: 0.662  baseline: 0.867   wscore: 0.880   f1: 0.224  | test score 0.675  1-prec 0.880\n",
      "2013  score: 0.656  baseline: 0.818   wscore: 0.844   f1: 0.301  | test score 0.659  1-prec 0.846\n"
     ]
    }
   ],
   "source": [
    "eval_model_by_year(lambda: DTC(max_depth = 20, max_features = 'sqrt', class_weight = 'balanced', criterion = 'entropy'))"
   ]
  },
  {
   "cell_type": "code",
   "execution_count": 547,
   "metadata": {
    "collapsed": false
   },
   "outputs": [
    {
     "name": "stdout",
     "output_type": "stream",
     "text": [
      "0  score: 0.692  baseline: 0.845   wscore: 0.860   f1: 0.244  | test score 0.327  1-prec 0.868 f1 0.218  GP 424MM\n",
      "2011  score: 0.771  baseline: 0.887   wscore: 0.888   f1: 0.135  | test score 0.788  1-prec 0.902\n",
      "2012  score: 0.734  baseline: 0.867   wscore: 0.878   f1: 0.212  | test score 0.712  1-prec 0.875\n",
      "2013  score: 0.677  baseline: 0.818   wscore: 0.838   f1: 0.279  | test score 0.680  1-prec 0.842\n"
     ]
    }
   ],
   "source": [
    "eval_model_by_year(lambda: DTC(max_depth = 20, max_features = None, class_weight = 'balanced', criterion = 'entropy'))"
   ]
  },
  {
   "cell_type": "code",
   "execution_count": 548,
   "metadata": {
    "collapsed": false
   },
   "outputs": [],
   "source": [
    "# This takes a very long time for practically no uplift\n",
    "#eval_model_all_years(lambda: SVC(class_weight='balanced', probability=True))"
   ]
  },
  {
   "cell_type": "code",
   "execution_count": 549,
   "metadata": {
    "collapsed": false
   },
   "outputs": [],
   "source": [
    "# This takes a very long time for practically no uplift\n",
    "#eval_model_all_years(lambda: SVC(class_weight='balanced', probability=True), prob_threshold=0.85)"
   ]
  },
  {
   "cell_type": "markdown",
   "metadata": {},
   "source": [
    "#### Other Models without PCA"
   ]
  },
  {
   "cell_type": "code",
   "execution_count": 550,
   "metadata": {
    "collapsed": true
   },
   "outputs": [],
   "source": [
    "# TODO: Try again, this time fitting a regression against the payments received"
   ]
  },
  {
   "cell_type": "code",
   "execution_count": 551,
   "metadata": {
    "collapsed": false
   },
   "outputs": [
    {
     "name": "stdout",
     "output_type": "stream",
     "text": [
      "y=2011   n=2521   d= 286   p: 0.113 | 0.113 | 0.114\n",
      "y=2012   n=7475   d= 994   p: 0.133 | 0.133 | 0.133\n",
      "y=2013   n=9723   d=1767   p: 0.182 | 0.182 | 0.182\n"
     ]
    }
   ],
   "source": [
    "# Curious -- what are the 95 CI for the baselines?\n",
    "for yr in set(years.values):\n",
    "    yr_n = (years == yr).sum()\n",
    "    yr_def = (y[years == yr]).sum()\n",
    "    yr_p = (y[years == yr]).mean()\n",
    "    yr_se = (yr_p * (1.0-yr_p) / yr_n)\n",
    "    print \"y=%4d   n=%4d   d=%4d   p: %.3f | %.3f | %.3f\" % (yr, yr_n, yr_def, yr_p - 1.96*yr_se, yr_p, yr_p + 1.96*yr_se)"
   ]
  },
  {
   "cell_type": "code",
   "execution_count": 552,
   "metadata": {
    "collapsed": false
   },
   "outputs": [
    {
     "name": "stdout",
     "output_type": "stream",
     "text": [
      "0.154521020336\n",
      "0.230563002681\n"
     ]
    }
   ],
   "source": [
    "# Default rate for small business is higher, right?\n",
    "print y.mean()\n",
    "print y[x_expanded.loan_purpose__small_business == 1].mean()"
   ]
  },
  {
   "cell_type": "code",
   "execution_count": 553,
   "metadata": {
    "collapsed": false
   },
   "outputs": [
    {
     "name": "stdout",
     "output_type": "stream",
     "text": [
      "0  score: 0.835  baseline: 0.845   wscore: 0.847   f1: 0.050  | test score 0.162  1-prec 0.850 f1 0.260  GP 819MM\n",
      "2011  score: 0.714  baseline: 0.887   wscore: 0.856   f1: 0.070  | test score 0.874  1-prec 0.899\n",
      "2012  score: 0.852  baseline: 0.867   wscore: 0.868   f1: 0.058  | test score 0.849  1-prec 0.865\n",
      "2013  score: 0.816  baseline: 0.818   wscore: 0.820   f1: 0.042  | test score 0.821  1-prec 0.826\n"
     ]
    }
   ],
   "source": [
    "eval_model_by_year(lambda: Log_Reg(class_weight='balanced'), ['loan_purpose__small_business'])"
   ]
  },
  {
   "cell_type": "code",
   "execution_count": 554,
   "metadata": {
    "collapsed": false
   },
   "outputs": [],
   "source": [
    "# LogReg is doing well.. what are the largest coefficients?\n",
    "lr = Log_Reg(class_weight='balanced').fit(x_expanded[years.isin([2011,2012,2013])], y[years.isin([2011,2012,2013])])\n",
    "lr_coeff = pd.DataFrame(lr.coef_.T, index=x_expanded.columns)\n",
    "lr_coeff.columns = ['coeff']\n",
    "lr_coeff['abs'] = lr_coeff.coeff.abs()"
   ]
  },
  {
   "cell_type": "code",
   "execution_count": 555,
   "metadata": {
    "collapsed": false
   },
   "outputs": [
    {
     "data": {
      "text/plain": [
       "employ_title__walmart                        -1.725939\n",
       "employ_title__manager                        -1.484829\n",
       "employ_title__U.S._Army                      -1.458575\n",
       "employ_title__The_Home_Depot                 -1.417917\n",
       "employ_title__United_Parcel_Service          -1.297963\n",
       "employ_title__USPS                            1.035294\n",
       "employ_title__United_States_Postal_Service   -0.997159\n",
       "employ_title__Director                       -0.940348\n",
       "employ_title__Department_of_Defense          -0.918240\n",
       "employ_title__Home_Depot                      0.906000\n",
       "employ_title__US_Army                        -0.900847\n",
       "employ_title__JP_Morgan_Chase                -0.900770\n",
       "employ_title__State_of_California            -0.888825\n",
       "employ_title__United_States_Air_Force        -0.854343\n",
       "employ_title__driver                          0.812821\n",
       "address_state__IA                             0.803908\n",
       "loan_purpose__renewable_energy                0.729859\n",
       "employ_title__Driver                         -0.701258\n",
       "loan_amount                                  -0.667337\n",
       "employ_title__Booz_Allen_Hamilton            -0.659146\n",
       "employ_title__Sales                           0.616487\n",
       "employ_title__Target                         -0.596772\n",
       "employ_title__nan                             0.585837\n",
       "employ_title__General_Manager                 0.557503\n",
       "employ_title__US_Air_Force                   -0.556162\n",
       "employ_title__AT&T                           -0.543258\n",
       "employ_title__Best_Buy                       -0.542146\n",
       "address_state__IN                            -0.538892\n",
       "address_state__AK                            -0.524137\n",
       "address_state__NE                             0.524013\n",
       "                                                ...   \n",
       "address_state__OH                            -0.057472\n",
       "employ_length__9                              0.057257\n",
       "employ_title__UPS                            -0.055666\n",
       "cpi                                          -0.047331\n",
       "employ_length__5                             -0.041834\n",
       "employ_length__8                             -0.041367\n",
       "employ_title__JPMorgan_Chase                 -0.040549\n",
       "delinq_2_yrs                                  0.040234\n",
       "employ_length__0                             -0.039698\n",
       "employ_length__7                             -0.039564\n",
       "employ_length__1                              0.039121\n",
       "months_since_last_record                      0.031068\n",
       "home_owner__MORTGAGE                          0.030634\n",
       "desc_len                                     -0.028738\n",
       "employ_length__3                              0.026116\n",
       "initial_list_status__f                        0.023055\n",
       "employ_length__4                             -0.023048\n",
       "address_state__CA                             0.021563\n",
       "address_state__KS                            -0.020106\n",
       "address_state__LA                            -0.019679\n",
       "employ_title__Engineer                        0.018630\n",
       "employ_title__Project_Manager                 0.015950\n",
       "address_state__GA                            -0.015854\n",
       "employ_title__US_Postal_Service              -0.014060\n",
       "months_since_earliest_credit                  0.013454\n",
       "loan_purpose__medical                        -0.009881\n",
       "address_state__NM                            -0.009569\n",
       "rir                                          -0.005759\n",
       "employ_length__2                              0.001019\n",
       "loan_term                                     0.000000\n",
       "Name: coeff, dtype: float64"
      ]
     },
     "execution_count": 555,
     "metadata": {},
     "output_type": "execute_result"
    }
   ],
   "source": [
    "lr_coeff.sort_values('abs', ascending=False).coeff"
   ]
  },
  {
   "cell_type": "code",
   "execution_count": 556,
   "metadata": {
    "collapsed": true
   },
   "outputs": [],
   "source": [
    "lr_probs = lr.predict_proba(x_expanded)[:,0]"
   ]
  },
  {
   "cell_type": "code",
   "execution_count": 557,
   "metadata": {
    "collapsed": false
   },
   "outputs": [
    {
     "data": {
      "image/png": "[encoded data removed]",
      "text/plain": [
       "<matplotlib.figure.Figure at 0x15b82a5d0>"
      ]
     },
     "metadata": {},
     "output_type": "display_data"
    }
   ],
   "source": [
    "plt.hist(lr_probs ,bins=40)\n",
    "plt.show()"
   ]
  },
  {
   "cell_type": "code",
   "execution_count": 558,
   "metadata": {
    "collapsed": false
   },
   "outputs": [
    {
     "data": {
      "text/plain": [
       "0.00    1.000000\n",
       "0.05    0.240000\n",
       "0.10    0.542636\n",
       "0.15    0.576512\n",
       "0.20    0.638554\n",
       "0.25    0.646341\n",
       "0.30    0.709904\n",
       "0.35    0.771469\n",
       "0.40    0.794438\n",
       "0.45    0.837446\n",
       "0.50    0.858617\n",
       "0.55    0.877220\n",
       "0.60    0.897436\n",
       "0.65    0.919110\n",
       "0.70    0.939312\n",
       "0.75    0.952229\n",
       "0.80    0.971257\n",
       "0.85    0.970803\n",
       "0.90    0.978947\n",
       "0.95    1.000000\n",
       "Name: loan_status, dtype: float64"
      ]
     },
     "execution_count": 558,
     "metadata": {},
     "output_type": "execute_result"
    }
   ],
   "source": [
    "1 - y.groupby([int(p*20)/20.0 for p in lr_probs]).mean()"
   ]
  },
  {
   "cell_type": "code",
   "execution_count": 559,
   "metadata": {
    "collapsed": false
   },
   "outputs": [],
   "source": [
    "# probs = eval_model_with_threshold(lambda: Log_Reg())"
   ]
  },
  {
   "cell_type": "code",
   "execution_count": 560,
   "metadata": {
    "collapsed": false
   },
   "outputs": [],
   "source": [
    "# probs = eval_model_with_threshold(lambda: Log_Reg(class_weight='balanced'))"
   ]
  },
  {
   "cell_type": "code",
   "execution_count": 561,
   "metadata": {
    "collapsed": false
   },
   "outputs": [],
   "source": [
    "# VERY SLOW\n",
    "#probs = eval_model_with_threshold(lambda: SVC(\n",
    "#        random_state=1729,\n",
    "#        probability=True))"
   ]
  },
  {
   "cell_type": "markdown",
   "metadata": {},
   "source": [
    "#### Models with PCA"
   ]
  },
  {
   "cell_type": "code",
   "execution_count": 562,
   "metadata": {
    "collapsed": false,
    "scrolled": true
   },
   "outputs": [
    {
     "name": "stdout",
     "output_type": "stream",
     "text": [
      "0  score: 0.845  baseline: 0.845   wscore: 0.848   f1: 0.039  | test score 0.152  1-prec 0.850 f1 0.260  GP 844MM\n",
      "2011  score: 0.886  baseline: 0.887   wscore: 0.888   f1: 0.035  | test score 0.895  1-prec 0.896\n",
      "2012  score: 0.867  baseline: 0.867   wscore: 0.868   f1: 0.010  | test score 0.862  1-prec 0.864\n",
      "2013  score: 0.816  baseline: 0.818   wscore: 0.823   f1: 0.085  | test score 0.823  1-prec 0.830\n"
     ]
    }
   ],
   "source": [
    "eval_model_by_year(lambda: Log_Reg(), x = x_expanded_pca, x_test = x_test_expanded_pca)"
   ]
  },
  {
   "cell_type": "code",
   "execution_count": 563,
   "metadata": {
    "collapsed": false
   },
   "outputs": [
    {
     "name": "stdout",
     "output_type": "stream",
     "text": [
      "0  score: 0.641  baseline: 0.845   wscore: 0.906   f1: 0.354  | test score 0.368  1-prec 0.904 f1 0.153  GP 271MM\n",
      "2011  score: 0.631  baseline: 0.887   wscore: 0.916   f1: 0.249  | test score 0.630  1-prec 0.929\n",
      "2012  score: 0.628  baseline: 0.867   wscore: 0.914   f1: 0.305  | test score 0.607  1-prec 0.901\n",
      "2013  score: 0.645  baseline: 0.818   wscore: 0.888   f1: 0.393  | test score 0.636  1-prec 0.889\n"
     ]
    }
   ],
   "source": [
    "eval_model_by_year(lambda: Log_Reg(class_weight='balanced'), x = x_expanded_pca, x_test = x_test_expanded_pca)"
   ]
  },
  {
   "cell_type": "code",
   "execution_count": 564,
   "metadata": {
    "collapsed": false
   },
   "outputs": [
    {
     "name": "stdout",
     "output_type": "stream",
     "text": [
      "0  score: 0.641  baseline: 0.845   wscore: 0.926   f1: 0.354  | test score 0.520  1-prec 0.923 f1 0.111  GP -32MM\n",
      "2011  score: 0.631  baseline: 0.887   wscore: 0.921   f1: 0.249  | test score 0.630  1-prec 0.941\n",
      "2012  score: 0.628  baseline: 0.867   wscore: 0.931   f1: 0.305  | test score 0.607  1-prec 0.921\n",
      "2013  score: 0.645  baseline: 0.818   wscore: 0.910   f1: 0.393  | test score 0.636  1-prec 0.912\n"
     ]
    }
   ],
   "source": [
    "eval_model_by_year(lambda: Log_Reg(class_weight='balanced'), prob_threshold=.6, \n",
    "                   x = x_expanded_pca, x_test = x_test_expanded_pca)"
   ]
  },
  {
   "cell_type": "code",
   "execution_count": 565,
   "metadata": {
    "collapsed": false,
    "scrolled": false
   },
   "outputs": [
    {
     "name": "stdout",
     "output_type": "stream",
     "text": [
      "0  score: 0.704  baseline: 0.845   wscore: 0.867   f1: 0.270  | test score 0.327  1-prec 0.869 f1 0.215  GP 441MM\n",
      "2011  score: 0.687  baseline: 0.887   wscore: 0.896   f1: 0.194  | test score 0.726  1-prec 0.904\n",
      "2012  score: 0.702  baseline: 0.867   wscore: 0.881   f1: 0.225  | test score 0.699  1-prec 0.876\n",
      "2013  score: 0.707  baseline: 0.818   wscore: 0.841   f1: 0.288  | test score 0.689  1-prec 0.844\n"
     ]
    }
   ],
   "source": [
    "eval_model_by_year(lambda: QDA(), x = x_expanded_pca, x_test = x_test_expanded_pca)"
   ]
  },
  {
   "cell_type": "code",
   "execution_count": 566,
   "metadata": {
    "collapsed": false,
    "scrolled": true
   },
   "outputs": [
    {
     "name": "stdout",
     "output_type": "stream",
     "text": [
      "0  score: 0.845  baseline: 0.845   wscore: 0.845   f1: 0.000  | test score 0.152  1-prec 0.848 f1 0.263  GP 851MM\n",
      "2011  score: 0.886  baseline: 0.887   wscore: 0.887   f1: 0.000  | test score 0.896  1-prec 0.896\n",
      "2012  score: 0.867  baseline: 0.867   wscore: 0.867   f1: 0.000  | test score 0.863  1-prec 0.863\n",
      "2013  score: 0.818  baseline: 0.818   wscore: 0.818   f1: 0.000  | test score 0.825  1-prec 0.825\n"
     ]
    }
   ],
   "source": [
    "eval_model_by_year(lambda: GBC(n_estimators = 10, max_depth = 2, learning_rate = 0.1),\n",
    "                  x = x_expanded_pca, x_test = x_test_expanded_pca)"
   ]
  },
  {
   "cell_type": "markdown",
   "metadata": {
    "collapsed": true
   },
   "source": [
    "## NLP Modeling"
   ]
  },
  {
   "cell_type": "markdown",
   "metadata": {},
   "source": [
    "#### Top Terms in Each Class"
   ]
  },
  {
   "cell_type": "code",
   "execution_count": 567,
   "metadata": {
    "collapsed": false
   },
   "outputs": [
    {
     "name": "stdout",
     "output_type": "stream",
     "text": [
      "0  score: 0.860  baseline: 0.860   wscore: 0.860   f1: 0.000  | test score 0.142  1-prec 0.858 f1 0.248  GP 211MM\n",
      "2011  score: 0.899  baseline: 0.899   wscore: 0.899   f1: 0.000  | test score 0.899  1-prec 0.899\n",
      "2012  score: 0.865  baseline: 0.865   wscore: 0.865   f1: 0.000  | test score 0.866  1-prec 0.866\n",
      "2013  score: 0.834  baseline: 0.834   wscore: 0.834   f1: 0.000  | test score 0.827  1-prec 0.827\n"
     ]
    }
   ],
   "source": [
    "eval_model_by_year(lambda: Log_Reg(), x = count_cols_bool_train, x_test = count_cols_bool_test, \n",
    "                   y = y_nlp_train, y_test = y_nlp_test, years = years_nlp, years_test = years_nlp_test,\n",
    "                  profit_data_test = x_nlp_test)"
   ]
  },
  {
   "cell_type": "code",
   "execution_count": 568,
   "metadata": {
    "collapsed": false
   },
   "outputs": [
    {
     "name": "stdout",
     "output_type": "stream",
     "text": [
      "0  score: 0.465  baseline: 0.860   wscore: 0.862   f1: 0.219  | test score 0.566  1-prec 0.857 f1 0.212  GP -9MM\n",
      "2011  score: 0.739  baseline: 0.899   wscore: 0.896   f1: 0.110  | test score 0.849  1-prec 0.900\n",
      "2012  score: 0.790  baseline: 0.865   wscore: 0.866   f1: 0.119  | test score 0.713  1-prec 0.864\n",
      "2013  score: 0.244  baseline: 0.834   wscore: 0.824   f1: 0.274  | test score 0.464  1-prec 0.823\n"
     ]
    }
   ],
   "source": [
    "eval_model_by_year(lambda: Log_Reg(C = 10 ** -6, class_weight = 'balanced'), \n",
    "                   x = count_cols_bool_train, x_test = count_cols_bool_test, \n",
    "                   y = y_nlp_train, y_test = y_nlp_test, years = years_nlp, years_test = years_nlp_test,\n",
    "                  profit_data_test = x_nlp_test)"
   ]
  },
  {
   "cell_type": "code",
   "execution_count": 569,
   "metadata": {
    "collapsed": false
   },
   "outputs": [
    {
     "name": "stdout",
     "output_type": "stream",
     "text": [
      "0  score: 0.558  baseline: 0.860   wscore: nan   f1: 0.212  | test score 0.858  1-prec 0.909 f1 0.001  GP -159MM\n",
      "2011  score: 0.555  baseline: 0.899   wscore: 0.905   f1: 0.158  | test score 0.550  1-prec 0.876\n",
      "2012  score: 0.478  baseline: 0.865   wscore: 0.911   f1: 0.218  | test score 0.458  1-prec 0.837\n",
      "2013  score: 0.534  baseline: 0.834   wscore: 0.847   f1: 0.233  | test score 0.471  1-prec 0.853\n"
     ]
    }
   ],
   "source": [
    "eval_model_by_year(lambda: Log_Reg(class_weight = 'balanced'), prob_threshold = 0.6,\n",
    "                   x = count_cols_bool_train, x_test = count_cols_bool_test, \n",
    "                   y = y_nlp_train, y_test = y_nlp_test, years = years_nlp, years_test = years_nlp_test,\n",
    "                  profit_data_test = x_nlp_test)"
   ]
  },
  {
   "cell_type": "code",
   "execution_count": 570,
   "metadata": {
    "collapsed": false,
    "scrolled": true
   },
   "outputs": [
    {
     "name": "stdout",
     "output_type": "stream",
     "text": [
      "0  score: 0.860  baseline: 0.860   wscore: 0.860   f1: 0.000  | test score 0.142  1-prec 0.858 f1 0.248  GP 211MM\n",
      "2011  score: 0.899  baseline: 0.899   wscore: 0.899   f1: 0.000  | test score 0.899  1-prec 0.899\n",
      "2012  score: 0.865  baseline: 0.865   wscore: 0.865   f1: 0.000  | test score 0.866  1-prec 0.866\n",
      "2013  score: 0.834  baseline: 0.834   wscore: 0.834   f1: 0.000  | test score 0.827  1-prec 0.827\n"
     ]
    }
   ],
   "source": [
    "eval_model_by_year(lambda: QDA(reg_param = 1), x = count_cols_bool_train, x_test = count_cols_bool_test, \n",
    "                   y = y_nlp_train, y_test = y_nlp_test, years = years_nlp, years_test = years_nlp_test,\n",
    "                  profit_data_test = x_nlp_test)"
   ]
  },
  {
   "cell_type": "code",
   "execution_count": 571,
   "metadata": {
    "collapsed": false,
    "scrolled": true
   },
   "outputs": [
    {
     "name": "stdout",
     "output_type": "stream",
     "text": [
      "0  score: 0.860  baseline: 0.860   wscore: 0.860   f1: 0.000  | test score 0.142  1-prec 0.858 f1 0.248  GP 211MM\n",
      "2011  score: 0.899  baseline: 0.899   wscore: 0.899   f1: 0.000  | test score 0.899  1-prec 0.899\n",
      "2012  score: 0.865  baseline: 0.865   wscore: 0.865   f1: 0.000  | test score 0.866  1-prec 0.866\n",
      "2013  score: 0.834  baseline: 0.834   wscore: 0.834   f1: 0.000  | test score 0.827  1-prec 0.827\n"
     ]
    }
   ],
   "source": [
    "eval_model_by_year(lambda: RFC(random_state=1729, max_depth=5, n_estimators=300),\n",
    "                    x = count_cols_bool_train, x_test = count_cols_bool_test, \n",
    "                   y = y_nlp_train, y_test = y_nlp_test, years = years_nlp, years_test = years_nlp_test,\n",
    "                  profit_data_test = x_nlp_test)"
   ]
  },
  {
   "cell_type": "code",
   "execution_count": 572,
   "metadata": {
    "collapsed": false
   },
   "outputs": [
    {
     "name": "stdout",
     "output_type": "stream",
     "text": [
      "0  score: 0.627  baseline: 0.860   wscore: 0.861   f1: 0.197  | test score 0.375  1-prec 0.858 f1 0.234  GP 88MM\n",
      "2011  score: 0.713  baseline: 0.899   wscore: 0.897   f1: 0.130  | test score 0.729  1-prec 0.895\n",
      "2012  score: 0.531  baseline: 0.865   wscore: 0.868   f1: 0.215  | test score 0.486  1-prec 0.861\n",
      "2013  score: 0.636  baseline: 0.834   wscore: 0.833   f1: 0.206  | test score 0.551  1-prec 0.822\n"
     ]
    }
   ],
   "source": [
    "eval_model_by_year(lambda: RFC(random_state=1729, max_depth=5, n_estimators=300, class_weight = 'balanced'),\n",
    "                    x = count_cols_bool_train, x_test = count_cols_bool_test, \n",
    "                   y = y_nlp_train, y_test = y_nlp_test, years = years_nlp, years_test = years_nlp_test,\n",
    "                  profit_data_test = x_nlp_test)"
   ]
  },
  {
   "cell_type": "code",
   "execution_count": 573,
   "metadata": {
    "collapsed": false
   },
   "outputs": [
    {
     "name": "stdout",
     "output_type": "stream",
     "text": [
      "0  score: 0.860  baseline: 0.860   wscore: 0.860   f1: 0.000  | test score 0.142  1-prec 0.858 f1 0.248  GP 211MM\n",
      "2011  score: 0.899  baseline: 0.899   wscore: 0.899   f1: 0.000  | test score 0.899  1-prec 0.899\n",
      "2012  score: 0.865  baseline: 0.865   wscore: 0.865   f1: 0.000  | test score 0.866  1-prec 0.866\n",
      "2013  score: 0.834  baseline: 0.834   wscore: 0.834   f1: 0.000  | test score 0.827  1-prec 0.827\n"
     ]
    }
   ],
   "source": [
    "eval_model_by_year(lambda: GBC(n_estimators = 10, max_depth = 2, learning_rate = 0.1),\n",
    "                    x = count_cols_bool_train, x_test = count_cols_bool_test, \n",
    "                   y = y_nlp_train, y_test = y_nlp_test, years = years_nlp, years_test = years_nlp_test,\n",
    "                  profit_data_test = x_nlp_test)"
   ]
  },
  {
   "cell_type": "markdown",
   "metadata": {},
   "source": [
    "#### Full Document-Term Matrix (Reduced with PCA)"
   ]
  },
  {
   "cell_type": "code",
   "execution_count": 574,
   "metadata": {
    "collapsed": false
   },
   "outputs": [
    {
     "name": "stdout",
     "output_type": "stream",
     "text": [
      "0  score: 0.860  baseline: 0.860   wscore: 0.860   f1: 0.002  | test score 0.143  1-prec 0.858 f1 0.248  GP 216MM\n",
      "2011  score: 0.893  baseline: 0.899   wscore: 0.898   f1: 0.005  | test score 0.892  1-prec 0.899\n",
      "2012  score: 0.862  baseline: 0.865   wscore: 0.865   f1: 0.013  | test score 0.863  1-prec 0.866\n",
      "2013  score: 0.832  baseline: 0.834   wscore: 0.834   f1: 0.002  | test score 0.824  1-prec 0.827\n"
     ]
    }
   ],
   "source": [
    "eval_model_by_year(lambda: Log_Reg(), x = desc_matrix_pca, x_test = desc_matrix_test_pca, \n",
    "                   y = y_nlp_train, y_test = y_nlp_test, years = years_nlp, years_test = years_nlp_test)"
   ]
  },
  {
   "cell_type": "code",
   "execution_count": 575,
   "metadata": {
    "collapsed": false
   },
   "outputs": [
    {
     "name": "stdout",
     "output_type": "stream",
     "text": [
      "0  score: 0.502  baseline: 0.860   wscore: 0.860   f1: 0.218  | test score 0.513  1-prec 0.855 f1 0.224  GP 22MM\n",
      "2011  score: 0.627  baseline: 0.899   wscore: 0.903   f1: 0.169  | test score 0.596  1-prec 0.887\n",
      "2012  score: 0.521  baseline: 0.865   wscore: 0.868   f1: 0.216  | test score 0.515  1-prec 0.869\n",
      "2013  score: 0.511  baseline: 0.834   wscore: 0.833   f1: 0.244  | test score 0.510  1-prec 0.825\n"
     ]
    }
   ],
   "source": [
    "eval_model_by_year(lambda: Log_Reg(class_weight = 'balanced'), x = desc_matrix_pca, x_test = desc_matrix_test_pca, \n",
    "                   y = y_nlp_train, y_test = y_nlp_test, years = years_nlp, years_test = years_nlp_test)"
   ]
  },
  {
   "cell_type": "code",
   "execution_count": 576,
   "metadata": {
    "collapsed": false,
    "scrolled": true
   },
   "outputs": [
    {
     "name": "stdout",
     "output_type": "stream",
     "text": [
      "0  score: 0.860  baseline: 0.860   wscore: 0.860   f1: 0.000  | test score 0.142  1-prec 0.858 f1 0.248  GP 217MM\n",
      "2011  score: 0.898  baseline: 0.899   wscore: 0.899   f1: 0.000  | test score 0.898  1-prec 0.899\n",
      "2012  score: 0.865  baseline: 0.865   wscore: 0.865   f1: 0.000  | test score 0.866  1-prec 0.866\n",
      "2013  score: 0.834  baseline: 0.834   wscore: 0.834   f1: 0.000  | test score 0.827  1-prec 0.827\n"
     ]
    }
   ],
   "source": [
    "eval_model_by_year(lambda: GBC(n_estimators = 10, max_depth = 2, learning_rate = 0.1),\n",
    "                    x = desc_matrix_pca, x_test = desc_matrix_test_pca,\n",
    "                   y = y_nlp_train, y_test = y_nlp_test, years = years_nlp, years_test = years_nlp_test)"
   ]
  },
  {
   "cell_type": "markdown",
   "metadata": {
    "collapsed": true
   },
   "source": [
    "## Stacking"
   ]
  },
  {
   "cell_type": "code",
   "execution_count": 583,
   "metadata": {
    "collapsed": false
   },
   "outputs": [],
   "source": [
    "# function to create model stack\n",
    "def create_model_stack(x_train, y_train):\n",
    "    model_stack = []\n",
    "\n",
    "    model_stack.append(Log_Reg(C = 10 ** -5, class_weight = 'balanced').fit(x_train, y_train))\n",
    "    model_stack.append(LDA(shrinkage = 1, solver = 'lsqr').fit(x_train, y_train))\n",
    "    model_stack.append(QDA(reg_param = 1).fit(x_train, y_train))\n",
    "    model_stack.append(RFC(n_estimators = 300, max_depth = 5, class_weight = 'balanced').fit(x_train, y_train))\n",
    "    model_stack.append(GBC(n_estimators = 10, max_depth = 2, learning_rate = 0.1).fit(x_train, y_train))\n",
    "    model_stack.append(DTC(max_depth = 10, max_features = 'log2', class_weight = 'balanced', \n",
    "                           criterion = 'gini').fit(x_train, y_train))\n",
    "    model_stack.append(DTC(max_depth = 20, max_features = 'sqrt', class_weight = 'balanced', \n",
    "                           criterion = 'entropy').fit(x_train, y_train))\n",
    "    model_stack.append(DTC(max_depth = 20, max_features = None, \n",
    "                           criterion = 'entropy').fit(x_train, y_train))\n",
    "    #model_stack.append(SVC(class_weight = 'balanced').fit(x_train, y_train))\n",
    "    \n",
    "    return model_stack"
   ]
  },
  {
   "cell_type": "code",
   "execution_count": 584,
   "metadata": {
    "collapsed": false
   },
   "outputs": [],
   "source": [
    "# function to fit and score a stacking ensemble\n",
    "# TO DO: CV\n",
    "def fit_score_stacking(model_stack, x_train, y_train, x_test, y_test, combiner):\n",
    "    n_train = x_train.shape[0]\n",
    "    n_test = x_test.shape[0]\n",
    "    num_models = len(model_stack)\n",
    "\n",
    "    # create variables to hold predictions\n",
    "    y_train_stack = np.zeros((n_train, num_models))\n",
    "    y_test_stack = np.zeros((n_test, num_models))\n",
    "\n",
    "    # predict with each model on training and testing data\n",
    "    for index in range(num_models):\n",
    "        model = model_stack[index]\n",
    "        y_train_stack[:, index] = model.predict(x_train)\n",
    "        y_test_stack[:, index] = model.predict(x_test)\n",
    "\n",
    "    # fit and predict with ensemble\n",
    "    combiner.fit(y_train_stack, y_train)\n",
    "    test_y_hat = combiner.predict(y_test_stack)\n",
    "    \n",
    "    # score with ensemble\n",
    "    score = combiner.score(y_train_stack, y_train)\n",
    "    test_score = combiner.score(y_test_stack, y_test)\n",
    "    cm = confusion_matrix(y_test, test_y_hat)\n",
    "    test_f1 = f1_score(y_test, test_y_hat, pos_label = 1)\n",
    "    test_precision = 1 - y_test[test_y_hat].mean()\n",
    "    \n",
    "    # format confusion matrix\n",
    "    cm_df = pd.DataFrame(cm, columns = [\"Predicted_bad\", \"Predicted_good\"])\n",
    "    row_labels = pd.DataFrame([\"Actual_bad\", \"Actual_good\"])\n",
    "    cm_df = pd.concat((row_labels, cm_df), axis = 1)\n",
    "    \n",
    "    profit_mm = calc_expected_profit(profit_data_test, test_y_hat)\n",
    "\n",
    "    return score, test_score, cm_df, test_f1, test_precision, profit_mm"
   ]
  },
  {
   "cell_type": "code",
   "execution_count": 585,
   "metadata": {
    "collapsed": true
   },
   "outputs": [],
   "source": [
    "# fit and score a stacked model for given predictors and response\n",
    "def try_one_stacked_model(model_stack, x_train, y_train, x_test, y_test, combiner):\n",
    "\n",
    "    score, test_score, cm_df, test_f1, test_precision, profit_mm = \\\n",
    "        fit_score_stacking(model_stack, x_train, y_train, x_test, y_test, combiner)\n",
    "\n",
    "    print \"%d  score: %.3f  baseline: %.3f   wscore: ----   f1: ----  | test score %.3f  1-prec %.3f f1 %.3f  GP %dMM\" \\\n",
    "         % (0, score, 1 - y_train.mean(), test_score, test_precision, test_f1, profit_mm)"
   ]
  },
  {
   "cell_type": "markdown",
   "metadata": {},
   "source": [
    "#### Regular Data"
   ]
  },
  {
   "cell_type": "code",
   "execution_count": 586,
   "metadata": {
    "collapsed": false
   },
   "outputs": [],
   "source": [
    "model_stack = create_model_stack(x_expanded, y)"
   ]
  },
  {
   "cell_type": "code",
   "execution_count": 587,
   "metadata": {
    "collapsed": false,
    "scrolled": true
   },
   "outputs": [
    {
     "name": "stdout",
     "output_type": "stream",
     "text": [
      "0  score: 0.486  baseline: 0.845   wscore: ----   f1: ----  | test score 0.412  1-prec 0.816 f1 0.302  GP 379MM\n"
     ]
    }
   ],
   "source": [
    "combiner = Log_Reg(C = 10 ** -5, class_weight = 'balanced', penalty = 'l2', solver = 'liblinear')\n",
    "try_one_stacked_model(model_stack, x_expanded, y, x_test_expanded, y_test, combiner)"
   ]
  },
  {
   "cell_type": "code",
   "execution_count": 589,
   "metadata": {
    "collapsed": false
   },
   "outputs": [
    {
     "name": "stdout",
     "output_type": "stream",
     "text": [
      "0  score: 0.878  baseline: 0.845   wscore: ----   f1: ----  | test score 0.692  1-prec 0.783 f1 0.280  GP -254MM\n"
     ]
    }
   ],
   "source": [
    "combiner = RFC(class_weight = 'balanced')\n",
    "try_one_stacked_model(model_stack, x_expanded, y, x_test_expanded, y_test, combiner)"
   ]
  },
  {
   "cell_type": "code",
   "execution_count": null,
   "metadata": {
    "collapsed": true
   },
   "outputs": [],
   "source": []
  }
 ],
 "metadata": {
  "anaconda-cloud": {},
  "kernelspec": {
   "display_name": "Python [conda root]",
   "language": "python",
   "name": "conda-root-py"
  },
  "language_info": {
   "codemirror_mode": {
    "name": "ipython",
    "version": 2
   },
   "file_extension": ".py",
   "mimetype": "text/x-python",
   "name": "python",
   "nbconvert_exporter": "python",
   "pygments_lexer": "ipython2",
   "version": "2.7.12"
  }
 },
 "nbformat": 4,
 "nbformat_minor": 0
}
