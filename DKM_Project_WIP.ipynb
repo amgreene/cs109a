{
 "cells": [
  {
   "cell_type": "markdown",
   "metadata": {},
   "source": [
    "# CS 109A - Intro to Data Science: Project (WIP)\n",
    "## Predicting Loan Outcomes\n",
    "## Group: Andrew Greene and David Modjeska\n",
    "### Harvard University, Fall 2016"
   ]
  },
  {
   "cell_type": "code",
   "execution_count": 1,
   "metadata": {
    "collapsed": false
   },
   "outputs": [],
   "source": [
    "import itertools as it\n",
    "import matplotlib\n",
    "import matplotlib.cm as cmx\n",
    "import matplotlib.colors as colors\n",
    "import matplotlib.pyplot as plt\n",
    "import numpy as np\n",
    "import os.path as op\n",
    "import pandas as pd\n",
    "import re\n",
    "import scipy as sp\n",
    "import sklearn.preprocessing as Preprocessing\n",
    "\n",
    "import enchant\n",
    "\n",
    "from itertools import combinations\n",
    "from sklearn.cross_validation import KFold as kfold\n",
    "from sklearn.cross_validation import train_test_split as sk_split\n",
    "from sklearn.decomposition import TruncatedSVD as tSVD\n",
    "from sklearn.feature_extraction.text import CountVectorizer\n",
    "from sklearn.linear_model import LinearRegression as Lin_Reg\n",
    "from sklearn.linear_model import LogisticRegression as Log_Reg\n",
    "from sklearn.metrics import confusion_matrix\n",
    "from sklearn.neighbors import KNeighborsClassifier as KNN\n",
    "\n",
    "%matplotlib inline"
   ]
  },
  {
   "cell_type": "markdown",
   "metadata": {},
   "source": [
    "## Step 1: Clean Data"
   ]
  },
  {
   "cell_type": "code",
   "execution_count": 2,
   "metadata": {
    "collapsed": false
   },
   "outputs": [],
   "source": [
    "# helper function to select the columns of interest from the data set\n",
    "def Select_Data(data):\n",
    "    \n",
    "    # list columns to select\n",
    "    features_to_select = [\"loan_status\", \"annual_inc\", \"earliest_cr_line\", \"delinq_2yrs\", \\\n",
    "                          \"emp_length\", \"home_ownership\", \"inq_last_6mths\", \"loan_amnt\", \\\n",
    "                         \"purpose\", \"open_acc\", \"total_acc\", \"term\", \"installment\", \\\n",
    "                         \"revol_bal\", \"sub_grade\", \"issue_d\"]\n",
    "    ratios_to_select = [\"dti\", \"revol_util\"]\n",
    "    text_to_select = [\"desc\"]\n",
    "\n",
    "    # concatenate selected columns\n",
    "    data_select = pd.concat(( \\\n",
    "                            data[features_to_select],\n",
    "                            data[ratios_to_select], \\\n",
    "                            data[text_to_select]), \\\n",
    "                            axis = 1)\n",
    "\n",
    "    # synthesize new columns, and drop temporary columns\n",
    "    monthly_inc = (data[\"annual_inc\"] / 12)\n",
    "    data_select[\"ipr\"] = data[\"installment\"] / monthly_inc # income to payment ratio\n",
    "    data_select[\"rir\"] = data[\"revol_bal\"] / monthly_inc # revolving to income ratio\n",
    "    data_select = data_select.drop(\"installment\", axis = 1)\n",
    "    data_select = data_select.drop(\"revol_bal\", axis = 1)\n",
    "    \n",
    "    # rename columns for legibility\n",
    "    data_select.columns = [\n",
    "        \"loan_status\", \"annual_income\", \"earliest_credit\", \"delinq_2_yrs\", \\\n",
    "        \"employ_length\", \"home_owner\", \"inquiry_6_mos\", \"loan_amount\", \\\n",
    "        \"loan_purpose\", \"open_accounts\", \"total_acccounts\", \"loan_term\", \\\n",
    "        \"loan_subgrade\", \"issue_date\", \"dti\", \"revol_util\", \"description\", \\\n",
    "        \"ipr\", \"rir\" \\\n",
    "    ]\n",
    "    \n",
    "    return data_select"
   ]
  },
  {
   "cell_type": "code",
   "execution_count": 3,
   "metadata": {
    "collapsed": false
   },
   "outputs": [],
   "source": [
    "# helper function to filter the data set down to rows of interest\n",
    "def Filter_Data(data_select):\n",
    "    \n",
    "    # set flags for resolved loans\n",
    "    status_indexes = (data_select[\"loan_status\"] == \"Fully Paid\") | \\\n",
    "                    (data_select[\"loan_status\"] == \"Charged Off\")\n",
    "\n",
    "    # set flags for date range of interest\n",
    "    earliest_date = pd.to_datetime(\"2012-01-01\")\n",
    "    data_my = pd.to_datetime(data_select[\"issue_date\"])\n",
    "    date_indexes = (data_my > earliest_date)\n",
    "\n",
    "    # filter rows per flags of interest\n",
    "    data_filter = data_select.ix[status_indexes & date_indexes, :].reset_index()\n",
    "    data_filter = data_filter.drop(\"issue_date\", axis = 1)\n",
    "    \n",
    "    return data_filter"
   ]
  },
  {
   "cell_type": "code",
   "execution_count": 4,
   "metadata": {
    "collapsed": false
   },
   "outputs": [],
   "source": [
    "# helper function to clean data - recoding, retyping, pruning, and censoring\n",
    "def Clean_Data(data_filter):\n",
    "    data_clean = data_filter.copy()\n",
    "\n",
    "    # recode loan status as boolean: fully paid = True\n",
    "    data_clean[\"loan_status\"] = data_clean[\"loan_status\"] == \"Fully Paid\"\n",
    "\n",
    "    # recode loan subgrades from 1 (best) to 35 (worst)\n",
    "    num_grades = 5\n",
    "    grade = data_clean[\"loan_subgrade\"].str[0]\n",
    "    grade = (pd.DataFrame(ord(c) for c in grade) - ord('A')) * num_grades\n",
    "    sub_grade = data_clean[\"loan_subgrade\"].str[1].astype('int')\n",
    "    data_clean[\"loan_subgrade\"] =  grade + sub_grade\n",
    "\n",
    "    # convert earliest credit date to datetime\n",
    "    data_clean[\"earliest_credit\"] = pd.to_datetime(data_clean[\"earliest_credit\"])\n",
    "\n",
    "    # prune extra text in loan term \n",
    "    data_clean[\"loan_term\"] = data_clean[\"loan_term\"].str.replace(\" months\", \"\")\n",
    "\n",
    "    # prune extra text in employment length, and right-censor\n",
    "    data_clean[\"employ_length\"] = data_clean[\"employ_length\"].str.replace(\" years*\", \"\")\n",
    "    data_clean[\"employ_length\"] = data_clean[\"employ_length\"].str.replace(\"10\\+\", \"10\")\n",
    "    data_clean[\"employ_length\"] = data_clean[\"employ_length\"].str.replace(\"< 1\", \"0\")\n",
    "    \n",
    "    # right-censor delinquencies and inquiries\n",
    "    data_clean[\"delinq_2_yrs\"] = np.clip(data_clean[\"delinq_2_yrs\"], 0, 2)\n",
    "    data_clean[\"inquiry_6_mos\"] = np.clip(data_clean[\"inquiry_6_mos\"], 0, 3)\n",
    "    \n",
    "    return data_clean"
   ]
  },
  {
   "cell_type": "code",
   "execution_count": 5,
   "metadata": {
    "collapsed": false
   },
   "outputs": [],
   "source": [
    "# helper function to clean data - filtering nuisance NaNs (not structural NaNs)\n",
    "def Clean_Data2(data_clean):\n",
    "    n, p = data_clean.shape\n",
    "    \n",
    "    # count nulls by column\n",
    "    col_nan_pct = data_clean.isnull().sum() / n\n",
    "    \n",
    "    # flag columns that have some nuisance nulls\n",
    "    cols_with_nans = (col_nan_pct > 0.0) & (col_nan_pct < 0.01)\n",
    "    \n",
    "    # flag rows that have some nuisance nulls in the flagged columns\n",
    "    rows_without_nans_flags = data_clean.ix[:, cols_with_nans].notnull()\n",
    "    \n",
    "    # index the flagged rows with some nuisance nulls\n",
    "    rows_without_nans_indexes = np.where(rows_without_nans_flags)\n",
    "    \n",
    "    # filter the data set to rows with no nuisance nulls\n",
    "    data_clean2 = data_clean.ix[rows_without_nans_indexes[0], :]\n",
    "    \n",
    "    return data_clean2"
   ]
  },
  {
   "cell_type": "code",
   "execution_count": 6,
   "metadata": {
    "collapsed": false
   },
   "outputs": [],
   "source": [
    "# helper function to pre-process each data subset to get around memory limits\n",
    "def Prep_Data_Part(index, num_parts, file_prefix, data_all):\n",
    "    filename = file_prefix + str(index) + \".csv\"\n",
    "    \n",
    "    # pre-process new data part if the file doesn't already exist\n",
    "    if not op.isfile(filename):\n",
    "        n, p = data_all.shape\n",
    "        \n",
    "        # pre-process the row range for this data part, avoiding empty data subsets\n",
    "        start_row = index * (n / num_parts)\n",
    "        data_part = data_all.ix[range(start_row, start_row + (n / num_parts)), :]\n",
    "        if data_part.shape[0] > 0:\n",
    "            data_select = Select_Data(data_part)\n",
    "            data_filter = Filter_Data(data_select)\n",
    "            if data_filter.shape[0] > 0:\n",
    "                data_clean = Clean_Data(data_filter)\n",
    "                data_clean2 = Clean_Data2(data_clean)\n",
    "                data_clean2.to_csv(filename, index = False)"
   ]
  },
  {
   "cell_type": "code",
   "execution_count": 7,
   "metadata": {
    "collapsed": false
   },
   "outputs": [],
   "source": [
    "# helper function to pre-process full data set and save new file, \n",
    "# or to read pre-processed file if it already exists\n",
    "def Preprocess_Full_Dataset():\n",
    "    file_prefix = \"./data_parts/loan_clean_part\"\n",
    "    full_clean_data_file = \"loan_clean_data.csv\"\n",
    "    num_parts = 30\n",
    "\n",
    "    # pre-process data set and save result as new file\n",
    "    if not op.isfile(full_clean_data_file):\n",
    "\n",
    "        # pre-process and save part files\n",
    "        data_raw = pd.read_csv(\"loan.csv\")\n",
    "        for part in range(num_parts):\n",
    "            Prep_Data_Part(part, num_parts, file_prefix, data_raw)       \n",
    "\n",
    "        # read and concatenate part files\n",
    "        data = pd.DataFrame({})\n",
    "        for part in range(num_parts):\n",
    "            file_part = file_prefix + str(part) + \".csv\"\n",
    "            if op.isfile(file_part):\n",
    "                data_part = pd.read_csv(file_part)\n",
    "                data = pd.concat((data, data_part), axis = 0)\n",
    "\n",
    "        # save full file\n",
    "        data = data.reset_index()\n",
    "        data.to_csv(full_clean_data_file, index = False)\n",
    "\n",
    "    # read pre-processed full data file\n",
    "    else:\n",
    "        data = pd.read_csv(full_clean_data_file)\n",
    "        \n",
    "    return data"
   ]
  },
  {
   "cell_type": "code",
   "execution_count": 8,
   "metadata": {
    "collapsed": true
   },
   "outputs": [],
   "source": [
    "# helper function to pre-process sampled data set and save new file, \n",
    "# or to read pre-processed file if it already exists\n",
    "def Preprocess_Sample_Dataset():\n",
    "    sample_percent = 10\n",
    "    sample_clean_data_file = \"loan_clean_data_\" + str(sample_percent) + \"pct.csv\"\n",
    "\n",
    "    # pre-process sample data set and save result as new file\n",
    "    if not op.isfile(sample_clean_data_file):\n",
    "        data_raw = pd.read_csv(\"loan.csv\")\n",
    "        data_sample, data_other = sk_split(data_raw, train_size = sample_percent / 100.0)\n",
    "        data_select = Select_Data(data_sample)\n",
    "        data_filter = Filter_Data(data_select)\n",
    "        data_clean = Clean_Data(data_filter)\n",
    "        data_clean2 = Clean_Data2(data_clean)\n",
    "        data_clean2.to_csv(sample_clean_data_file, index = False)\n",
    "\n",
    "    # read pre-processed sample data file\n",
    "    else:\n",
    "        data_clean2 = pd.read_csv(sample_clean_data_file)\n",
    "        \n",
    "    return data_clean2"
   ]
  },
  {
   "cell_type": "code",
   "execution_count": 9,
   "metadata": {
    "collapsed": false
   },
   "outputs": [],
   "source": [
    "# create or load appropriate version of data set for analysis\n",
    "\n",
    "load_full = False\n",
    "\n",
    "if load_full:\n",
    "    data = Preprocess_Full_Dataset()\n",
    "    \n",
    "else:\n",
    "    data = Preprocess_Sample_Dataset()"
   ]
  },
  {
   "cell_type": "code",
   "execution_count": 10,
   "metadata": {
    "collapsed": false
   },
   "outputs": [],
   "source": [
    "# set column data types\n",
    "data[\"loan_status\"] = data[\"loan_status\"].astype('bool')\n",
    "data[\"loan_subgrade\"] = data[\"loan_subgrade\"].astype('int')\n",
    "data[\"description\"] = data[\"description\"].astype('str')\n",
    "\n",
    "nan_flags = data[\"description\"].str.match(\"nan\")\n",
    "data.ix[nan_flags, \"description\"] = None\n",
    "\n",
    "    \n",
    "# replace all numbers with a token\n",
    "data[\"description\"] = data[\"description\"].str.replace(\"[0-9]+\", \"_number_\")"
   ]
  },
  {
   "cell_type": "code",
   "execution_count": 11,
   "metadata": {
    "collapsed": false
   },
   "outputs": [
    {
     "name": "stdout",
     "output_type": "stream",
     "text": [
      "\n",
      "Count of nulls in data set by column:\n",
      "\n",
      "index                  0\n",
      "loan_status            0\n",
      "annual_income          0\n",
      "earliest_credit        0\n",
      "delinq_2_yrs           0\n",
      "employ_length          0\n",
      "home_owner             0\n",
      "inquiry_6_mos          0\n",
      "loan_amount            0\n",
      "loan_purpose           0\n",
      "open_accounts          0\n",
      "total_acccounts        0\n",
      "loan_term              0\n",
      "loan_subgrade          0\n",
      "dti                    0\n",
      "revol_util             0\n",
      "description        15046\n",
      "ipr                    0\n",
      "rir                    0\n",
      "dtype: int64\n",
      "\n"
     ]
    }
   ],
   "source": [
    "# summarize nulls/NaNs in data columns\n",
    "# FIX - print only cols with nulls\n",
    "print\n",
    "print \"Count of nulls in data set by column:\\n\"\n",
    "print data.isnull().sum()\n",
    "print"
   ]
  },
  {
   "cell_type": "markdown",
   "metadata": {},
   "source": [
    "## Step 2: Explore Data"
   ]
  },
  {
   "cell_type": "code",
   "execution_count": 12,
   "metadata": {
    "collapsed": true
   },
   "outputs": [],
   "source": [
    "def good_bad_quantile_plot(data, column):\n",
    "    col_data = data[column]\n",
    "    nulls = pd.isnull(col_data)\n",
    "    col_data = col_data[~nulls]\n",
    "    #if col_data.dtype == '<M8[ns]':\n",
    "    #    col_data = col_data.dt.strftime('%Y-%m')\n",
    "    defaults = data['loan_status'] == True  # for now TODO\n",
    "\n",
    "    # 45-degree line\n",
    "    plt.plot(\n",
    "        [min(col_data), max(col_data)],\n",
    "        [min(col_data), max(col_data)],\n",
    "        c='k'\n",
    "    )\n",
    "    # Actual qq plot\n",
    "    plt.plot(\n",
    "        list(col_data[~defaults].quantile(q=np.arange(0.0, 1.005, .005))),\n",
    "        list(col_data[defaults].quantile(q=np.arange(0.0, 1.0005, .005))),\n",
    "        c='r'\n",
    "    )\n",
    "    plt.scatter(\n",
    "        list(col_data[~defaults].quantile(q=np.arange(0.0, 1.1, .1))),\n",
    "        list(col_data[defaults].quantile(q=np.arange(0.0, 1.1, .1))),\n",
    "        c='r'\n",
    "    )\n",
    "    plt.title(\"QQ plot for \" + column)\n",
    "    plt.xlabel('Good loans')\n",
    "    plt.ylabel('Bad loans')\n",
    "    plt.show()"
   ]
  },
  {
   "cell_type": "code",
   "execution_count": 13,
   "metadata": {
    "collapsed": false
   },
   "outputs": [
    {
     "name": "stdout",
     "output_type": "stream",
     "text": [
      "\n",
      "The shape of the data is (21087, 19)\n",
      "\n"
     ]
    }
   ],
   "source": [
    "# print dataset shape, and widen pandas dataframe display\n",
    "n, p = data.shape\n",
    "pd.set_option('display.max_columns', p)\n",
    "\n",
    "print\n",
    "print \"The shape of the data is\", data.shape\n",
    "print"
   ]
  },
  {
   "cell_type": "code",
   "execution_count": 14,
   "metadata": {
    "collapsed": false,
    "scrolled": true
   },
   "outputs": [
    {
     "name": "stdout",
     "output_type": "stream",
     "text": [
      "\n"
     ]
    },
    {
     "data": {
      "text/html": [
       "<div>\n",
       "<table border=\"1\" class=\"dataframe\">\n",
       "  <thead>\n",
       "    <tr style=\"text-align: right;\">\n",
       "      <th></th>\n",
       "      <th>index</th>\n",
       "      <th>loan_status</th>\n",
       "      <th>annual_income</th>\n",
       "      <th>earliest_credit</th>\n",
       "      <th>delinq_2_yrs</th>\n",
       "      <th>employ_length</th>\n",
       "      <th>home_owner</th>\n",
       "      <th>inquiry_6_mos</th>\n",
       "      <th>loan_amount</th>\n",
       "      <th>loan_purpose</th>\n",
       "      <th>open_accounts</th>\n",
       "      <th>total_acccounts</th>\n",
       "      <th>loan_term</th>\n",
       "      <th>loan_subgrade</th>\n",
       "      <th>dti</th>\n",
       "      <th>revol_util</th>\n",
       "      <th>description</th>\n",
       "      <th>ipr</th>\n",
       "      <th>rir</th>\n",
       "    </tr>\n",
       "  </thead>\n",
       "  <tbody>\n",
       "    <tr>\n",
       "      <th>0</th>\n",
       "      <td>121060</td>\n",
       "      <td>True</td>\n",
       "      <td>52050.0</td>\n",
       "      <td>1995-10-01</td>\n",
       "      <td>1.0</td>\n",
       "      <td>10</td>\n",
       "      <td>OWN</td>\n",
       "      <td>1.0</td>\n",
       "      <td>6800.0</td>\n",
       "      <td>credit_card</td>\n",
       "      <td>3.0</td>\n",
       "      <td>20.0</td>\n",
       "      <td>36</td>\n",
       "      <td>8</td>\n",
       "      <td>0.58</td>\n",
       "      <td>2.4</td>\n",
       "      <td>Borrower added on _number_/_number_/_number_...</td>\n",
       "      <td>0.051735</td>\n",
       "      <td>0.011758</td>\n",
       "    </tr>\n",
       "    <tr>\n",
       "      <th>1</th>\n",
       "      <td>85617</td>\n",
       "      <td>True</td>\n",
       "      <td>30000.0</td>\n",
       "      <td>1994-10-01</td>\n",
       "      <td>0.0</td>\n",
       "      <td>10</td>\n",
       "      <td>MORTGAGE</td>\n",
       "      <td>0.0</td>\n",
       "      <td>9000.0</td>\n",
       "      <td>credit_card</td>\n",
       "      <td>14.0</td>\n",
       "      <td>20.0</td>\n",
       "      <td>36</td>\n",
       "      <td>3</td>\n",
       "      <td>19.84</td>\n",
       "      <td>14.6</td>\n",
       "      <td>Borrower added on _number_/_number_/_number_...</td>\n",
       "      <td>0.112184</td>\n",
       "      <td>3.622000</td>\n",
       "    </tr>\n",
       "    <tr>\n",
       "      <th>2</th>\n",
       "      <td>296998</td>\n",
       "      <td>True</td>\n",
       "      <td>35000.0</td>\n",
       "      <td>2009-07-01</td>\n",
       "      <td>0.0</td>\n",
       "      <td>0</td>\n",
       "      <td>RENT</td>\n",
       "      <td>1.0</td>\n",
       "      <td>12000.0</td>\n",
       "      <td>credit_card</td>\n",
       "      <td>4.0</td>\n",
       "      <td>7.0</td>\n",
       "      <td>36</td>\n",
       "      <td>18</td>\n",
       "      <td>34.81</td>\n",
       "      <td>92.5</td>\n",
       "      <td>None</td>\n",
       "      <td>0.143856</td>\n",
       "      <td>3.648343</td>\n",
       "    </tr>\n",
       "    <tr>\n",
       "      <th>3</th>\n",
       "      <td>693894</td>\n",
       "      <td>True</td>\n",
       "      <td>65000.0</td>\n",
       "      <td>2002-08-01</td>\n",
       "      <td>0.0</td>\n",
       "      <td>2</td>\n",
       "      <td>RENT</td>\n",
       "      <td>1.0</td>\n",
       "      <td>10000.0</td>\n",
       "      <td>debt_consolidation</td>\n",
       "      <td>15.0</td>\n",
       "      <td>22.0</td>\n",
       "      <td>36</td>\n",
       "      <td>13</td>\n",
       "      <td>14.70</td>\n",
       "      <td>99.0</td>\n",
       "      <td>None</td>\n",
       "      <td>0.061575</td>\n",
       "      <td>0.932123</td>\n",
       "    </tr>\n",
       "    <tr>\n",
       "      <th>4</th>\n",
       "      <td>176877</td>\n",
       "      <td>False</td>\n",
       "      <td>75000.0</td>\n",
       "      <td>1995-06-01</td>\n",
       "      <td>1.0</td>\n",
       "      <td>10</td>\n",
       "      <td>MORTGAGE</td>\n",
       "      <td>0.0</td>\n",
       "      <td>21250.0</td>\n",
       "      <td>debt_consolidation</td>\n",
       "      <td>8.0</td>\n",
       "      <td>27.0</td>\n",
       "      <td>36</td>\n",
       "      <td>8</td>\n",
       "      <td>3.15</td>\n",
       "      <td>51.0</td>\n",
       "      <td>Borrower added on _number_/_number_/_number_...</td>\n",
       "      <td>0.111538</td>\n",
       "      <td>0.921280</td>\n",
       "    </tr>\n",
       "  </tbody>\n",
       "</table>\n",
       "</div>"
      ],
      "text/plain": [
       "    index loan_status  annual_income earliest_credit  delinq_2_yrs  \\\n",
       "0  121060        True        52050.0      1995-10-01           1.0   \n",
       "1   85617        True        30000.0      1994-10-01           0.0   \n",
       "2  296998        True        35000.0      2009-07-01           0.0   \n",
       "3  693894        True        65000.0      2002-08-01           0.0   \n",
       "4  176877       False        75000.0      1995-06-01           1.0   \n",
       "\n",
       "  employ_length home_owner  inquiry_6_mos  loan_amount        loan_purpose  \\\n",
       "0            10        OWN            1.0       6800.0         credit_card   \n",
       "1            10   MORTGAGE            0.0       9000.0         credit_card   \n",
       "2             0       RENT            1.0      12000.0         credit_card   \n",
       "3             2       RENT            1.0      10000.0  debt_consolidation   \n",
       "4            10   MORTGAGE            0.0      21250.0  debt_consolidation   \n",
       "\n",
       "   open_accounts  total_acccounts  loan_term  loan_subgrade    dti  \\\n",
       "0            3.0             20.0         36              8   0.58   \n",
       "1           14.0             20.0         36              3  19.84   \n",
       "2            4.0              7.0         36             18  34.81   \n",
       "3           15.0             22.0         36             13  14.70   \n",
       "4            8.0             27.0         36              8   3.15   \n",
       "\n",
       "   revol_util                                        description       ipr  \\\n",
       "0         2.4    Borrower added on _number_/_number_/_number_...  0.051735   \n",
       "1        14.6    Borrower added on _number_/_number_/_number_...  0.112184   \n",
       "2        92.5                                               None  0.143856   \n",
       "3        99.0                                               None  0.061575   \n",
       "4        51.0    Borrower added on _number_/_number_/_number_...  0.111538   \n",
       "\n",
       "        rir  \n",
       "0  0.011758  \n",
       "1  3.622000  \n",
       "2  3.648343  \n",
       "3  0.932123  \n",
       "4  0.921280  "
      ]
     },
     "execution_count": 14,
     "metadata": {},
     "output_type": "execute_result"
    }
   ],
   "source": [
    "# display top rows of data set\n",
    "print\n",
    "data.head()"
   ]
  },
  {
   "cell_type": "code",
   "execution_count": 15,
   "metadata": {
    "collapsed": false,
    "scrolled": false
   },
   "outputs": [
    {
     "name": "stdout",
     "output_type": "stream",
     "text": [
      "\n"
     ]
    },
    {
     "data": {
      "text/html": [
       "<div>\n",
       "<table border=\"1\" class=\"dataframe\">\n",
       "  <thead>\n",
       "    <tr style=\"text-align: right;\">\n",
       "      <th></th>\n",
       "      <th>index</th>\n",
       "      <th>annual_income</th>\n",
       "      <th>delinq_2_yrs</th>\n",
       "      <th>inquiry_6_mos</th>\n",
       "      <th>loan_amount</th>\n",
       "      <th>open_accounts</th>\n",
       "      <th>total_acccounts</th>\n",
       "      <th>loan_term</th>\n",
       "      <th>loan_subgrade</th>\n",
       "      <th>dti</th>\n",
       "      <th>revol_util</th>\n",
       "      <th>ipr</th>\n",
       "      <th>rir</th>\n",
       "    </tr>\n",
       "  </thead>\n",
       "  <tbody>\n",
       "    <tr>\n",
       "      <th>count</th>\n",
       "      <td>21087.000000</td>\n",
       "      <td>21087.000000</td>\n",
       "      <td>21087.000000</td>\n",
       "      <td>21087.000000</td>\n",
       "      <td>21087.000000</td>\n",
       "      <td>21087.000000</td>\n",
       "      <td>21087.000000</td>\n",
       "      <td>21087.000000</td>\n",
       "      <td>21087.000000</td>\n",
       "      <td>21087.000000</td>\n",
       "      <td>21087.000000</td>\n",
       "      <td>21087.000000</td>\n",
       "      <td>21087.000000</td>\n",
       "    </tr>\n",
       "    <tr>\n",
       "      <th>mean</th>\n",
       "      <td>294117.985584</td>\n",
       "      <td>72674.237168</td>\n",
       "      <td>0.231185</td>\n",
       "      <td>0.820268</td>\n",
       "      <td>14006.920140</td>\n",
       "      <td>11.302651</td>\n",
       "      <td>25.682269</td>\n",
       "      <td>41.389102</td>\n",
       "      <td>12.276094</td>\n",
       "      <td>17.249213</td>\n",
       "      <td>55.088865</td>\n",
       "      <td>0.080208</td>\n",
       "      <td>2.698419</td>\n",
       "    </tr>\n",
       "    <tr>\n",
       "      <th>std</th>\n",
       "      <td>210749.155111</td>\n",
       "      <td>45229.940941</td>\n",
       "      <td>0.540057</td>\n",
       "      <td>0.962909</td>\n",
       "      <td>8221.157957</td>\n",
       "      <td>4.936765</td>\n",
       "      <td>11.739641</td>\n",
       "      <td>10.015028</td>\n",
       "      <td>6.592157</td>\n",
       "      <td>7.882482</td>\n",
       "      <td>23.983650</td>\n",
       "      <td>0.040303</td>\n",
       "      <td>2.280171</td>\n",
       "    </tr>\n",
       "    <tr>\n",
       "      <th>min</th>\n",
       "      <td>42546.000000</td>\n",
       "      <td>5000.000000</td>\n",
       "      <td>0.000000</td>\n",
       "      <td>0.000000</td>\n",
       "      <td>1000.000000</td>\n",
       "      <td>1.000000</td>\n",
       "      <td>2.000000</td>\n",
       "      <td>36.000000</td>\n",
       "      <td>3.000000</td>\n",
       "      <td>0.000000</td>\n",
       "      <td>0.000000</td>\n",
       "      <td>0.003340</td>\n",
       "      <td>0.000000</td>\n",
       "    </tr>\n",
       "    <tr>\n",
       "      <th>25%</th>\n",
       "      <td>149062.500000</td>\n",
       "      <td>45000.000000</td>\n",
       "      <td>0.000000</td>\n",
       "      <td>0.000000</td>\n",
       "      <td>8000.000000</td>\n",
       "      <td>8.000000</td>\n",
       "      <td>17.000000</td>\n",
       "      <td>36.000000</td>\n",
       "      <td>8.000000</td>\n",
       "      <td>11.350000</td>\n",
       "      <td>37.700000</td>\n",
       "      <td>0.049367</td>\n",
       "      <td>1.255619</td>\n",
       "    </tr>\n",
       "    <tr>\n",
       "      <th>50%</th>\n",
       "      <td>215343.000000</td>\n",
       "      <td>63000.000000</td>\n",
       "      <td>0.000000</td>\n",
       "      <td>1.000000</td>\n",
       "      <td>12000.000000</td>\n",
       "      <td>10.000000</td>\n",
       "      <td>24.000000</td>\n",
       "      <td>36.000000</td>\n",
       "      <td>13.000000</td>\n",
       "      <td>16.800000</td>\n",
       "      <td>56.500000</td>\n",
       "      <td>0.074968</td>\n",
       "      <td>2.229600</td>\n",
       "    </tr>\n",
       "    <tr>\n",
       "      <th>75%</th>\n",
       "      <td>392737.000000</td>\n",
       "      <td>88000.000000</td>\n",
       "      <td>0.000000</td>\n",
       "      <td>1.000000</td>\n",
       "      <td>19200.000000</td>\n",
       "      <td>14.000000</td>\n",
       "      <td>32.000000</td>\n",
       "      <td>36.000000</td>\n",
       "      <td>18.000000</td>\n",
       "      <td>22.940000</td>\n",
       "      <td>74.000000</td>\n",
       "      <td>0.106676</td>\n",
       "      <td>3.562400</td>\n",
       "    </tr>\n",
       "    <tr>\n",
       "      <th>max</th>\n",
       "      <td>887364.000000</td>\n",
       "      <td>940000.000000</td>\n",
       "      <td>2.000000</td>\n",
       "      <td>3.000000</td>\n",
       "      <td>35000.000000</td>\n",
       "      <td>48.000000</td>\n",
       "      <td>150.000000</td>\n",
       "      <td>60.000000</td>\n",
       "      <td>33.000000</td>\n",
       "      <td>39.980000</td>\n",
       "      <td>146.100000</td>\n",
       "      <td>0.226482</td>\n",
       "      <td>60.946667</td>\n",
       "    </tr>\n",
       "  </tbody>\n",
       "</table>\n",
       "</div>"
      ],
      "text/plain": [
       "               index  annual_income  delinq_2_yrs  inquiry_6_mos  \\\n",
       "count   21087.000000   21087.000000  21087.000000   21087.000000   \n",
       "mean   294117.985584   72674.237168      0.231185       0.820268   \n",
       "std    210749.155111   45229.940941      0.540057       0.962909   \n",
       "min     42546.000000    5000.000000      0.000000       0.000000   \n",
       "25%    149062.500000   45000.000000      0.000000       0.000000   \n",
       "50%    215343.000000   63000.000000      0.000000       1.000000   \n",
       "75%    392737.000000   88000.000000      0.000000       1.000000   \n",
       "max    887364.000000  940000.000000      2.000000       3.000000   \n",
       "\n",
       "        loan_amount  open_accounts  total_acccounts     loan_term  \\\n",
       "count  21087.000000   21087.000000     21087.000000  21087.000000   \n",
       "mean   14006.920140      11.302651        25.682269     41.389102   \n",
       "std     8221.157957       4.936765        11.739641     10.015028   \n",
       "min     1000.000000       1.000000         2.000000     36.000000   \n",
       "25%     8000.000000       8.000000        17.000000     36.000000   \n",
       "50%    12000.000000      10.000000        24.000000     36.000000   \n",
       "75%    19200.000000      14.000000        32.000000     36.000000   \n",
       "max    35000.000000      48.000000       150.000000     60.000000   \n",
       "\n",
       "       loan_subgrade           dti    revol_util           ipr           rir  \n",
       "count   21087.000000  21087.000000  21087.000000  21087.000000  21087.000000  \n",
       "mean       12.276094     17.249213     55.088865      0.080208      2.698419  \n",
       "std         6.592157      7.882482     23.983650      0.040303      2.280171  \n",
       "min         3.000000      0.000000      0.000000      0.003340      0.000000  \n",
       "25%         8.000000     11.350000     37.700000      0.049367      1.255619  \n",
       "50%        13.000000     16.800000     56.500000      0.074968      2.229600  \n",
       "75%        18.000000     22.940000     74.000000      0.106676      3.562400  \n",
       "max        33.000000     39.980000    146.100000      0.226482     60.946667  "
      ]
     },
     "execution_count": 15,
     "metadata": {},
     "output_type": "execute_result"
    }
   ],
   "source": [
    "# summarize data set\n",
    "print\n",
    "data.describe()"
   ]
  },
  {
   "cell_type": "code",
   "execution_count": 16,
   "metadata": {
    "collapsed": false,
    "scrolled": true
   },
   "outputs": [
    {
     "data": {
      "image/png": "[encoded data removed]",
      "text/plain": [
       "<matplotlib.figure.Figure at 0x117215a50>"
      ]
     },
     "metadata": {},
     "output_type": "display_data"
    }
   ],
   "source": [
    "# plot description-related variables as pie charts\n",
    "n, p = data.shape\n",
    "fig = plt.figure(figsize = (8, 4))\n",
    "\n",
    "# loan status\n",
    "num_good = (data[\"loan_status\"] == True).sum()\n",
    "num_bad = n - num_good\n",
    "pie_1 = fig.add_subplot(121)\n",
    "pie_1.pie([num_good, num_bad], \n",
    "          labels = [\"Good\", \"Bad\"],\n",
    "          colors = [\"lightcyan\", \"lightcoral\"],\n",
    "         autopct = \"%1.1f%%\", startangle = 90)\n",
    "pie_1.set_title(\"Loan Status\")\n",
    "\n",
    "# description included\n",
    "num_include = (data[\"description\"].notnull()).sum()\n",
    "num_omit = n - num_include\n",
    "pie_3 = fig.add_subplot(122)\n",
    "pie_3.pie([num_include, num_omit], \n",
    "          labels = [\"Included\", \"Omitted\"],\n",
    "          colors = [\"lightcyan\", \"lightcoral\"],\n",
    "         autopct = \"%1.1f%%\", startangle = 90)\n",
    "pie_3.set_title(\"Description\")\n",
    "\n",
    "plt.show()"
   ]
  },
  {
   "cell_type": "code",
   "execution_count": 17,
   "metadata": {
    "collapsed": false,
    "scrolled": true
   },
   "outputs": [
    {
     "data": {
      "image/png": "[encoded data removed]",
      "text/plain": [
       "<matplotlib.figure.Figure at 0x11824cad0>"
      ]
     },
     "metadata": {},
     "output_type": "display_data"
    }
   ],
   "source": [
    "# visualize description lengths in characters\n",
    "fig = plt.figure(figsize = (6, 3))\n",
    "\n",
    "description_flags = data[\"description\"].notnull()\n",
    "descriptions = data.ix[description_flags, \"description\"]\n",
    "description_lengths = descriptions.str.len()\n",
    "data['desc_len'] = description_lengths\n",
    "ax1 = fig.add_subplot(111)\n",
    "ax1.hist(description_lengths, bins = 50)\n",
    "ax1.set_title(\"Description Lengths\")\n",
    "ax1.set_xlabel(\"Description Length (in Characters)\")\n",
    "ax1.set_ylabel(\"Frequency\")\n",
    "\n",
    "plt.show()"
   ]
  },
  {
   "cell_type": "code",
   "execution_count": 18,
   "metadata": {
    "collapsed": false
   },
   "outputs": [
    {
     "data": {
      "image/png": "[encoded data removed]",
      "text/plain": [
       "<matplotlib.figure.Figure at 0x116cb5710>"
      ]
     },
     "metadata": {},
     "output_type": "display_data"
    }
   ],
   "source": [
    "data_desc = data[description_flags]\n",
    "good_bad_quantile_plot(data_desc, 'desc_len')"
   ]
  },
  {
   "cell_type": "code",
   "execution_count": 19,
   "metadata": {
    "collapsed": false
   },
   "outputs": [
    {
     "data": {
      "text/html": [
       "<div>\n",
       "<table border=\"1\" class=\"dataframe\">\n",
       "  <thead>\n",
       "    <tr style=\"text-align: right;\">\n",
       "      <th></th>\n",
       "      <th>description_length_chars</th>\n",
       "    </tr>\n",
       "  </thead>\n",
       "  <tbody>\n",
       "    <tr>\n",
       "      <th>count</th>\n",
       "      <td>6041.000000</td>\n",
       "    </tr>\n",
       "    <tr>\n",
       "      <th>mean</th>\n",
       "      <td>218.876842</td>\n",
       "    </tr>\n",
       "    <tr>\n",
       "      <th>std</th>\n",
       "      <td>155.499223</td>\n",
       "    </tr>\n",
       "    <tr>\n",
       "      <th>min</th>\n",
       "      <td>1.000000</td>\n",
       "    </tr>\n",
       "    <tr>\n",
       "      <th>25%</th>\n",
       "      <td>111.000000</td>\n",
       "    </tr>\n",
       "    <tr>\n",
       "      <th>50%</th>\n",
       "      <td>176.000000</td>\n",
       "    </tr>\n",
       "    <tr>\n",
       "      <th>75%</th>\n",
       "      <td>290.000000</td>\n",
       "    </tr>\n",
       "    <tr>\n",
       "      <th>max</th>\n",
       "      <td>2134.000000</td>\n",
       "    </tr>\n",
       "  </tbody>\n",
       "</table>\n",
       "</div>"
      ],
      "text/plain": [
       "       description_length_chars\n",
       "count               6041.000000\n",
       "mean                 218.876842\n",
       "std                  155.499223\n",
       "min                    1.000000\n",
       "25%                  111.000000\n",
       "50%                  176.000000\n",
       "75%                  290.000000\n",
       "max                 2134.000000"
      ]
     },
     "execution_count": 19,
     "metadata": {},
     "output_type": "execute_result"
    }
   ],
   "source": [
    "description_lengths_df = pd.DataFrame(description_lengths)\n",
    "description_lengths_df.columns = [\"description_length_chars\"]\n",
    "description_lengths_df.describe()"
   ]
  },
  {
   "cell_type": "code",
   "execution_count": 20,
   "metadata": {
    "collapsed": false
   },
   "outputs": [
    {
     "name": "stdout",
     "output_type": "stream",
     "text": [
      "\n",
      "Loan status is not correlated with the inclusion of descriptions:\n",
      "\n",
      "[[ 1.          0.01187723]\n",
      " [ 0.01187723  1.        ]]\n",
      "\n"
     ]
    }
   ],
   "source": [
    "# Are descriptions correlated with inclusion of descriptions?\n",
    "data_corr = pd.concat((data[\"loan_status\"], description_flags), axis = 1)\n",
    "corr_matrix = np.corrcoef(data_corr.T)\n",
    "\n",
    "print\n",
    "print \"Loan status is not correlated with the inclusion of descriptions:\\n\"\n",
    "print corr_matrix\n",
    "print"
   ]
  },
  {
   "cell_type": "code",
   "execution_count": 21,
   "metadata": {
    "collapsed": false
   },
   "outputs": [],
   "source": [
    "# extract loan description and status, and create n-grams from description\n",
    "\n",
    "# extract and pre-process loan description and loan_status for NLP\n",
    "data_nlp = data[[\"description\", \"loan_status\", \"desc_len\"]].copy()\n",
    "data_nlp[\"description\"] = data_nlp[\"description\"].str.replace(\"Borrower.* > \", \"\")\n",
    "n, p = data_nlp.shape\n",
    "rows_without_nans_flags = (data_nlp[\"description\"].notnull())\n",
    "rows_without_nans_indexes = np.where(rows_without_nans_flags)\n",
    "data_nlp = data_nlp.iloc[rows_without_nans_indexes[0], :]\n",
    "\n",
    "# create n-grams from loan description\n",
    "vectorizer = CountVectorizer(stop_words = 'english', ngram_range = (1, 1))\n",
    "desc_matrix = vectorizer.fit_transform(data_nlp['description'].values)\n",
    "n, p = desc_matrix.shape"
   ]
  },
  {
   "cell_type": "code",
   "execution_count": 22,
   "metadata": {
    "collapsed": false
   },
   "outputs": [],
   "source": [
    "# apply PCA to document-term matrix\n",
    "tsvd = tSVD(n_components = 10)\n",
    "desc_matrix_reduce = tsvd.fit_transform(desc_matrix)"
   ]
  },
  {
   "cell_type": "code",
   "execution_count": 23,
   "metadata": {
    "collapsed": false
   },
   "outputs": [
    {
     "name": "stdout",
     "output_type": "stream",
     "text": [
      "Number of descriptions and terms: 6041 4806\n",
      "\n",
      "Sample terms:"
     ]
    },
    {
     "data": {
      "text/html": [
       "<div>\n",
       "<table border=\"1\" class=\"dataframe\">\n",
       "  <thead>\n",
       "    <tr style=\"text-align: right;\">\n",
       "      <th></th>\n",
       "      <th>0</th>\n",
       "    </tr>\n",
       "  </thead>\n",
       "  <tbody>\n",
       "    <tr>\n",
       "      <th>0</th>\n",
       "      <td>_number_</td>\n",
       "    </tr>\n",
       "    <tr>\n",
       "      <th>1</th>\n",
       "      <td>_number_apr</td>\n",
       "    </tr>\n",
       "    <tr>\n",
       "      <th>2</th>\n",
       "      <td>_number_each</td>\n",
       "    </tr>\n",
       "    <tr>\n",
       "      <th>3</th>\n",
       "      <td>_number_ft</td>\n",
       "    </tr>\n",
       "    <tr>\n",
       "      <th>4</th>\n",
       "      <td>_number_k</td>\n",
       "    </tr>\n",
       "    <tr>\n",
       "      <th>5</th>\n",
       "      <td>_number_mi</td>\n",
       "    </tr>\n",
       "    <tr>\n",
       "      <th>6</th>\n",
       "      <td>_number_month</td>\n",
       "    </tr>\n",
       "    <tr>\n",
       "      <th>7</th>\n",
       "      <td>_number_mos</td>\n",
       "    </tr>\n",
       "    <tr>\n",
       "      <th>8</th>\n",
       "      <td>_number_nd</td>\n",
       "    </tr>\n",
       "    <tr>\n",
       "      <th>9</th>\n",
       "      <td>_number_of</td>\n",
       "    </tr>\n",
       "  </tbody>\n",
       "</table>\n",
       "</div>"
      ],
      "text/plain": [
       "               0\n",
       "0       _number_\n",
       "1    _number_apr\n",
       "2   _number_each\n",
       "3     _number_ft\n",
       "4      _number_k\n",
       "5     _number_mi\n",
       "6  _number_month\n",
       "7    _number_mos\n",
       "8     _number_nd\n",
       "9     _number_of"
      ]
     },
     "execution_count": 23,
     "metadata": {},
     "output_type": "execute_result"
    },
    {
     "name": "stdout",
     "output_type": "stream",
     "text": [
      "\n"
     ]
    }
   ],
   "source": [
    "# print descriptive information about n-grams\n",
    "feature_names = np.array(vectorizer.get_feature_names()).reshape(-1, 1)\n",
    "print \"Number of descriptions and terms:\", n, p\n",
    "print\n",
    "print \"Sample terms:\", \n",
    "pd.DataFrame(feature_names[:10, 0])"
   ]
  },
  {
   "cell_type": "code",
   "execution_count": 24,
   "metadata": {
    "collapsed": false,
    "scrolled": true
   },
   "outputs": [
    {
     "data": {
      "image/png": "[encoded data removed]",
      "text/plain": [
       "<matplotlib.figure.Figure at 0x117ffbc50>"
      ]
     },
     "metadata": {},
     "output_type": "display_data"
    }
   ],
   "source": [
    "data_nlp['desc_word_count'] = desc_matrix.sum(axis = 1)\n",
    "\n",
    "# plot histogram of word counts by description\n",
    "fig = plt.figure(figsize = (5, 3))\n",
    "ax = fig.add_subplot(1, 1, 1)\n",
    "ax.hist(data_nlp['desc_word_count'].values, bins = 30)\n",
    "ax.set_title(\"Frequency of Description Word Counts\")\n",
    "ax.set_xlabel(\"Description Word Counts\")\n",
    "ax.set_ylabel(\"Frequency\")\n",
    "plt.show()"
   ]
  },
  {
   "cell_type": "code",
   "execution_count": 25,
   "metadata": {
    "collapsed": false,
    "scrolled": true
   },
   "outputs": [
    {
     "data": {
      "image/png": "[encoded data removed]",
      "text/plain": [
       "<matplotlib.figure.Figure at 0x11aa32350>"
      ]
     },
     "metadata": {},
     "output_type": "display_data"
    }
   ],
   "source": [
    "good_bad_quantile_plot(data_nlp, \"desc_word_count\")"
   ]
  },
  {
   "cell_type": "code",
   "execution_count": 26,
   "metadata": {
    "collapsed": false
   },
   "outputs": [
    {
     "data": {
      "image/png": "[encoded data removed]",
      "text/plain": [
       "<matplotlib.figure.Figure at 0x11d0be150>"
      ]
     },
     "metadata": {},
     "output_type": "display_data"
    }
   ],
   "source": [
    "data_nlp['vocab_count'] = (desc_matrix > 0).sum(axis=1)\n",
    "\n",
    "data_nlp['vocab_count_norm'] = data_nlp['vocab_count'] \\\n",
    "    / data_nlp['desc_len'].astype(float) \n",
    "good_bad_quantile_plot(data_nlp, \"vocab_count_norm\")"
   ]
  },
  {
   "cell_type": "code",
   "execution_count": 27,
   "metadata": {
    "collapsed": false
   },
   "outputs": [
    {
     "data": {
      "image/png": "[encoded data removed]",
      "text/plain": [
       "<matplotlib.figure.Figure at 0x11d199690>"
      ]
     },
     "metadata": {},
     "output_type": "display_data"
    }
   ],
   "source": [
    "# plot histogram of vocabulary richness\n",
    "fig = plt.figure(figsize = (5, 3))\n",
    "ax = fig.add_subplot(1, 1, 1)\n",
    "ax.hist(data_nlp['vocab_count_norm'], bins = 30)\n",
    "ax.set_title(\"Normalized Vocabulary Count Frequencies\")\n",
    "ax.set_xlabel(\"Normalized Vocabulary Count\")\n",
    "ax.set_ylabel(\"Frequency\")\n",
    "plt.show()"
   ]
  },
  {
   "cell_type": "code",
   "execution_count": 28,
   "metadata": {
    "collapsed": false
   },
   "outputs": [
    {
     "data": {
      "image/png": "[encoded data removed]",
      "text/plain": [
       "<matplotlib.figure.Figure at 0x118033490>"
      ]
     },
     "metadata": {},
     "output_type": "display_data"
    }
   ],
   "source": [
    "ngram_counts = np.log(desc_matrix.sum(axis = 0))\n",
    "\n",
    "# plot histogram of n-gram frequency\n",
    "fig = plt.figure(figsize = (5, 3))\n",
    "ax = fig.add_subplot(1, 1, 1)\n",
    "ax.hist(ngram_counts.transpose(), bins = 20)\n",
    "ax.set_title(\"Log N-gram Frequencies\")\n",
    "ax.set_xlabel(\"Log N-gram Frequency\")\n",
    "ax.set_ylabel(\"Frequency\")\n",
    "plt.show()"
   ]
  },
  {
   "cell_type": "code",
   "execution_count": 29,
   "metadata": {
    "collapsed": false
   },
   "outputs": [],
   "source": [
    "# split term matrix into defaulted vs. fully repaid\n",
    "mask = data_nlp[\"loan_status\"].values == False\n",
    "bad_term_matrix = desc_matrix[mask]\n",
    "good_term_matrix = desc_matrix[~mask]\n",
    "\n",
    "all_term_dict = zip(vectorizer.get_feature_names(),\n",
    "    np.asarray(desc_matrix.sum(axis = 0)).ravel())\n",
    "all_term_dict_df = pd.DataFrame(all_term_dict).sort_values(by = [1], \\\n",
    "                                                                   ascending = False)\n",
    "bad_term_dict = zip(vectorizer.get_feature_names(),\n",
    "    np.asarray(bad_term_matrix.sum(axis = 0)).ravel())\n",
    "bad_term_dict_df = pd.DataFrame(bad_term_dict).sort_values(by = [1], \\\n",
    "                                                                   ascending = False)\n",
    "good_term_dict = zip(vectorizer.get_feature_names(),\n",
    "    np.asarray(good_term_matrix.sum(axis = 0)).ravel())\n",
    "good_term_dict_df = pd.DataFrame(good_term_dict).sort_values(by = [1], \\\n",
    "                                                                 ascending = False)\n",
    "\n",
    "top_bad_dict_df = bad_term_dict_df.iloc[:100, :]\n",
    "top_good_dict_df = good_term_dict_df.iloc[:100, :]\n",
    "\n",
    "bad_only_dict_df = pd.DataFrame(list(set(top_bad_dict_df[0]) - set(top_good_dict_df[0])))\n",
    "good_only_dict_df = pd.DataFrame(list(set(top_good_dict_df[0]) - set(top_bad_dict_df[0])))"
   ]
  },
  {
   "cell_type": "code",
   "execution_count": 30,
   "metadata": {
    "collapsed": false
   },
   "outputs": [
    {
     "name": "stdout",
     "output_type": "stream",
     "text": [
      "\n",
      "Most Frequent Terms in Descriptions of All Loans:\n"
     ]
    },
    {
     "data": {
      "text/html": [
       "<div>\n",
       "<table border=\"1\" class=\"dataframe\">\n",
       "  <thead>\n",
       "    <tr style=\"text-align: right;\">\n",
       "      <th></th>\n",
       "      <th>0</th>\n",
       "      <th>1</th>\n",
       "    </tr>\n",
       "  </thead>\n",
       "  <tbody>\n",
       "    <tr>\n",
       "      <th>512</th>\n",
       "      <td>br</td>\n",
       "      <td>6361</td>\n",
       "    </tr>\n",
       "    <tr>\n",
       "      <th>1045</th>\n",
       "      <td>credit</td>\n",
       "      <td>3772</td>\n",
       "    </tr>\n",
       "    <tr>\n",
       "      <th>0</th>\n",
       "      <td>_number_</td>\n",
       "      <td>2884</td>\n",
       "    </tr>\n",
       "    <tr>\n",
       "      <th>2569</th>\n",
       "      <td>loan</td>\n",
       "      <td>2865</td>\n",
       "    </tr>\n",
       "    <tr>\n",
       "      <th>3114</th>\n",
       "      <td>pay</td>\n",
       "      <td>2718</td>\n",
       "    </tr>\n",
       "    <tr>\n",
       "      <th>1129</th>\n",
       "      <td>debt</td>\n",
       "      <td>2667</td>\n",
       "    </tr>\n",
       "    <tr>\n",
       "      <th>628</th>\n",
       "      <td>cards</td>\n",
       "      <td>2018</td>\n",
       "    </tr>\n",
       "    <tr>\n",
       "      <th>626</th>\n",
       "      <td>card</td>\n",
       "      <td>1556</td>\n",
       "    </tr>\n",
       "    <tr>\n",
       "      <th>923</th>\n",
       "      <td>consolidate</td>\n",
       "      <td>1347</td>\n",
       "    </tr>\n",
       "    <tr>\n",
       "      <th>3129</th>\n",
       "      <td>payment</td>\n",
       "      <td>1228</td>\n",
       "    </tr>\n",
       "    <tr>\n",
       "      <th>2078</th>\n",
       "      <td>high</td>\n",
       "      <td>845</td>\n",
       "    </tr>\n",
       "    <tr>\n",
       "      <th>3451</th>\n",
       "      <td>rate</td>\n",
       "      <td>757</td>\n",
       "    </tr>\n",
       "    <tr>\n",
       "      <th>4787</th>\n",
       "      <td>years</td>\n",
       "      <td>719</td>\n",
       "    </tr>\n",
       "    <tr>\n",
       "      <th>928</th>\n",
       "      <td>consolidation</td>\n",
       "      <td>674</td>\n",
       "    </tr>\n",
       "    <tr>\n",
       "      <th>2531</th>\n",
       "      <td>like</td>\n",
       "      <td>637</td>\n",
       "    </tr>\n",
       "    <tr>\n",
       "      <th>3130</th>\n",
       "      <td>payments</td>\n",
       "      <td>621</td>\n",
       "    </tr>\n",
       "    <tr>\n",
       "      <th>3125</th>\n",
       "      <td>paying</td>\n",
       "      <td>620</td>\n",
       "    </tr>\n",
       "    <tr>\n",
       "      <th>2813</th>\n",
       "      <td>monthly</td>\n",
       "      <td>617</td>\n",
       "    </tr>\n",
       "    <tr>\n",
       "      <th>462</th>\n",
       "      <td>bills</td>\n",
       "      <td>597</td>\n",
       "    </tr>\n",
       "    <tr>\n",
       "      <th>2614</th>\n",
       "      <td>lower</td>\n",
       "      <td>572</td>\n",
       "    </tr>\n",
       "  </tbody>\n",
       "</table>\n",
       "</div>"
      ],
      "text/plain": [
       "                  0     1\n",
       "512              br  6361\n",
       "1045         credit  3772\n",
       "0          _number_  2884\n",
       "2569           loan  2865\n",
       "3114            pay  2718\n",
       "1129           debt  2667\n",
       "628           cards  2018\n",
       "626            card  1556\n",
       "923     consolidate  1347\n",
       "3129        payment  1228\n",
       "2078           high   845\n",
       "3451           rate   757\n",
       "4787          years   719\n",
       "928   consolidation   674\n",
       "2531           like   637\n",
       "3130       payments   621\n",
       "3125         paying   620\n",
       "2813        monthly   617\n",
       "462           bills   597\n",
       "2614          lower   572"
      ]
     },
     "execution_count": 30,
     "metadata": {},
     "output_type": "execute_result"
    }
   ],
   "source": [
    "print\n",
    "print \"Most Frequent Terms in Descriptions of All Loans:\"\n",
    "all_term_dict_df.head(20)"
   ]
  },
  {
   "cell_type": "code",
   "execution_count": 31,
   "metadata": {
    "collapsed": false
   },
   "outputs": [
    {
     "name": "stdout",
     "output_type": "stream",
     "text": [
      "\n",
      "Most Frequent Terms Only in Descriptions of Defaulted Loans:\n"
     ]
    },
    {
     "data": {
      "text/html": [
       "<div>\n",
       "<table border=\"1\" class=\"dataframe\">\n",
       "  <thead>\n",
       "    <tr style=\"text-align: right;\">\n",
       "      <th></th>\n",
       "      <th>0</th>\n",
       "    </tr>\n",
       "  </thead>\n",
       "  <tbody>\n",
       "    <tr>\n",
       "      <th>0</th>\n",
       "      <td>school</td>\n",
       "    </tr>\n",
       "    <tr>\n",
       "      <th>1</th>\n",
       "      <td>buy</td>\n",
       "    </tr>\n",
       "    <tr>\n",
       "      <th>2</th>\n",
       "      <td>end</td>\n",
       "    </tr>\n",
       "    <tr>\n",
       "      <th>3</th>\n",
       "      <td>mortgage</td>\n",
       "    </tr>\n",
       "    <tr>\n",
       "      <th>4</th>\n",
       "      <td>existing</td>\n",
       "    </tr>\n",
       "    <tr>\n",
       "      <th>5</th>\n",
       "      <td>low</td>\n",
       "    </tr>\n",
       "    <tr>\n",
       "      <th>6</th>\n",
       "      <td>easier</td>\n",
       "    </tr>\n",
       "  </tbody>\n",
       "</table>\n",
       "</div>"
      ],
      "text/plain": [
       "          0\n",
       "0    school\n",
       "1       buy\n",
       "2       end\n",
       "3  mortgage\n",
       "4  existing\n",
       "5       low\n",
       "6    easier"
      ]
     },
     "execution_count": 31,
     "metadata": {},
     "output_type": "execute_result"
    }
   ],
   "source": [
    "print\n",
    "print \"Most Frequent Terms Only in Descriptions of Defaulted Loans:\"\n",
    "bad_only_dict_df"
   ]
  },
  {
   "cell_type": "code",
   "execution_count": 32,
   "metadata": {
    "collapsed": false,
    "scrolled": false
   },
   "outputs": [
    {
     "name": "stdout",
     "output_type": "stream",
     "text": [
      "\n",
      "Most Frequent Terms Only in Descriptions of Fully Repaid Loans:\n"
     ]
    },
    {
     "data": {
      "text/html": [
       "<div>\n",
       "<table border=\"1\" class=\"dataframe\">\n",
       "  <thead>\n",
       "    <tr style=\"text-align: right;\">\n",
       "      <th></th>\n",
       "      <th>0</th>\n",
       "    </tr>\n",
       "  </thead>\n",
       "  <tbody>\n",
       "    <tr>\n",
       "      <th>0</th>\n",
       "      <td>faster</td>\n",
       "    </tr>\n",
       "    <tr>\n",
       "      <th>1</th>\n",
       "      <td>apr</td>\n",
       "    </tr>\n",
       "    <tr>\n",
       "      <th>2</th>\n",
       "      <td>months</td>\n",
       "    </tr>\n",
       "    <tr>\n",
       "      <th>3</th>\n",
       "      <td>past</td>\n",
       "    </tr>\n",
       "    <tr>\n",
       "      <th>4</th>\n",
       "      <td>way</td>\n",
       "    </tr>\n",
       "    <tr>\n",
       "      <th>5</th>\n",
       "      <td>consideration</td>\n",
       "    </tr>\n",
       "    <tr>\n",
       "      <th>6</th>\n",
       "      <td>order</td>\n",
       "    </tr>\n",
       "  </tbody>\n",
       "</table>\n",
       "</div>"
      ],
      "text/plain": [
       "               0\n",
       "0         faster\n",
       "1            apr\n",
       "2         months\n",
       "3           past\n",
       "4            way\n",
       "5  consideration\n",
       "6          order"
      ]
     },
     "execution_count": 32,
     "metadata": {},
     "output_type": "execute_result"
    }
   ],
   "source": [
    "print\n",
    "print \"Most Frequent Terms Only in Descriptions of Fully Repaid Loans:\"\n",
    "good_only_dict_df"
   ]
  },
  {
   "cell_type": "code",
   "execution_count": 33,
   "metadata": {
    "collapsed": false
   },
   "outputs": [
    {
     "data": {
      "image/png": "[encoded data removed]",
      "text/plain": [
       "<matplotlib.figure.Figure at 0x11d5ac310>"
      ]
     },
     "metadata": {},
     "output_type": "display_data"
    }
   ],
   "source": [
    "fig = plt.figure(figsize = (4, 4))\n",
    "ax1 = fig.add_subplot(1, 1, 1)\n",
    "ax1.scatter(data_nlp['loan_status'], data_nlp['desc_len'])\n",
    "ax1.set_title(\"Description Character Count by Loan Status\")\n",
    "ax1.set_xlabel(\"Loan Status\")\n",
    "ax1.set_ylabel(\"Description Character Count (in Characters)\")\n",
    "plt.show()"
   ]
  },
  {
   "cell_type": "code",
   "execution_count": 34,
   "metadata": {
    "collapsed": false
   },
   "outputs": [
    {
     "data": {
      "image/png": "[encoded data removed]",
      "text/plain": [
       "<matplotlib.figure.Figure at 0x11d2a7250>"
      ]
     },
     "metadata": {},
     "output_type": "display_data"
    }
   ],
   "source": [
    "fig = plt.figure(figsize = (4, 4))\n",
    "ax1 = fig.add_subplot(1, 1, 1)\n",
    "ax1.scatter(data_nlp['loan_status'], data_nlp['desc_word_count'])\n",
    "ax1.set_title(\"Description Word Count by Loan Status\")\n",
    "ax1.set_xlabel(\"Loan Status\")\n",
    "ax1.set_ylabel(\"Description Word Count\")\n",
    "plt.show()"
   ]
  },
  {
   "cell_type": "code",
   "execution_count": 35,
   "metadata": {
    "collapsed": false,
    "scrolled": false
   },
   "outputs": [
    {
     "data": {
      "image/png": "[encoded data removed]",
      "text/plain": [
       "<matplotlib.figure.Figure at 0x11d478a50>"
      ]
     },
     "metadata": {},
     "output_type": "display_data"
    }
   ],
   "source": [
    "fig = plt.figure(figsize = (4, 4))\n",
    "ax1 = fig.add_subplot(1, 1, 1)\n",
    "ax1.scatter(data_nlp['loan_status'], data_nlp['vocab_count_norm'])\n",
    "ax1.set_title(\"Vocabulary Count by Loan Status\")\n",
    "ax1.set_xlabel(\"Loan Status\")\n",
    "ax1.set_ylabel(\"Vocabulary Richness in Description \\n(normalized by description length)\")\n",
    "plt.show()"
   ]
  },
  {
   "cell_type": "code",
   "execution_count": 36,
   "metadata": {
    "collapsed": false
   },
   "outputs": [],
   "source": [
    "### count misspellings\n",
    "\n",
    "d = enchant.Dict(\"en_US\")\n",
    "\n",
    "num_terms = all_term_dict_df.shape[0]\n",
    "misspellings = np.zeros(num_terms)\n",
    "for index in range(num_terms):\n",
    "    misspellings[index] = not d.check(all_term_dict_df.iloc[index, 0])\n",
    "\n",
    "desc_matrix_misspell = desc_matrix[:, misspellings > 0]\n",
    "data_nlp['misspell_count'] = desc_matrix_misspell.sum(axis=1)"
   ]
  },
  {
   "cell_type": "code",
   "execution_count": 37,
   "metadata": {
    "collapsed": false,
    "scrolled": true
   },
   "outputs": [
    {
     "data": {
      "image/png": "[encoded data removed]",
      "text/plain": [
       "<matplotlib.figure.Figure at 0x11d54ed10>"
      ]
     },
     "metadata": {},
     "output_type": "display_data"
    }
   ],
   "source": [
    "# plot histogram of misspelling counts\n",
    "fig = plt.figure(figsize = (5, 3))\n",
    "ax = fig.add_subplot(1, 1, 1)\n",
    "ax.hist(data_nlp['misspell_count'], bins = 50)\n",
    "ax.set_title(\"Misspelling Count Frequencies\")\n",
    "ax.set_xlabel(\"Misspelling Count\")\n",
    "ax.set_ylabel(\"Frequency\")\n",
    "plt.show()"
   ]
  },
  {
   "cell_type": "code",
   "execution_count": 38,
   "metadata": {
    "collapsed": false
   },
   "outputs": [
    {
     "data": {
      "image/png": "[encoded data removed]",
      "text/plain": [
       "<matplotlib.figure.Figure at 0x11d59f990>"
      ]
     },
     "metadata": {},
     "output_type": "display_data"
    }
   ],
   "source": [
    "good_bad_quantile_plot(data_nlp, \"misspell_count\")"
   ]
  },
  {
   "cell_type": "code",
   "execution_count": 39,
   "metadata": {
    "collapsed": false
   },
   "outputs": [
    {
     "data": {
      "image/png": "[encoded data removed]",
      "text/plain": [
       "<matplotlib.figure.Figure at 0x11d216f10>"
      ]
     },
     "metadata": {},
     "output_type": "display_data"
    }
   ],
   "source": [
    "fig = plt.figure(figsize = (4, 4))\n",
    "ax1 = fig.add_subplot(1, 1, 1)\n",
    "ax1.scatter(data_nlp['loan_status'], data_nlp['misspell_count'])\n",
    "ax1.set_title(\"Misspelling Count by Loan Status\")\n",
    "ax1.set_xlabel(\"Loan Status\")\n",
    "ax1.set_ylabel(\"Misspelling Count\")\n",
    "plt.show()"
   ]
  },
  {
   "cell_type": "code",
   "execution_count": 49,
   "metadata": {
    "collapsed": false,
    "scrolled": true
   },
   "outputs": [
    {
     "data": {
      "image/png": "[encoded data removed]",
      "text/plain": [
       "<matplotlib.figure.Figure at 0x11ae8da50>"
      ]
     },
     "metadata": {},
     "output_type": "display_data"
    }
   ],
   "source": [
    "data_nlp['misspell_count_norm'] = data_nlp['misspell_count'] \\\n",
    "    / data_nlp['desc_len'].astype(float) \n",
    "\n",
    "# plot histogram of normalized misspelling counts\n",
    "fig = plt.figure(figsize = (5, 3))\n",
    "ax = fig.add_subplot(1, 1, 1)\n",
    "ax.hist(data_nlp['misspell_count_norm'], bins = 50)\n",
    "ax.set_title(\"Normalized Misspelling Count Frequencies\")\n",
    "ax.set_xlabel(\"Normalized Misspelling Count\")\n",
    "ax.set_ylabel(\"Frequency\")\n",
    "plt.show()"
   ]
  },
  {
   "cell_type": "code",
   "execution_count": 50,
   "metadata": {
    "collapsed": false
   },
   "outputs": [
    {
     "data": {
      "image/png": "[encoded data removed]",
      "text/plain": [
       "<matplotlib.figure.Figure at 0x11d196ad0>"
      ]
     },
     "metadata": {},
     "output_type": "display_data"
    }
   ],
   "source": [
    "good_bad_quantile_plot(data_nlp, \"misspell_count_norm\")"
   ]
  },
  {
   "cell_type": "code",
   "execution_count": 51,
   "metadata": {
    "collapsed": false
   },
   "outputs": [
    {
     "data": {
      "image/png": "[encoded data removed]",
      "text/plain": [
       "<matplotlib.figure.Figure at 0x11d0b0410>"
      ]
     },
     "metadata": {},
     "output_type": "display_data"
    }
   ],
   "source": [
    "fig = plt.figure(figsize = (4, 4))\n",
    "ax1 = fig.add_subplot(1, 1, 1)\n",
    "ax1.scatter(data_nlp['loan_status'], data_nlp['misspell_count_norm'])\n",
    "ax1.set_title(\"Normalized Misspelling Count by Loan Status\")\n",
    "ax1.set_xlabel(\"Loan Status\")\n",
    "ax1.set_ylabel(\"Normalized Misspelling Count\")\n",
    "plt.show()"
   ]
  },
  {
   "cell_type": "markdown",
   "metadata": {},
   "source": [
    "## Step 3: Model Data"
   ]
  },
  {
   "cell_type": "code",
   "execution_count": 40,
   "metadata": {
    "collapsed": false
   },
   "outputs": [],
   "source": [
    "# use description column, desctiption lengths, n-grams, and KNN \n",
    "#    to predict defaults and score accuracy\n",
    "\n",
    "# use KNN with cross-validation to train and score models predicting loan defaults\n",
    "# TO DO: tune parameters k for KNN and n for n-grams\n",
    "\n",
    "score_accum_knn = np.zeros((2, 2))\n",
    "num_iters = 50\n",
    "for i in range(num_iters):\n",
    "    mask = np.random.rand(n) < 0.8\n",
    "\n",
    "    train_y = data_nlp[\"loan_status\"][mask]\n",
    "    test_y = data_nlp[\"loan_status\"][~mask]\n",
    "\n",
    "    train_x = desc_matrix[mask]\n",
    "    test_x = desc_matrix[~mask]  \n",
    "\n",
    "    model_knn = KNN(n_neighbors = 5)\n",
    "    model_knn.fit(train_x, train_y)\n",
    "    y_predict = model_knn.predict(test_x)\n",
    "    score_accum_knn += confusion_matrix(test_y, y_predict)\n",
    "\n",
    "# compute prediction accuracy\n",
    "score_knn = score_accum_knn / float(num_iters)\n",
    "score_knn = score_knn.astype('float') / score_knn.sum(axis=1)[:, np.newaxis]\n",
    "score_df_knn = pd.DataFrame(score_knn, \\\n",
    "                        columns = [\"predicted_bad\", \"predicted_good\"])\n",
    "row_labels = pd.DataFrame([\"actual_bad\", \"actual_good\"])\n",
    "score_df_knn = pd.concat((row_labels, score_df_knn), axis = 1)\n",
    "overall_accuracy_knn = round((score_df_knn.ix[0, 1] + score_df_knn.ix[1, 2]) / 2.0, 4)"
   ]
  },
  {
   "cell_type": "code",
   "execution_count": 41,
   "metadata": {
    "collapsed": false
   },
   "outputs": [
    {
     "name": "stdout",
     "output_type": "stream",
     "text": [
      "Overall accuracy with KNN: 0.5033\n",
      "\n",
      "Confusion Matrix:\n"
     ]
    },
    {
     "data": {
      "text/html": [
       "<div>\n",
       "<table border=\"1\" class=\"dataframe\">\n",
       "  <thead>\n",
       "    <tr style=\"text-align: right;\">\n",
       "      <th></th>\n",
       "      <th>0</th>\n",
       "      <th>predicted_bad</th>\n",
       "      <th>predicted_good</th>\n",
       "    </tr>\n",
       "  </thead>\n",
       "  <tbody>\n",
       "    <tr>\n",
       "      <th>0</th>\n",
       "      <td>actual_bad</td>\n",
       "      <td>0.060158</td>\n",
       "      <td>0.939842</td>\n",
       "    </tr>\n",
       "    <tr>\n",
       "      <th>1</th>\n",
       "      <td>actual_good</td>\n",
       "      <td>0.053546</td>\n",
       "      <td>0.946454</td>\n",
       "    </tr>\n",
       "  </tbody>\n",
       "</table>\n",
       "</div>"
      ],
      "text/plain": [
       "             0  predicted_bad  predicted_good\n",
       "0   actual_bad       0.060158        0.939842\n",
       "1  actual_good       0.053546        0.946454"
      ]
     },
     "execution_count": 41,
     "metadata": {},
     "output_type": "execute_result"
    }
   ],
   "source": [
    "print \"Overall accuracy with KNN:\", overall_accuracy_knn\n",
    "print\n",
    "print \"Confusion Matrix:\"\n",
    "score_df_knn"
   ]
  },
  {
   "cell_type": "code",
   "execution_count": 42,
   "metadata": {
    "collapsed": false,
    "scrolled": false
   },
   "outputs": [],
   "source": [
    "# # use description column with logistic regression to predict defaults and score accuracy\n",
    "\n",
    "# desc_len_ar = description_lengths.reshape(-1, 1)\n",
    "# desc_matrix_norm = desc_matrix_reduce / desc_len_ar.astype(float)"
   ]
  },
  {
   "cell_type": "code",
   "execution_count": 43,
   "metadata": {
    "collapsed": false
   },
   "outputs": [],
   "source": [
    "# use logistic regression with cross-validation to train and score models\n",
    "# predicting loan defaults\n",
    "n = data_nlp.shape[0]\n",
    "score_accum_lr = np.zeros((2, 2))\n",
    "num_iters = 50\n",
    "for i in range(num_iters):\n",
    "    mask = np.random.rand(n) < 0.80\n",
    "\n",
    "    train_y = data_nlp[\"loan_status\"][mask]\n",
    "    test_y = data_nlp[\"loan_status\"][~mask]\n",
    "\n",
    "    train_x = desc_matrix[mask]\n",
    "    test_x = desc_matrix[~mask]\n",
    "\n",
    "    model_lr = Log_Reg(C = 1, class_weight = 'balanced')\n",
    "    model_lr.fit(train_x, train_y)\n",
    "    y_predict = model_lr.predict(test_x)\n",
    "    score_accum_lr += confusion_matrix(test_y, y_predict)\n",
    "\n",
    "# compute prediction accuracy\n",
    "score_lr = score_accum_lr / float(num_iters)\n",
    "score_lr = score_lr.astype('float') / score_lr.sum(axis=1)[:, np.newaxis]\n",
    "score_df_lr = pd.DataFrame(score_lr, \\\n",
    "                        columns = [\"predicted_bad\", \"predicted_good\"])\n",
    "row_labels = pd.DataFrame([\"actual_bad\", \"actual_good\"])\n",
    "score_df_lr = pd.concat((row_labels, score_df_lr), axis = 1)\n",
    "overall_accuracy_lr = round((score_df_lr.ix[0, 1] + score_df_lr.ix[1, 2]) / 2.0, 4)"
   ]
  },
  {
   "cell_type": "code",
   "execution_count": 44,
   "metadata": {
    "collapsed": false
   },
   "outputs": [
    {
     "name": "stdout",
     "output_type": "stream",
     "text": [
      "\n",
      "Overall accuracy with logistic regression: 0.5226\n",
      "\n",
      "Confusion Matrix:\n"
     ]
    },
    {
     "data": {
      "text/html": [
       "<div>\n",
       "<table border=\"1\" class=\"dataframe\">\n",
       "  <thead>\n",
       "    <tr style=\"text-align: right;\">\n",
       "      <th></th>\n",
       "      <th>0</th>\n",
       "      <th>predicted_bad</th>\n",
       "      <th>predicted_good</th>\n",
       "    </tr>\n",
       "  </thead>\n",
       "  <tbody>\n",
       "    <tr>\n",
       "      <th>0</th>\n",
       "      <td>actual_bad</td>\n",
       "      <td>0.365463</td>\n",
       "      <td>0.634537</td>\n",
       "    </tr>\n",
       "    <tr>\n",
       "      <th>1</th>\n",
       "      <td>actual_good</td>\n",
       "      <td>0.320174</td>\n",
       "      <td>0.679826</td>\n",
       "    </tr>\n",
       "  </tbody>\n",
       "</table>\n",
       "</div>"
      ],
      "text/plain": [
       "             0  predicted_bad  predicted_good\n",
       "0   actual_bad       0.365463        0.634537\n",
       "1  actual_good       0.320174        0.679826"
      ]
     },
     "execution_count": 44,
     "metadata": {},
     "output_type": "execute_result"
    }
   ],
   "source": [
    "print\n",
    "print \"Overall accuracy with logistic regression:\", overall_accuracy_lr\n",
    "print\n",
    "print \"Confusion Matrix:\"\n",
    "score_df_lr"
   ]
  },
  {
   "cell_type": "code",
   "execution_count": 45,
   "metadata": {
    "collapsed": false
   },
   "outputs": [],
   "source": [
    "# # use description column with LDA to predict defaults and score accuracy\n",
    "# from sklearn.discriminant_analysis import LinearDiscriminantAnalysis as LDA\n",
    "\n",
    "# # use LDA with cross-validation to train and score models\n",
    "# # predicting loan defaults\n",
    "# score_accum = 0\n",
    "# num_iters = 1\n",
    "# for i in range(num_iters):\n",
    "#     mask = np.random.rand(n) < 0.8\n",
    "\n",
    "#     train_y = data_nlp[\"loan_status\"][mask]\n",
    "#     test_y = data_nlp[\"loan_status\"][~mask]\n",
    "\n",
    "#     train_x = desc_matrix[mask]\n",
    "#     test_x = desc_matrix[~mask]  \n",
    "\n",
    "#     model = LDA()\n",
    "#     model.fit(train_x.toarray(), train_y)\n",
    "#     score_accum += model.score(test_x, test_y)\n",
    "\n",
    "# # print prediction accuracy\n",
    "# score = score_accum / float(num_iters)\n",
    "# print \"Accuracy of predicting defaults from descriptions with LDA:\", round(score, 2)"
   ]
  },
  {
   "cell_type": "code",
   "execution_count": 46,
   "metadata": {
    "collapsed": true
   },
   "outputs": [],
   "source": [
    "# # use description column with QDA to predict defaults and score accuracy\n",
    "# from sklearn.qda import QDA\n",
    "\n",
    "# # use QDA with cross-validation to train and score models\n",
    "# # predicting loan defaults\n",
    "# score_accum = 0\n",
    "# num_iters = 1\n",
    "# for i in range(num_iters):\n",
    "#     mask = np.random.rand(n) < 0.8\n",
    "\n",
    "#     train_y = data_nlp[\"loan_status\"][mask]\n",
    "#     test_y = data_nlp[\"loan_status\"][~mask]\n",
    "# # \n",
    "#     train_x = desc_matrix[mask]\n",
    "#     test_x = desc_matrix[~mask]  \n",
    "\n",
    "#     model = QDA()\n",
    "#     model.fit(train_x, train_y)\n",
    "#     score_accum += model.score(test_x, test_y)\n",
    "\n",
    "# # print prediction accuracy\n",
    "# score = score_accum / float(num_iters)\n",
    "# print \"Accuracy of predicting defaults from descriptions with QDA:\", round(score, 2)"
   ]
  },
  {
   "cell_type": "code",
   "execution_count": 47,
   "metadata": {
    "collapsed": false
   },
   "outputs": [],
   "source": [
    "# use description column with random forests to predict defaults and score accuracy\n",
    "from sklearn.ensemble import RandomForestClassifier as RFC\n",
    "\n",
    "# use random forests with cross-validation to train and score models\n",
    "# predicting loan defaults\n",
    "score_accum_rf = 0\n",
    "num_iters = 1\n",
    "for i in range(num_iters):\n",
    "    mask = np.random.rand(n) < 0.8\n",
    "\n",
    "    train_y = data_nlp[\"loan_status\"][mask]\n",
    "    test_y = data_nlp[\"loan_status\"][~mask]\n",
    "\n",
    "    train_x = desc_matrix[mask]\n",
    "    test_x = desc_matrix[~mask]  \n",
    "\n",
    "    model_rf = RFC()\n",
    "    model_rf.fit(train_x, train_y)\n",
    "    y_predict = model_rf.predict(test_x)\n",
    "    score_accum_rf += confusion_matrix(test_y, y_predict)\n",
    "\n",
    "# compute prediction accuracy\n",
    "score_rf = score_accum_rf / float(num_iters)\n",
    "score_rf = score_rf.astype('float') / score_rf.sum(axis=1)[:, np.newaxis]\n",
    "score_df_rf = pd.DataFrame(score_rf, \\\n",
    "                        columns = [\"predicted_bad\", \"predicted_good\"])\n",
    "row_labels = pd.DataFrame([\"actual_bad\", \"actual_good\"])\n",
    "score_df_rf = pd.concat((row_labels, score_df_rf), axis = 1)\n",
    "overall_accuracy_rf = round((score_df_rf.ix[0, 1] + score_df_rf.ix[1, 2]) / 2.0, 4)"
   ]
  },
  {
   "cell_type": "code",
   "execution_count": 48,
   "metadata": {
    "collapsed": false
   },
   "outputs": [
    {
     "name": "stdout",
     "output_type": "stream",
     "text": [
      "Overall accuracy with logistic regression: 0.4955\n",
      "\n",
      "Confusion Matrix:\n"
     ]
    },
    {
     "data": {
      "text/html": [
       "<div>\n",
       "<table border=\"1\" class=\"dataframe\">\n",
       "  <thead>\n",
       "    <tr style=\"text-align: right;\">\n",
       "      <th></th>\n",
       "      <th>0</th>\n",
       "      <th>predicted_bad</th>\n",
       "      <th>predicted_good</th>\n",
       "    </tr>\n",
       "  </thead>\n",
       "  <tbody>\n",
       "    <tr>\n",
       "      <th>0</th>\n",
       "      <td>actual_bad</td>\n",
       "      <td>0.054054</td>\n",
       "      <td>0.945946</td>\n",
       "    </tr>\n",
       "    <tr>\n",
       "      <th>1</th>\n",
       "      <td>actual_good</td>\n",
       "      <td>0.063126</td>\n",
       "      <td>0.936874</td>\n",
       "    </tr>\n",
       "  </tbody>\n",
       "</table>\n",
       "</div>"
      ],
      "text/plain": [
       "             0  predicted_bad  predicted_good\n",
       "0   actual_bad       0.054054        0.945946\n",
       "1  actual_good       0.063126        0.936874"
      ]
     },
     "execution_count": 48,
     "metadata": {},
     "output_type": "execute_result"
    }
   ],
   "source": [
    "print \"Overall accuracy with logistic regression:\", overall_accuracy_rf\n",
    "print\n",
    "print \"Confusion Matrix:\"\n",
    "score_df_rf"
   ]
  },
  {
   "cell_type": "code",
   "execution_count": null,
   "metadata": {
    "collapsed": true
   },
   "outputs": [],
   "source": []
  }
 ],
 "metadata": {
  "anaconda-cloud": {},
  "kernelspec": {
   "display_name": "Python [default]",
   "language": "python",
   "name": "python2"
  },
  "language_info": {
   "codemirror_mode": {
    "name": "ipython",
    "version": 2
   },
   "file_extension": ".py",
   "mimetype": "text/x-python",
   "name": "python",
   "nbconvert_exporter": "python",
   "pygments_lexer": "ipython2",
   "version": "2.7.12"
  }
 },
 "nbformat": 4,
 "nbformat_minor": 0
}
