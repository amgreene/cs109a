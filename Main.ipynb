{
 "cells": [
  {
   "cell_type": "markdown",
   "metadata": {},
   "source": [
    "# David's Modelling"
   ]
  },
  {
   "cell_type": "code",
   "execution_count": 1,
   "metadata": {
    "collapsed": true
   },
   "outputs": [],
   "source": [
    "import itertools as it\n",
    "import matplotlib\n",
    "import matplotlib.cm as cmx\n",
    "import matplotlib.colors as colors\n",
    "import matplotlib.pyplot as plt\n",
    "import numpy as np\n",
    "import os.path as op\n",
    "import pandas as pd\n",
    "import scipy as sp\n",
    "import sklearn.preprocessing as Preprocessing\n",
    "import datetime\n",
    "\n",
    "from itertools import combinations\n",
    "from sklearn.cross_validation import KFold as kfold\n",
    "from sklearn.decomposition import TruncatedSVD as tSVD\n",
    "from sklearn.discriminant_analysis import LinearDiscriminantAnalysis as LDA\n",
    "from sklearn.discriminant_analysis import QuadraticDiscriminantAnalysis as QDA\n",
    "from sklearn.dummy import DummyClassifier\n",
    "from sklearn.ensemble import GradientBoostingClassifier as GBC\n",
    "from sklearn.ensemble import RandomForestClassifier as RFC\n",
    "from sklearn.feature_extraction.text import CountVectorizer\n",
    "from sklearn.feature_extraction.text import TfidfVectorizer\n",
    "from sklearn.linear_model import LinearRegression as Lin_Reg\n",
    "from sklearn.linear_model import LogisticRegression as Log_Reg\n",
    "from sklearn.metrics import confusion_matrix\n",
    "from sklearn.metrics import f1_score\n",
    "from sklearn.neighbors import KNeighborsClassifier as KNN\n",
    "from sklearn.svm import SVC\n",
    "from sklearn.tree import DecisionTreeClassifier as DTC\n",
    "from scipy.io import mmread\n",
    "\n",
    "%matplotlib inline\n",
    "plt.style.use('ggplot') \n",
    "from IPython.display import display, HTML"
   ]
  },
  {
   "cell_type": "markdown",
   "metadata": {},
   "source": [
    "#### Load Data"
   ]
  },
  {
   "cell_type": "code",
   "execution_count": 52,
   "metadata": {
    "collapsed": false,
    "scrolled": true
   },
   "outputs": [
    {
     "name": "stdout",
     "output_type": "stream",
     "text": [
      "173805\n",
      "79052\n",
      "address_state object\n",
      "annual_income float64\n",
      "cpi float64\n",
      "delinq_2_yrs int64\n",
      "desc_len float64\n",
      "dti float64\n",
      "employ_length object\n",
      "employ_title object\n",
      "gdp float64\n",
      "home_owner object\n",
      "initial_list_status object\n",
      "inquiry_6_mos int64\n",
      "installment float64\n",
      "interest_rate float64\n",
      "ipr float64\n",
      "loan_amount int64\n",
      "loan_purpose object\n",
      "loan_term int64\n",
      "months_since_last_record float64\n",
      "open_accounts int64\n",
      "revol_util float64\n",
      "rir float64\n",
      "total_accounts int64\n",
      "unemploy float64\n",
      "months_since_earliest_credit float64\n",
      "Indexes computed\n",
      "19719\n",
      "59333\n",
      "PCA: first and last columns where % variance explained >= 99: [62 99]\n",
      "PCA: first and last columns where % variance explained >= 85: Exception!\n"
     ]
    }
   ],
   "source": [
    "# load data\n",
    "%run -i data_loading.py"
   ]
  },
  {
   "cell_type": "markdown",
   "metadata": {},
   "source": [
    "#### Set up Modelling Framework"
   ]
  },
  {
   "cell_type": "code",
   "execution_count": 3,
   "metadata": {
    "collapsed": false
   },
   "outputs": [],
   "source": [
    "# set up modelling framework\n",
    "% run -i modelling_framework.py"
   ]
  },
  {
   "cell_type": "markdown",
   "metadata": {},
   "source": [
    "#### Models without PCA"
   ]
  },
  {
   "cell_type": "code",
   "execution_count": 4,
   "metadata": {
    "collapsed": false
   },
   "outputs": [
    {
     "name": "stderr",
     "output_type": "stream",
     "text": [
      "C:\\Users\\agreene\\AppData\\Local\\Continuum\\Anaconda2\\envs\\amg1\\lib\\site-packages\\sklearn\\metrics\\classification.py:1074: UndefinedMetricWarning: F-score is ill-defined and being set to 0.0 due to no predicted samples.\n",
      "  'precision', 'predicted', average, warn_for)\n"
     ]
    },
    {
     "name": "stdout",
     "output_type": "stream",
     "text": [
      "all   score: 0.845  baseline: 0.845   1-prec: 0.845   f1: 0.000  | test score 0.152  1-prec 0.848 f1 0.263  GP 851MM\n",
      "2011  score: 0.887  baseline: 0.887   wscore: 0.887   f1: 0.000  | test score 0.896  1-prec 0.896\n",
      "2012  score: 0.867  baseline: 0.867   wscore: 0.867   f1: 0.000  | test score 0.863  1-prec 0.863\n",
      "2013  score: 0.818  baseline: 0.818   wscore: 0.818   f1: 0.000  | test score 0.825  1-prec 0.825\n"
     ]
    }
   ],
   "source": [
    "eval_model_by_year(lambda: DummyClassifier(strategy='constant', constant=0), model_name='Always 1')"
   ]
  },
  {
   "cell_type": "code",
   "execution_count": 5,
   "metadata": {
    "collapsed": false,
    "scrolled": true
   },
   "outputs": [
    {
     "name": "stdout",
     "output_type": "stream",
     "text": [
      "all   score: 0.844  baseline: 0.845   1-prec: 0.848   f1: 0.043  | test score 0.153  1-prec 0.850 f1 0.260  GP 842MM\n",
      "2011  score: 0.886  baseline: 0.887   wscore: 0.888   f1: 0.035  | test score 0.895  1-prec 0.896\n",
      "2012  score: 0.867  baseline: 0.867   wscore: 0.868   f1: 0.014  | test score 0.862  1-prec 0.864\n",
      "2013  score: 0.816  baseline: 0.818   wscore: 0.824   f1: 0.098  | test score 0.822  1-prec 0.830\n"
     ]
    }
   ],
   "source": [
    "eval_model_by_year(lambda: Log_Reg(), model_name='LogReg')"
   ]
  },
  {
   "cell_type": "code",
   "execution_count": 6,
   "metadata": {
    "collapsed": false
   },
   "outputs": [
    {
     "name": "stdout",
     "output_type": "stream",
     "text": [
      "all   score: 0.643  baseline: 0.845   1-prec: 0.905   f1: 0.353  | test score 0.367  1-prec 0.903 f1 0.155  GP 274MM\n",
      "2011  score: 0.635  baseline: 0.887   wscore: 0.913   f1: 0.243  | test score 0.638  1-prec 0.928\n",
      "2012  score: 0.637  baseline: 0.867   wscore: 0.916   f1: 0.310  | test score 0.611  1-prec 0.901\n",
      "2013  score: 0.645  baseline: 0.818   wscore: 0.887   f1: 0.391  | test score 0.637  1-prec 0.887\n"
     ]
    }
   ],
   "source": [
    "eval_model_by_year(lambda: Log_Reg(class_weight='balanced'), model_name='LogReg balanced')"
   ]
  },
  {
   "cell_type": "code",
   "execution_count": 7,
   "metadata": {
    "collapsed": false
   },
   "outputs": [
    {
     "name": "stdout",
     "output_type": "stream",
     "text": [
      "all   score: 0.643  baseline: 0.845   1-prec: 0.923   f1: 0.353  | test score 0.515  1-prec 0.921 f1 0.114  GP -17MM\n",
      "2011  score: 0.635  baseline: 0.887   wscore: 0.915   f1: 0.243  | test score 0.638  1-prec 0.940\n",
      "2012  score: 0.637  baseline: 0.867   wscore: 0.934   f1: 0.310  | test score 0.611  1-prec 0.919\n",
      "2013  score: 0.645  baseline: 0.818   wscore: 0.909   f1: 0.391  | test score 0.637  1-prec 0.908\n"
     ]
    }
   ],
   "source": [
    "eval_model_by_year(lambda: Log_Reg(class_weight='balanced'), prob_threshold=.6, model_name='LogReg balanced .6')"
   ]
  },
  {
   "cell_type": "code",
   "execution_count": 8,
   "metadata": {
    "collapsed": false,
    "scrolled": true
   },
   "outputs": [
    {
     "name": "stderr",
     "output_type": "stream",
     "text": [
      "C:\\Users\\agreene\\AppData\\Local\\Continuum\\Anaconda2\\envs\\amg1\\lib\\site-packages\\sklearn\\discriminant_analysis.py:688: UserWarning: Variables are collinear\n",
      "  warnings.warn(\"Variables are collinear\")\n"
     ]
    },
    {
     "name": "stdout",
     "output_type": "stream",
     "text": [
      "all   score: 0.836  baseline: 0.845   1-prec: 0.853   f1: 0.135  | test score 0.160  1-prec 0.856 f1 0.250  GP 798MM\n",
      "2011  score: 0.869  baseline: 0.887   wscore: 0.894   f1: 0.153  | test score 0.866  1-prec 0.901\n",
      "2012  score: 0.860  baseline: 0.867   wscore: 0.869   f1: 0.044  | test score 0.858  1-prec 0.865\n",
      "2013  score: 0.804  baseline: 0.818   wscore: 0.831   f1: 0.189  | test score 0.809  1-prec 0.838\n"
     ]
    }
   ],
   "source": [
    "eval_model_by_year(lambda: QDA(reg_param = 1), model_name='QDA')"
   ]
  },
  {
   "cell_type": "code",
   "execution_count": 9,
   "metadata": {
    "collapsed": false
   },
   "outputs": [
    {
     "name": "stdout",
     "output_type": "stream",
     "text": [
      "all   score: 0.845  baseline: 0.845   1-prec: 0.845   f1: 0.000  | test score 0.152  1-prec 0.848 f1 0.263  GP 851MM\n",
      "2011  score: 0.886  baseline: 0.887   wscore: 0.887   f1: 0.000  | test score 0.895  1-prec 0.896\n",
      "2012  score: 0.867  baseline: 0.867   wscore: 0.867   f1: 0.000  | test score 0.863  1-prec 0.863\n",
      "2013  score: 0.818  baseline: 0.818   wscore: 0.818   f1: 0.000  | test score 0.825  1-prec 0.825\n"
     ]
    }
   ],
   "source": [
    "eval_model_by_year(lambda: GBC(n_estimators = 10, max_depth = 2, learning_rate = 0.1), model_name='GBC')"
   ]
  },
  {
   "cell_type": "code",
   "execution_count": 10,
   "metadata": {
    "collapsed": false
   },
   "outputs": [
    {
     "name": "stdout",
     "output_type": "stream",
     "text": [
      "all   score: 0.845  baseline: 0.845   1-prec: 0.845   f1: 0.000  | test score 0.152  1-prec 0.848 f1 0.263  GP 851MM\n",
      "2011  score: 0.887  baseline: 0.887   wscore: 0.887   f1: 0.000  | test score 0.896  1-prec 0.896\n",
      "2012  score: 0.867  baseline: 0.867   wscore: 0.867   f1: 0.000  | test score 0.863  1-prec 0.863\n",
      "2013  score: 0.818  baseline: 0.818   wscore: 0.818   f1: 0.000  | test score 0.825  1-prec 0.825\n"
     ]
    }
   ],
   "source": [
    "eval_model_by_year(lambda: RFC(random_state=1729, max_depth=5, n_estimators=300), model_name='RFC 5/300')"
   ]
  },
  {
   "cell_type": "code",
   "execution_count": 11,
   "metadata": {
    "collapsed": false
   },
   "outputs": [
    {
     "name": "stdout",
     "output_type": "stream",
     "text": [
      "all   score: 0.660  baseline: 0.845   1-prec: 0.902   f1: 0.354  | test score 0.353  1-prec 0.899 f1 0.163  GP 312MM\n",
      "2011  score: 0.759  baseline: 0.887   wscore: 0.905   f1: 0.239  | test score 0.765  1-prec 0.915\n",
      "2012  score: 0.656  baseline: 0.867   wscore: 0.907   f1: 0.298  | test score 0.638  1-prec 0.894\n",
      "2013  score: 0.662  baseline: 0.818   wscore: 0.883   f1: 0.390  | test score 0.657  1-prec 0.883\n"
     ]
    }
   ],
   "source": [
    "eval_model_by_year(lambda: RFC(random_state=1729, max_depth=5, class_weight = 'balanced', n_estimators=300),\n",
    "                   model_name='RFC balanced 5/300')"
   ]
  },
  {
   "cell_type": "code",
   "execution_count": 12,
   "metadata": {
    "collapsed": false
   },
   "outputs": [
    {
     "name": "stdout",
     "output_type": "stream",
     "text": [
      "all   score: 0.622  baseline: 0.845   1-prec: 0.882   f1: 0.303  | test score 0.363  1-prec 0.880 f1 0.193  GP 304MM\n",
      "2011  score: 0.641  baseline: 0.887   wscore: 0.897   f1: 0.202  | test score 0.607  1-prec 0.907\n",
      "2012  score: 0.543  baseline: 0.867   wscore: 0.899   f1: 0.262  | test score 0.620  1-prec 0.887\n",
      "2013  score: 0.606  baseline: 0.818   wscore: 0.855   f1: 0.326  | test score 0.681  1-prec 0.863\n"
     ]
    }
   ],
   "source": [
    "eval_model_by_year(lambda: DTC(max_depth = 10, max_features = 'log2', class_weight = 'balanced', criterion = 'gini'),\n",
    "                  model_name='DTC log2 balanced')"
   ]
  },
  {
   "cell_type": "code",
   "execution_count": 13,
   "metadata": {
    "collapsed": false
   },
   "outputs": [
    {
     "name": "stdout",
     "output_type": "stream",
     "text": [
      "all   score: 0.669  baseline: 0.845   1-prec: 0.867   f1: 0.270  | test score 0.320  1-prec 0.864 f1 0.225  GP 428MM\n",
      "2011  score: 0.728  baseline: 0.887   wscore: 0.889   f1: 0.164  | test score 0.636  1-prec 0.905\n",
      "2012  score: 0.662  baseline: 0.867   wscore: 0.880   f1: 0.224  | test score 0.675  1-prec 0.880\n",
      "2013  score: 0.656  baseline: 0.818   wscore: 0.844   f1: 0.301  | test score 0.659  1-prec 0.846\n"
     ]
    }
   ],
   "source": [
    "eval_model_by_year(lambda: DTC(max_depth = 20, max_features = 'sqrt', class_weight = 'balanced', criterion = 'entropy'),\n",
    "                  model_name='DTC sqrt balanced')"
   ]
  },
  {
   "cell_type": "code",
   "execution_count": 14,
   "metadata": {
    "collapsed": false
   },
   "outputs": [
    {
     "name": "stdout",
     "output_type": "stream",
     "text": [
      "all   score: 0.692  baseline: 0.845   1-prec: 0.860   f1: 0.245  | test score 0.327  1-prec 0.868 f1 0.218  GP 424MM\n",
      "2011  score: 0.771  baseline: 0.887   wscore: 0.888   f1: 0.135  | test score 0.788  1-prec 0.902\n",
      "2012  score: 0.734  baseline: 0.867   wscore: 0.878   f1: 0.213  | test score 0.713  1-prec 0.875\n",
      "2013  score: 0.677  baseline: 0.818   wscore: 0.838   f1: 0.279  | test score 0.680  1-prec 0.842\n"
     ]
    }
   ],
   "source": [
    "eval_model_by_year(lambda: DTC(max_depth = 20, max_features = None, class_weight = 'balanced', criterion = 'entropy'),\n",
    "                  model_name='DTC')"
   ]
  },
  {
   "cell_type": "code",
   "execution_count": 15,
   "metadata": {
    "collapsed": false
   },
   "outputs": [],
   "source": [
    "# This takes a very long time for practically no uplift\n",
    "#eval_model_all_years(lambda: SVC(class_weight='balanced', probability=True))"
   ]
  },
  {
   "cell_type": "code",
   "execution_count": 16,
   "metadata": {
    "collapsed": false
   },
   "outputs": [],
   "source": [
    "# This takes a very long time for practically no uplift\n",
    "#eval_model_all_years(lambda: SVC(class_weight='balanced', probability=True), prob_threshold=0.85)"
   ]
  },
  {
   "cell_type": "markdown",
   "metadata": {},
   "source": [
    "#### Other Models without PCA"
   ]
  },
  {
   "cell_type": "code",
   "execution_count": 17,
   "metadata": {
    "collapsed": true
   },
   "outputs": [],
   "source": [
    "# TODO: Try again, this time fitting a regression against the payments received"
   ]
  },
  {
   "cell_type": "code",
   "execution_count": 18,
   "metadata": {
    "collapsed": false
   },
   "outputs": [
    {
     "name": "stdout",
     "output_type": "stream",
     "text": [
      "y=2011   n=2521   d= 286   p: 0.113 | 0.113 | 0.114\n",
      "y=2012   n=7475   d= 994   p: 0.133 | 0.133 | 0.133\n",
      "y=2013   n=9723   d=1767   p: 0.182 | 0.182 | 0.182\n"
     ]
    }
   ],
   "source": [
    "# Curious -- what are the 95 CI for the baselines?\n",
    "for yr in set(years.values):\n",
    "    yr_n = (years == yr).sum()\n",
    "    yr_def = (y[years == yr]).sum()\n",
    "    yr_p = (y[years == yr]).mean()\n",
    "    yr_se = (yr_p * (1.0-yr_p) / yr_n)\n",
    "    print \"y=%4d   n=%4d   d=%4d   p: %.3f | %.3f | %.3f\" % (yr, yr_n, yr_def, yr_p - 1.96*yr_se, yr_p, yr_p + 1.96*yr_se)"
   ]
  },
  {
   "cell_type": "code",
   "execution_count": 19,
   "metadata": {
    "collapsed": false
   },
   "outputs": [
    {
     "name": "stdout",
     "output_type": "stream",
     "text": [
      "0.154521020336\n",
      "0.230563002681\n"
     ]
    }
   ],
   "source": [
    "# Default rate for small business is higher, right?\n",
    "print y.mean()\n",
    "print y[x_expanded.loan_purpose__small_business == 1].mean()"
   ]
  },
  {
   "cell_type": "code",
   "execution_count": 20,
   "metadata": {
    "collapsed": false
   },
   "outputs": [
    {
     "name": "stdout",
     "output_type": "stream",
     "text": [
      "all   score: 0.835  baseline: 0.845   1-prec: 0.847   f1: 0.050  | test score 0.162  1-prec 0.850 f1 0.260  GP 819MM\n",
      "2011  score: 0.714  baseline: 0.887   wscore: 0.856   f1: 0.070  | test score 0.874  1-prec 0.899\n",
      "2012  score: 0.852  baseline: 0.867   wscore: 0.868   f1: 0.058  | test score 0.849  1-prec 0.865\n",
      "2013  score: 0.816  baseline: 0.818   wscore: 0.820   f1: 0.042  | test score 0.821  1-prec 0.826\n"
     ]
    }
   ],
   "source": [
    "eval_model_by_year(lambda: Log_Reg(class_weight='balanced'), ['loan_purpose__small_business'], model_name='SmallBusiness')"
   ]
  },
  {
   "cell_type": "code",
   "execution_count": 21,
   "metadata": {
    "collapsed": false
   },
   "outputs": [],
   "source": [
    "# LogReg is doing well.. what are the largest coefficients?\n",
    "lr = Log_Reg(class_weight='balanced').fit(x_expanded[years.isin([2011,2012,2013])], y[years.isin([2011,2012,2013])])\n",
    "lr_coeff = pd.DataFrame(lr.coef_.T, index=x_expanded.columns)\n",
    "lr_coeff.columns = ['coeff']\n",
    "lr_coeff['abs'] = lr_coeff.coeff.abs()"
   ]
  },
  {
   "cell_type": "code",
   "execution_count": 22,
   "metadata": {
    "collapsed": false
   },
   "outputs": [
    {
     "data": {
      "text/plain": [
       "employ_title__walmart                        -1.725905\n",
       "employ_title__manager                        -1.484858\n",
       "employ_title__U.S._Army                      -1.458624\n",
       "employ_title__The_Home_Depot                 -1.417935\n",
       "employ_title__United_Parcel_Service          -1.297994\n",
       "employ_title__USPS                            1.035226\n",
       "employ_title__United_States_Postal_Service   -0.997333\n",
       "employ_title__Director                       -0.940353\n",
       "employ_title__Department_of_Defense          -0.918405\n",
       "employ_title__Home_Depot                      0.905936\n",
       "employ_title__JP_Morgan_Chase                -0.900937\n",
       "employ_title__US_Army                        -0.900780\n",
       "employ_title__State_of_California            -0.888989\n",
       "employ_title__United_States_Air_Force        -0.854507\n",
       "employ_title__driver                          0.812979\n",
       "address_state__IA                             0.803846\n",
       "loan_purpose__renewable_energy                0.729803\n",
       "employ_title__Driver                         -0.701368\n",
       "loan_amount                                  -0.667278\n",
       "employ_title__Booz_Allen_Hamilton            -0.658997\n",
       "employ_title__Sales                           0.616453\n",
       "employ_title__Target                         -0.596856\n",
       "employ_title__nan                             0.585793\n",
       "employ_title__General_Manager                 0.557587\n",
       "employ_title__US_Air_Force                   -0.556232\n",
       "employ_title__AT&T                           -0.543207\n",
       "employ_title__Best_Buy                       -0.542175\n",
       "address_state__IN                            -0.538920\n",
       "address_state__AK                            -0.524255\n",
       "address_state__NE                             0.523799\n",
       "                                                ...   \n",
       "address_state__OH                            -0.057474\n",
       "employ_length__9                              0.057250\n",
       "employ_title__UPS                            -0.055665\n",
       "cpi                                          -0.047326\n",
       "employ_length__5                             -0.041822\n",
       "employ_length__8                             -0.041389\n",
       "employ_title__JPMorgan_Chase                 -0.040547\n",
       "delinq_2_yrs                                  0.040235\n",
       "employ_length__0                             -0.039704\n",
       "employ_length__7                             -0.039574\n",
       "employ_length__1                              0.039117\n",
       "months_since_last_record                      0.031075\n",
       "home_owner__MORTGAGE                          0.030660\n",
       "desc_len                                     -0.028737\n",
       "employ_length__3                              0.026102\n",
       "employ_length__4                             -0.023055\n",
       "initial_list_status__f                        0.023052\n",
       "address_state__CA                             0.021557\n",
       "address_state__KS                            -0.020120\n",
       "address_state__LA                            -0.019695\n",
       "employ_title__Engineer                        0.018629\n",
       "employ_title__Project_Manager                 0.015951\n",
       "address_state__GA                            -0.015855\n",
       "employ_title__US_Postal_Service              -0.014068\n",
       "months_since_earliest_credit                  0.013453\n",
       "loan_purpose__medical                        -0.009887\n",
       "address_state__NM                            -0.009573\n",
       "rir                                          -0.005760\n",
       "employ_length__2                              0.001016\n",
       "loan_term                                     0.000000\n",
       "Name: coeff, dtype: float64"
      ]
     },
     "execution_count": 22,
     "metadata": {},
     "output_type": "execute_result"
    }
   ],
   "source": [
    "lr_coeff.sort_values('abs', ascending=False).coeff"
   ]
  },
  {
   "cell_type": "code",
   "execution_count": 23,
   "metadata": {
    "collapsed": true
   },
   "outputs": [],
   "source": [
    "lr_probs = lr.predict_proba(x_expanded)[:,0]"
   ]
  },
  {
   "cell_type": "code",
   "execution_count": 24,
   "metadata": {
    "collapsed": false
   },
   "outputs": [
    {
     "data": {
      "image/png": "[encoded data removed]",
      "text/plain": [
       "<matplotlib.figure.Figure at 0x1debf358>"
      ]
     },
     "metadata": {},
     "output_type": "display_data"
    }
   ],
   "source": [
    "plt.hist(lr_probs ,bins=40)\n",
    "plt.show()"
   ]
  },
  {
   "cell_type": "code",
   "execution_count": 25,
   "metadata": {
    "collapsed": false
   },
   "outputs": [
    {
     "data": {
      "text/plain": [
       "0.00    1.000000\n",
       "0.05    0.240000\n",
       "0.10    0.542636\n",
       "0.15    0.576512\n",
       "0.20    0.638554\n",
       "0.25    0.646341\n",
       "0.30    0.709904\n",
       "0.35    0.771469\n",
       "0.40    0.794438\n",
       "0.45    0.837359\n",
       "0.50    0.858617\n",
       "0.55    0.877285\n",
       "0.60    0.897436\n",
       "0.65    0.919066\n",
       "0.70    0.939353\n",
       "0.75    0.952229\n",
       "0.80    0.971257\n",
       "0.85    0.970803\n",
       "0.90    0.978947\n",
       "0.95    1.000000\n",
       "Name: loan_status, dtype: float64"
      ]
     },
     "execution_count": 25,
     "metadata": {},
     "output_type": "execute_result"
    }
   ],
   "source": [
    "1 - y.groupby([int(p*20)/20.0 for p in lr_probs]).mean()"
   ]
  },
  {
   "cell_type": "code",
   "execution_count": 26,
   "metadata": {
    "collapsed": false
   },
   "outputs": [],
   "source": [
    "# probs = eval_model_with_threshold(lambda: Log_Reg())"
   ]
  },
  {
   "cell_type": "code",
   "execution_count": 27,
   "metadata": {
    "collapsed": false
   },
   "outputs": [],
   "source": [
    "# probs = eval_model_with_threshold(lambda: Log_Reg(class_weight='balanced'))"
   ]
  },
  {
   "cell_type": "code",
   "execution_count": 28,
   "metadata": {
    "collapsed": false
   },
   "outputs": [],
   "source": [
    "# VERY SLOW\n",
    "#probs = eval_model_with_threshold(lambda: SVC(\n",
    "#        random_state=1729,\n",
    "#        probability=True))"
   ]
  },
  {
   "cell_type": "markdown",
   "metadata": {},
   "source": [
    "#### Models with PCA"
   ]
  },
  {
   "cell_type": "code",
   "execution_count": 29,
   "metadata": {
    "collapsed": false,
    "scrolled": true
   },
   "outputs": [
    {
     "name": "stdout",
     "output_type": "stream",
     "text": [
      "all   score: 0.845  baseline: 0.845   1-prec: 0.848   f1: 0.039  | test score 0.152  1-prec 0.850 f1 0.260  GP 844MM\n",
      "2011  score: 0.886  baseline: 0.887   wscore: 0.888   f1: 0.035  | test score 0.895  1-prec 0.896\n",
      "2012  score: 0.867  baseline: 0.867   wscore: 0.868   f1: 0.010  | test score 0.862  1-prec 0.864\n",
      "2013  score: 0.816  baseline: 0.818   wscore: 0.823   f1: 0.085  | test score 0.823  1-prec 0.830\n"
     ]
    }
   ],
   "source": [
    "eval_model_by_year(lambda: Log_Reg(), x = x_expanded_pca, x_test = x_test_expanded_pca)"
   ]
  },
  {
   "cell_type": "code",
   "execution_count": 30,
   "metadata": {
    "collapsed": false
   },
   "outputs": [
    {
     "name": "stdout",
     "output_type": "stream",
     "text": [
      "all   score: 0.641  baseline: 0.845   1-prec: 0.906   f1: 0.354  | test score 0.368  1-prec 0.904 f1 0.153  GP 271MM\n",
      "2011  score: 0.631  baseline: 0.887   wscore: 0.916   f1: 0.249  | test score 0.630  1-prec 0.929\n",
      "2012  score: 0.629  baseline: 0.867   wscore: 0.914   f1: 0.305  | test score 0.608  1-prec 0.901\n",
      "2013  score: 0.645  baseline: 0.818   wscore: 0.888   f1: 0.393  | test score 0.636  1-prec 0.889\n"
     ]
    }
   ],
   "source": [
    "eval_model_by_year(lambda: Log_Reg(class_weight='balanced'), x = x_expanded_pca, x_test = x_test_expanded_pca)"
   ]
  },
  {
   "cell_type": "code",
   "execution_count": 31,
   "metadata": {
    "collapsed": false
   },
   "outputs": [
    {
     "name": "stdout",
     "output_type": "stream",
     "text": [
      "all   score: 0.641  baseline: 0.845   1-prec: 0.925   f1: 0.354  | test score 0.520  1-prec 0.923 f1 0.110  GP -33MM\n",
      "2011  score: 0.631  baseline: 0.887   wscore: 0.921   f1: 0.249  | test score 0.630  1-prec 0.941\n",
      "2012  score: 0.629  baseline: 0.867   wscore: 0.931   f1: 0.305  | test score 0.608  1-prec 0.921\n",
      "2013  score: 0.645  baseline: 0.818   wscore: 0.910   f1: 0.393  | test score 0.636  1-prec 0.912\n"
     ]
    }
   ],
   "source": [
    "eval_model_by_year(lambda: Log_Reg(class_weight='balanced'), prob_threshold=.6, \n",
    "                   x = x_expanded_pca, x_test = x_test_expanded_pca)"
   ]
  },
  {
   "cell_type": "code",
   "execution_count": 32,
   "metadata": {
    "collapsed": false,
    "scrolled": false
   },
   "outputs": [
    {
     "name": "stdout",
     "output_type": "stream",
     "text": [
      "all   score: 0.705  baseline: 0.845   1-prec: 0.867   f1: 0.270  | test score 0.328  1-prec 0.869 f1 0.215  GP 440MM\n",
      "2011  score: 0.687  baseline: 0.887   wscore: 0.896   f1: 0.194  | test score 0.726  1-prec 0.904\n",
      "2012  score: 0.702  baseline: 0.867   wscore: 0.881   f1: 0.225  | test score 0.699  1-prec 0.876\n",
      "2013  score: 0.707  baseline: 0.818   wscore: 0.841   f1: 0.288  | test score 0.689  1-prec 0.844\n"
     ]
    }
   ],
   "source": [
    "eval_model_by_year(lambda: QDA(), x = x_expanded_pca, x_test = x_test_expanded_pca)"
   ]
  },
  {
   "cell_type": "code",
   "execution_count": 33,
   "metadata": {
    "collapsed": false,
    "scrolled": true
   },
   "outputs": [
    {
     "name": "stdout",
     "output_type": "stream",
     "text": [
      "all   score: 0.845  baseline: 0.845   1-prec: 0.845   f1: 0.000  | test score 0.152  1-prec 0.848 f1 0.263  GP 851MM\n",
      "2011  score: 0.886  baseline: 0.887   wscore: 0.887   f1: 0.000  | test score 0.896  1-prec 0.896\n",
      "2012  score: 0.867  baseline: 0.867   wscore: 0.867   f1: 0.000  | test score 0.863  1-prec 0.863\n",
      "2013  score: 0.818  baseline: 0.818   wscore: 0.818   f1: 0.000  | test score 0.825  1-prec 0.825\n"
     ]
    }
   ],
   "source": [
    "eval_model_by_year(lambda: GBC(n_estimators = 10, max_depth = 2, learning_rate = 0.1),\n",
    "                  x = x_expanded_pca, x_test = x_test_expanded_pca)"
   ]
  },
  {
   "cell_type": "markdown",
   "metadata": {
    "collapsed": true
   },
   "source": [
    "## NLP Modeling"
   ]
  },
  {
   "cell_type": "markdown",
   "metadata": {},
   "source": [
    "#### Top Terms in Each Class"
   ]
  },
  {
   "cell_type": "code",
   "execution_count": 34,
   "metadata": {
    "collapsed": false
   },
   "outputs": [
    {
     "name": "stdout",
     "output_type": "stream",
     "text": [
      "all   score: 0.860  baseline: 0.860   1-prec: 0.860   f1: 0.000  | test score 0.142  1-prec 0.858 f1 0.248  GP 211MM\n",
      "2011  score: 0.899  baseline: 0.899   wscore: 0.899   f1: 0.000  | test score 0.899  1-prec 0.899\n",
      "2012  score: 0.865  baseline: 0.865   wscore: 0.865   f1: 0.000  | test score 0.866  1-prec 0.866\n",
      "2013  score: 0.834  baseline: 0.834   wscore: 0.834   f1: 0.000  | test score 0.827  1-prec 0.827\n"
     ]
    }
   ],
   "source": [
    "eval_model_by_year(lambda: Log_Reg(), x = count_cols_bool_train, x_test = count_cols_bool_test, \n",
    "                   y = y_nlp_train, y_test = y_nlp_test, years = years_nlp, years_test = years_nlp_test,\n",
    "                  profit_data_test = x_nlp_test)"
   ]
  },
  {
   "cell_type": "code",
   "execution_count": 35,
   "metadata": {
    "collapsed": false
   },
   "outputs": [
    {
     "name": "stdout",
     "output_type": "stream",
     "text": [
      "all   score: 0.465  baseline: 0.860   1-prec: 0.862   f1: 0.219  | test score 0.566  1-prec 0.857 f1 0.212  GP -9MM\n",
      "2011  score: 0.739  baseline: 0.899   wscore: 0.896   f1: 0.110  | test score 0.849  1-prec 0.900\n",
      "2012  score: 0.790  baseline: 0.865   wscore: 0.866   f1: 0.119  | test score 0.713  1-prec 0.864\n",
      "2013  score: 0.244  baseline: 0.834   wscore: 0.824   f1: 0.274  | test score 0.464  1-prec 0.823\n"
     ]
    }
   ],
   "source": [
    "eval_model_by_year(lambda: Log_Reg(C = 10 ** -6, class_weight = 'balanced'), \n",
    "                   x = count_cols_bool_train, x_test = count_cols_bool_test, \n",
    "                   y = y_nlp_train, y_test = y_nlp_test, years = years_nlp, years_test = years_nlp_test,\n",
    "                  profit_data_test = x_nlp_test)"
   ]
  },
  {
   "cell_type": "code",
   "execution_count": 36,
   "metadata": {
    "collapsed": false
   },
   "outputs": [
    {
     "name": "stdout",
     "output_type": "stream",
     "text": [
      "all   score: 0.558  baseline: 0.860   1-prec: nan   f1: 0.212  | test score 0.858  1-prec 0.909 f1 0.001  GP -159MM\n",
      "2011  score: 0.555  baseline: 0.899   wscore: 0.905   f1: 0.158  | test score 0.550  1-prec 0.876\n",
      "2012  score: 0.478  baseline: 0.865   wscore: 0.911   f1: 0.218  | test score 0.458  1-prec 0.837\n",
      "2013  score: 0.534  baseline: 0.834   wscore: 0.847   f1: 0.233  | test score 0.471  1-prec 0.853\n"
     ]
    }
   ],
   "source": [
    "eval_model_by_year(lambda: Log_Reg(class_weight = 'balanced'), prob_threshold = 0.6,\n",
    "                   x = count_cols_bool_train, x_test = count_cols_bool_test, \n",
    "                   y = y_nlp_train, y_test = y_nlp_test, years = years_nlp, years_test = years_nlp_test,\n",
    "                  profit_data_test = x_nlp_test)"
   ]
  },
  {
   "cell_type": "code",
   "execution_count": 37,
   "metadata": {
    "collapsed": false,
    "scrolled": true
   },
   "outputs": [
    {
     "name": "stdout",
     "output_type": "stream",
     "text": [
      "all   score: 0.860  baseline: 0.860   1-prec: 0.860   f1: 0.000  | test score 0.142  1-prec 0.858 f1 0.248  GP 211MM\n",
      "2011  score: 0.899  baseline: 0.899   wscore: 0.899   f1: 0.000  | test score 0.899  1-prec 0.899\n",
      "2012  score: 0.865  baseline: 0.865   wscore: 0.865   f1: 0.000  | test score 0.866  1-prec 0.866\n",
      "2013  score: 0.834  baseline: 0.834   wscore: 0.834   f1: 0.000  | test score 0.827  1-prec 0.827\n"
     ]
    }
   ],
   "source": [
    "eval_model_by_year(lambda: QDA(reg_param = 1), x = count_cols_bool_train, x_test = count_cols_bool_test, \n",
    "                   y = y_nlp_train, y_test = y_nlp_test, years = years_nlp, years_test = years_nlp_test,\n",
    "                  profit_data_test = x_nlp_test)"
   ]
  },
  {
   "cell_type": "code",
   "execution_count": 38,
   "metadata": {
    "collapsed": false,
    "scrolled": true
   },
   "outputs": [
    {
     "name": "stdout",
     "output_type": "stream",
     "text": [
      "all   score: 0.860  baseline: 0.860   1-prec: 0.860   f1: 0.000  | test score 0.142  1-prec 0.858 f1 0.248  GP 211MM\n",
      "2011  score: 0.899  baseline: 0.899   wscore: 0.899   f1: 0.000  | test score 0.899  1-prec 0.899\n",
      "2012  score: 0.865  baseline: 0.865   wscore: 0.865   f1: 0.000  | test score 0.866  1-prec 0.866\n",
      "2013  score: 0.834  baseline: 0.834   wscore: 0.834   f1: 0.000  | test score 0.827  1-prec 0.827\n"
     ]
    }
   ],
   "source": [
    "eval_model_by_year(lambda: RFC(random_state=1729, max_depth=5, n_estimators=300),\n",
    "                    x = count_cols_bool_train, x_test = count_cols_bool_test, \n",
    "                   y = y_nlp_train, y_test = y_nlp_test, years = years_nlp, years_test = years_nlp_test,\n",
    "                  profit_data_test = x_nlp_test)"
   ]
  },
  {
   "cell_type": "code",
   "execution_count": 39,
   "metadata": {
    "collapsed": false
   },
   "outputs": [
    {
     "name": "stdout",
     "output_type": "stream",
     "text": [
      "all   score: 0.627  baseline: 0.860   1-prec: 0.861   f1: 0.197  | test score 0.375  1-prec 0.858 f1 0.234  GP 88MM\n",
      "2011  score: 0.713  baseline: 0.899   wscore: 0.897   f1: 0.130  | test score 0.729  1-prec 0.895\n",
      "2012  score: 0.531  baseline: 0.865   wscore: 0.868   f1: 0.215  | test score 0.486  1-prec 0.861\n",
      "2013  score: 0.636  baseline: 0.834   wscore: 0.833   f1: 0.206  | test score 0.551  1-prec 0.822\n"
     ]
    }
   ],
   "source": [
    "eval_model_by_year(lambda: RFC(random_state=1729, max_depth=5, n_estimators=300, class_weight = 'balanced'),\n",
    "                    x = count_cols_bool_train, x_test = count_cols_bool_test, \n",
    "                   y = y_nlp_train, y_test = y_nlp_test, years = years_nlp, years_test = years_nlp_test,\n",
    "                  profit_data_test = x_nlp_test)"
   ]
  },
  {
   "cell_type": "code",
   "execution_count": 40,
   "metadata": {
    "collapsed": false
   },
   "outputs": [
    {
     "name": "stdout",
     "output_type": "stream",
     "text": [
      "all   score: 0.860  baseline: 0.860   1-prec: 0.860   f1: 0.000  | test score 0.142  1-prec 0.858 f1 0.248  GP 211MM\n",
      "2011  score: 0.899  baseline: 0.899   wscore: 0.899   f1: 0.000  | test score 0.899  1-prec 0.899\n",
      "2012  score: 0.865  baseline: 0.865   wscore: 0.865   f1: 0.000  | test score 0.866  1-prec 0.866\n",
      "2013  score: 0.834  baseline: 0.834   wscore: 0.834   f1: 0.000  | test score 0.827  1-prec 0.827\n"
     ]
    }
   ],
   "source": [
    "eval_model_by_year(lambda: GBC(n_estimators = 10, max_depth = 2, learning_rate = 0.1),\n",
    "                    x = count_cols_bool_train, x_test = count_cols_bool_test, \n",
    "                   y = y_nlp_train, y_test = y_nlp_test, years = years_nlp, years_test = years_nlp_test,\n",
    "                  profit_data_test = x_nlp_test)"
   ]
  },
  {
   "cell_type": "markdown",
   "metadata": {},
   "source": [
    "#### Full Document-Term Matrix (Reduced with PCA)"
   ]
  },
  {
   "cell_type": "code",
   "execution_count": 41,
   "metadata": {
    "collapsed": false
   },
   "outputs": [
    {
     "ename": "NameError",
     "evalue": "name 'desc_matrix_pca' is not defined",
     "output_type": "error",
     "traceback": [
      "\u001b[0;31m---------------------------------------------------------------------------\u001b[0m",
      "\u001b[0;31mNameError\u001b[0m                                 Traceback (most recent call last)",
      "\u001b[0;32m<ipython-input-41-0f5cf3333b87>\u001b[0m in \u001b[0;36m<module>\u001b[0;34m()\u001b[0m\n\u001b[0;32m----> 1\u001b[0;31m eval_model_by_year(lambda: Log_Reg(), x = desc_matrix_pca, x_test = desc_matrix_test_pca, \n\u001b[0m\u001b[1;32m      2\u001b[0m                    y = y_nlp_train, y_test = y_nlp_test, years = years_nlp, years_test = years_nlp_test)\n",
      "\u001b[0;31mNameError\u001b[0m: name 'desc_matrix_pca' is not defined"
     ]
    }
   ],
   "source": [
    "eval_model_by_year(lambda: Log_Reg(), x = desc_matrix_pca, x_test = desc_matrix_test_pca, \n",
    "                   y = y_nlp_train, y_test = y_nlp_test, years = years_nlp, years_test = years_nlp_test)"
   ]
  },
  {
   "cell_type": "code",
   "execution_count": null,
   "metadata": {
    "collapsed": false
   },
   "outputs": [],
   "source": [
    "eval_model_by_year(lambda: Log_Reg(class_weight = 'balanced'), x = desc_matrix_pca, x_test = desc_matrix_test_pca, \n",
    "                   y = y_nlp_train, y_test = y_nlp_test, years = years_nlp, years_test = years_nlp_test)"
   ]
  },
  {
   "cell_type": "code",
   "execution_count": null,
   "metadata": {
    "collapsed": false,
    "scrolled": true
   },
   "outputs": [],
   "source": [
    "eval_model_by_year(lambda: GBC(n_estimators = 10, max_depth = 2, learning_rate = 0.1),\n",
    "                    x = desc_matrix_pca, x_test = desc_matrix_test_pca,\n",
    "                   y = y_nlp_train, y_test = y_nlp_test, years = years_nlp, years_test = years_nlp_test)"
   ]
  },
  {
   "cell_type": "markdown",
   "metadata": {
    "collapsed": true
   },
   "source": [
    "## Stacking"
   ]
  },
  {
   "cell_type": "code",
   "execution_count": null,
   "metadata": {
    "collapsed": false
   },
   "outputs": [],
   "source": [
    "# function to create model stack\n",
    "def create_model_stack(x_train, y_train):\n",
    "    model_stack = []\n",
    "\n",
    "    model_stack.append(Log_Reg(C = 10 ** -5, class_weight = 'balanced').fit(x_train, y_train))\n",
    "    model_stack.append(LDA(shrinkage = 1, solver = 'lsqr').fit(x_train, y_train))\n",
    "    model_stack.append(QDA(reg_param = 1).fit(x_train, y_train))\n",
    "    model_stack.append(RFC(n_estimators = 300, max_depth = 5, class_weight = 'balanced').fit(x_train, y_train))\n",
    "    model_stack.append(GBC(n_estimators = 10, max_depth = 2, learning_rate = 0.1).fit(x_train, y_train))\n",
    "    model_stack.append(DTC(max_depth = 10, max_features = 'log2', class_weight = 'balanced', \n",
    "                           criterion = 'gini').fit(x_train, y_train))\n",
    "    model_stack.append(DTC(max_depth = 20, max_features = 'sqrt', class_weight = 'balanced', \n",
    "                           criterion = 'entropy').fit(x_train, y_train))\n",
    "    model_stack.append(DTC(max_depth = 20, max_features = None, \n",
    "                           criterion = 'entropy').fit(x_train, y_train))\n",
    "    #model_stack.append(SVC(class_weight = 'balanced').fit(x_train, y_train))\n",
    "    \n",
    "    return model_stack"
   ]
  },
  {
   "cell_type": "code",
   "execution_count": null,
   "metadata": {
    "collapsed": false
   },
   "outputs": [],
   "source": [
    "# function to fit and score a stacking ensemble\n",
    "# TO DO: CV\n",
    "def fit_score_stacking(model_stack, x_train, y_train, x_test, y_test, combiner):\n",
    "    n_train = x_train.shape[0]\n",
    "    n_test = x_test.shape[0]\n",
    "    num_models = len(model_stack)\n",
    "\n",
    "    # create variables to hold predictions\n",
    "    y_train_stack = np.zeros((n_train, num_models))\n",
    "    y_test_stack = np.zeros((n_test, num_models))\n",
    "\n",
    "    # predict with each model on training and testing data\n",
    "    for index in range(num_models):\n",
    "        model = model_stack[index]\n",
    "        y_train_stack[:, index] = model.predict(x_train)\n",
    "        y_test_stack[:, index] = model.predict(x_test)\n",
    "\n",
    "    # fit and predict with ensemble\n",
    "    combiner.fit(y_train_stack, y_train)\n",
    "    test_y_hat = combiner.predict(y_test_stack)\n",
    "    \n",
    "    # score with ensemble\n",
    "    score = combiner.score(y_train_stack, y_train)\n",
    "    test_score = combiner.score(y_test_stack, y_test)\n",
    "    cm = confusion_matrix(y_test, test_y_hat)\n",
    "    test_f1 = f1_score(y_test, test_y_hat, pos_label = 1)\n",
    "    test_precision = 1 - y_test[test_y_hat].mean()\n",
    "    \n",
    "    # format confusion matrix\n",
    "    cm_df = pd.DataFrame(cm, columns = [\"Predicted_bad\", \"Predicted_good\"])\n",
    "    row_labels = pd.DataFrame([\"Actual_bad\", \"Actual_good\"])\n",
    "    cm_df = pd.concat((row_labels, cm_df), axis = 1)\n",
    "    \n",
    "    profit_mm = calc_expected_profit(profit_data_test, test_y_hat)\n",
    "\n",
    "    return score, test_score, cm_df, test_f1, test_precision, profit_mm"
   ]
  },
  {
   "cell_type": "code",
   "execution_count": null,
   "metadata": {
    "collapsed": true
   },
   "outputs": [],
   "source": [
    "# fit and score a stacked model for given predictors and response\n",
    "def try_one_stacked_model(model_stack, x_train, y_train, x_test, y_test, combiner):\n",
    "\n",
    "    score, test_score, cm_df, test_f1, test_precision, profit_mm = \\\n",
    "        fit_score_stacking(model_stack, x_train, y_train, x_test, y_test, combiner)\n",
    "\n",
    "    print \"%d  score: %.3f  baseline: %.3f   wscore: ----   f1: ----  | test score %.3f  1-prec %.3f f1 %.3f  GP %dMM\" \\\n",
    "         % (0, score, 1 - y_train.mean(), test_score, test_precision, test_f1, profit_mm)"
   ]
  },
  {
   "cell_type": "markdown",
   "metadata": {},
   "source": [
    "#### Regular Data"
   ]
  },
  {
   "cell_type": "code",
   "execution_count": null,
   "metadata": {
    "collapsed": false
   },
   "outputs": [],
   "source": [
    "model_stack = create_model_stack(x_expanded, y)"
   ]
  },
  {
   "cell_type": "code",
   "execution_count": null,
   "metadata": {
    "collapsed": false,
    "scrolled": true
   },
   "outputs": [],
   "source": [
    "combiner = Log_Reg(C = 10 ** -5, class_weight = 'balanced', penalty = 'l2', solver = 'liblinear')\n",
    "try_one_stacked_model(model_stack, x_expanded, y, x_test_expanded, y_test, combiner)"
   ]
  },
  {
   "cell_type": "code",
   "execution_count": null,
   "metadata": {
    "collapsed": false
   },
   "outputs": [],
   "source": [
    "combiner = RFC(class_weight = 'balanced')\n",
    "try_one_stacked_model(model_stack, x_expanded, y, x_test_expanded, y_test, combiner)"
   ]
  },
  {
   "cell_type": "markdown",
   "metadata": {
    "collapsed": true
   },
   "source": [
    "## Visualizations"
   ]
  },
  {
   "cell_type": "code",
   "execution_count": 43,
   "metadata": {
    "collapsed": false
   },
   "outputs": [
    {
     "data": {
      "text/html": [
       "<div>\n",
       "<table border=\"1\" class=\"dataframe\">\n",
       "  <thead>\n",
       "    <tr style=\"text-align: right;\">\n",
       "      <th></th>\n",
       "      <th>baseline</th>\n",
       "      <th>f1</th>\n",
       "      <th>prec</th>\n",
       "      <th>score</th>\n",
       "      <th>test_f1</th>\n",
       "      <th>test_prec</th>\n",
       "      <th>test_profit</th>\n",
       "      <th>test_score</th>\n",
       "    </tr>\n",
       "  </thead>\n",
       "  <tbody>\n",
       "    <tr>\n",
       "      <th>Always 1</th>\n",
       "      <td>0.845479</td>\n",
       "      <td>0.000000</td>\n",
       "      <td>0.845479</td>\n",
       "      <td>0.845479</td>\n",
       "      <td>0.263391</td>\n",
       "      <td>0.848331</td>\n",
       "      <td>851.209909</td>\n",
       "      <td>0.151669</td>\n",
       "    </tr>\n",
       "    <tr>\n",
       "      <th>DTC</th>\n",
       "      <td>0.845479</td>\n",
       "      <td>0.244964</td>\n",
       "      <td>0.859962</td>\n",
       "      <td>0.692125</td>\n",
       "      <td>0.218234</td>\n",
       "      <td>0.867555</td>\n",
       "      <td>424.530871</td>\n",
       "      <td>0.326816</td>\n",
       "    </tr>\n",
       "    <tr>\n",
       "      <th>DTC log2 balanced</th>\n",
       "      <td>0.845479</td>\n",
       "      <td>0.303023</td>\n",
       "      <td>0.882010</td>\n",
       "      <td>0.622293</td>\n",
       "      <td>0.193409</td>\n",
       "      <td>0.880325</td>\n",
       "      <td>304.316430</td>\n",
       "      <td>0.362631</td>\n",
       "    </tr>\n",
       "    <tr>\n",
       "      <th>DTC sqrt balanced</th>\n",
       "      <td>0.845479</td>\n",
       "      <td>0.269902</td>\n",
       "      <td>0.867174</td>\n",
       "      <td>0.668747</td>\n",
       "      <td>0.225089</td>\n",
       "      <td>0.863955</td>\n",
       "      <td>428.014474</td>\n",
       "      <td>0.319620</td>\n",
       "    </tr>\n",
       "    <tr>\n",
       "      <th>GBC</th>\n",
       "      <td>0.845479</td>\n",
       "      <td>0.000000</td>\n",
       "      <td>0.845479</td>\n",
       "      <td>0.845479</td>\n",
       "      <td>0.263391</td>\n",
       "      <td>0.848331</td>\n",
       "      <td>851.209909</td>\n",
       "      <td>0.151669</td>\n",
       "    </tr>\n",
       "    <tr>\n",
       "      <th>GradientBoostingClassifier</th>\n",
       "      <td>0.860461</td>\n",
       "      <td>0.000000</td>\n",
       "      <td>0.860461</td>\n",
       "      <td>0.860461</td>\n",
       "      <td>0.248382</td>\n",
       "      <td>0.858198</td>\n",
       "      <td>211.123874</td>\n",
       "      <td>0.141802</td>\n",
       "    </tr>\n",
       "    <tr>\n",
       "      <th>LogReg</th>\n",
       "      <td>0.845479</td>\n",
       "      <td>0.042630</td>\n",
       "      <td>0.847730</td>\n",
       "      <td>0.844465</td>\n",
       "      <td>0.260253</td>\n",
       "      <td>0.850012</td>\n",
       "      <td>842.663672</td>\n",
       "      <td>0.152731</td>\n",
       "    </tr>\n",
       "    <tr>\n",
       "      <th>LogReg balanced</th>\n",
       "      <td>0.845479</td>\n",
       "      <td>0.352713</td>\n",
       "      <td>0.905071</td>\n",
       "      <td>0.643035</td>\n",
       "      <td>0.154849</td>\n",
       "      <td>0.902932</td>\n",
       "      <td>274.356838</td>\n",
       "      <td>0.366575</td>\n",
       "    </tr>\n",
       "    <tr>\n",
       "      <th>LogReg balanced .6</th>\n",
       "      <td>0.845479</td>\n",
       "      <td>0.352713</td>\n",
       "      <td>0.922512</td>\n",
       "      <td>0.643035</td>\n",
       "      <td>0.113723</td>\n",
       "      <td>0.921365</td>\n",
       "      <td>-17.055165</td>\n",
       "      <td>0.514537</td>\n",
       "    </tr>\n",
       "    <tr>\n",
       "      <th>LogisticRegression</th>\n",
       "      <td>0.860461</td>\n",
       "      <td>0.211713</td>\n",
       "      <td>NaN</td>\n",
       "      <td>0.558212</td>\n",
       "      <td>0.000943</td>\n",
       "      <td>0.909091</td>\n",
       "      <td>-159.363554</td>\n",
       "      <td>0.857594</td>\n",
       "    </tr>\n",
       "    <tr>\n",
       "      <th>QDA</th>\n",
       "      <td>0.845479</td>\n",
       "      <td>0.135040</td>\n",
       "      <td>0.853155</td>\n",
       "      <td>0.835844</td>\n",
       "      <td>0.249529</td>\n",
       "      <td>0.855666</td>\n",
       "      <td>798.946471</td>\n",
       "      <td>0.160484</td>\n",
       "    </tr>\n",
       "    <tr>\n",
       "      <th>QuadraticDiscriminantAnalysis</th>\n",
       "      <td>0.860461</td>\n",
       "      <td>0.000000</td>\n",
       "      <td>0.860461</td>\n",
       "      <td>0.860461</td>\n",
       "      <td>0.248382</td>\n",
       "      <td>0.858198</td>\n",
       "      <td>211.123874</td>\n",
       "      <td>0.141802</td>\n",
       "    </tr>\n",
       "    <tr>\n",
       "      <th>RFC 5/300</th>\n",
       "      <td>0.845479</td>\n",
       "      <td>0.000000</td>\n",
       "      <td>0.845479</td>\n",
       "      <td>0.845479</td>\n",
       "      <td>0.263391</td>\n",
       "      <td>0.848331</td>\n",
       "      <td>851.209909</td>\n",
       "      <td>0.151669</td>\n",
       "    </tr>\n",
       "    <tr>\n",
       "      <th>RFC balanced 5/300</th>\n",
       "      <td>0.845479</td>\n",
       "      <td>0.354164</td>\n",
       "      <td>0.902417</td>\n",
       "      <td>0.659872</td>\n",
       "      <td>0.162693</td>\n",
       "      <td>0.898784</td>\n",
       "      <td>312.192548</td>\n",
       "      <td>0.353092</td>\n",
       "    </tr>\n",
       "    <tr>\n",
       "      <th>RandomForestClassifier</th>\n",
       "      <td>0.860461</td>\n",
       "      <td>0.196577</td>\n",
       "      <td>0.861154</td>\n",
       "      <td>0.627240</td>\n",
       "      <td>0.234044</td>\n",
       "      <td>0.858353</td>\n",
       "      <td>88.578043</td>\n",
       "      <td>0.375227</td>\n",
       "    </tr>\n",
       "    <tr>\n",
       "      <th>SmallBusiness</th>\n",
       "      <td>0.845479</td>\n",
       "      <td>0.049970</td>\n",
       "      <td>0.846947</td>\n",
       "      <td>0.835286</td>\n",
       "      <td>0.259792</td>\n",
       "      <td>0.850020</td>\n",
       "      <td>819.618185</td>\n",
       "      <td>0.161647</td>\n",
       "    </tr>\n",
       "  </tbody>\n",
       "</table>\n",
       "</div>"
      ],
      "text/plain": [
       "                               baseline        f1      prec     score  \\\n",
       "Always 1                       0.845479  0.000000  0.845479  0.845479   \n",
       "DTC                            0.845479  0.244964  0.859962  0.692125   \n",
       "DTC log2 balanced              0.845479  0.303023  0.882010  0.622293   \n",
       "DTC sqrt balanced              0.845479  0.269902  0.867174  0.668747   \n",
       "GBC                            0.845479  0.000000  0.845479  0.845479   \n",
       "GradientBoostingClassifier     0.860461  0.000000  0.860461  0.860461   \n",
       "LogReg                         0.845479  0.042630  0.847730  0.844465   \n",
       "LogReg balanced                0.845479  0.352713  0.905071  0.643035   \n",
       "LogReg balanced .6             0.845479  0.352713  0.922512  0.643035   \n",
       "LogisticRegression             0.860461  0.211713       NaN  0.558212   \n",
       "QDA                            0.845479  0.135040  0.853155  0.835844   \n",
       "QuadraticDiscriminantAnalysis  0.860461  0.000000  0.860461  0.860461   \n",
       "RFC 5/300                      0.845479  0.000000  0.845479  0.845479   \n",
       "RFC balanced 5/300             0.845479  0.354164  0.902417  0.659872   \n",
       "RandomForestClassifier         0.860461  0.196577  0.861154  0.627240   \n",
       "SmallBusiness                  0.845479  0.049970  0.846947  0.835286   \n",
       "\n",
       "                                test_f1  test_prec  test_profit  test_score  \n",
       "Always 1                       0.263391   0.848331   851.209909    0.151669  \n",
       "DTC                            0.218234   0.867555   424.530871    0.326816  \n",
       "DTC log2 balanced              0.193409   0.880325   304.316430    0.362631  \n",
       "DTC sqrt balanced              0.225089   0.863955   428.014474    0.319620  \n",
       "GBC                            0.263391   0.848331   851.209909    0.151669  \n",
       "GradientBoostingClassifier     0.248382   0.858198   211.123874    0.141802  \n",
       "LogReg                         0.260253   0.850012   842.663672    0.152731  \n",
       "LogReg balanced                0.154849   0.902932   274.356838    0.366575  \n",
       "LogReg balanced .6             0.113723   0.921365   -17.055165    0.514537  \n",
       "LogisticRegression             0.000943   0.909091  -159.363554    0.857594  \n",
       "QDA                            0.249529   0.855666   798.946471    0.160484  \n",
       "QuadraticDiscriminantAnalysis  0.248382   0.858198   211.123874    0.141802  \n",
       "RFC 5/300                      0.263391   0.848331   851.209909    0.151669  \n",
       "RFC balanced 5/300             0.162693   0.898784   312.192548    0.353092  \n",
       "RandomForestClassifier         0.234044   0.858353    88.578043    0.375227  \n",
       "SmallBusiness                  0.259792   0.850020   819.618185    0.161647  "
      ]
     },
     "execution_count": 43,
     "metadata": {},
     "output_type": "execute_result"
    }
   ],
   "source": [
    "pd.DataFrame(model_performance).T"
   ]
  },
  {
   "cell_type": "code",
   "execution_count": 51,
   "metadata": {
    "collapsed": false
   },
   "outputs": [
    {
     "data": {
      "image/png": "[encoded data removed]",
      "text/plain": [
       "<matplotlib.figure.Figure at 0x3d71c550>"
      ]
     },
     "metadata": {},
     "output_type": "display_data"
    },
    {
     "data": {
      "image/png": "[encoded data removed]",
      "text/plain": [
       "<matplotlib.figure.Figure at 0x1db79eb8>"
      ]
     },
     "metadata": {},
     "output_type": "display_data"
    },
    {
     "data": {
      "image/png": "[encoded data removed]",
      "text/plain": [
       "<matplotlib.figure.Figure at 0x369dcc88>"
      ]
     },
     "metadata": {},
     "output_type": "display_data"
    },
    {
     "data": {
      "image/png": "[encoded data removed]",
      "text/plain": [
       "<matplotlib.figure.Figure at 0x3c249c88>"
      ]
     },
     "metadata": {},
     "output_type": "display_data"
    },
    {
     "data": {
      "image/png": "[encoded data removed]",
      "text/plain": [
       "<matplotlib.figure.Figure at 0x368a3fd0>"
      ]
     },
     "metadata": {},
     "output_type": "display_data"
    },
    {
     "data": {
      "image/png": "[encoded data removed]",
      "text/plain": [
       "<matplotlib.figure.Figure at 0x3d105160>"
      ]
     },
     "metadata": {},
     "output_type": "display_data"
    },
    {
     "data": {
      "image/png": "[encoded data removed]",
      "text/plain": [
       "<matplotlib.figure.Figure at 0x3e85a908>"
      ]
     },
     "metadata": {},
     "output_type": "display_data"
    },
    {
     "data": {
      "image/png": "[encoded data removed]",
      "text/plain": [
       "<matplotlib.figure.Figure at 0x3684c470>"
      ]
     },
     "metadata": {},
     "output_type": "display_data"
    }
   ],
   "source": [
    "model_performance_df = pd.DataFrame(model_performance).T\n",
    "for col in model_performance_df.columns:\n",
    "    model_performance_df[col].sort_values().plot(kind='barh')\n",
    "    plt.title(col)\n",
    "    plt.show()"
   ]
  },
  {
   "cell_type": "code",
   "execution_count": null,
   "metadata": {
    "collapsed": true
   },
   "outputs": [],
   "source": []
  }
 ],
 "metadata": {
  "anaconda-cloud": {},
  "kernelspec": {
   "display_name": "Python [amg1]",
   "language": "python",
   "name": "Python [amg1]"
  },
  "language_info": {
   "codemirror_mode": {
    "name": "ipython",
    "version": 2
   },
   "file_extension": ".py",
   "mimetype": "text/x-python",
   "name": "python",
   "nbconvert_exporter": "python",
   "pygments_lexer": "ipython2",
   "version": "2.7.12"
  }
 },
 "nbformat": 4,
 "nbformat_minor": 0
}
